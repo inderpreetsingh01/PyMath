{
  "nbformat": 4,
  "nbformat_minor": 0,
  "metadata": {
    "colab": {
      "provenance": [],
      "authorship_tag": "ABX9TyMd8/kVrjDIvrv7hjMJmd8D",
      "include_colab_link": true
    },
    "kernelspec": {
      "name": "python3",
      "display_name": "Python 3"
    },
    "language_info": {
      "name": "python"
    }
  },
  "cells": [
    {
      "cell_type": "markdown",
      "metadata": {
        "id": "view-in-github",
        "colab_type": "text"
      },
      "source": [
        "<a href=\"https://colab.research.google.com/github/inderpreetsingh01/PyMath/blob/main/Pandas_SQL_Practice.ipynb\" target=\"_parent\"><img src=\"https://colab.research.google.com/assets/colab-badge.svg\" alt=\"Open In Colab\"/></a>"
      ]
    },
    {
      "cell_type": "code",
      "execution_count": 1,
      "metadata": {
        "id": "jSnKmYuCUPYH"
      },
      "outputs": [],
      "source": [
        "import pandas as pd\n",
        "import numpy as np"
      ]
    },
    {
      "cell_type": "code",
      "source": [
        "# q1. Find all numbers that appear at least three times consecutively.\n",
        "def consecutive_numbers1(logs: pd.DataFrame, min_consecutive) -> pd.DataFrame:\n",
        "    rolling_windows = logs['num'].rolling(min_consecutive)\n",
        "    mask = rolling_windows.var() == 0\n",
        "    unique_nums = logs[mask]['num'].unique()\n",
        "    return pd.DataFrame({\"ConsecutiveNums\":[] if not unique_nums else unique_nums})\n",
        "\n",
        "def consecutive_numbers2(logs: pd.DataFrame, min_consecutive) -> pd.DataFrame:\n",
        "    rolling_windows = logs['num'].rolling(min_consecutive)\n",
        "    mask = rolling_windows.apply(lambda x:x.nunique()==1)==1\n",
        "    unique_nums = logs[mask]['num'].unique()\n",
        "    return pd.DataFrame({\"ConsecutiveNums\":[] if not unique_nums else unique_nums})\n",
        "\n",
        "\n",
        "# SQL Solution\n",
        "# with cte as (\n",
        "#     select num,\n",
        "#     lead(num,1) over() num1,\n",
        "#     lead(num,2) over() num2\n",
        "#     from logs\n",
        "# )\n",
        "# select distinct num as ConsecutiveNums\n",
        "# from cte\n",
        "# where num1=num2 and num=num1\n",
        "\n",
        "# SELECT DISTINCT a.num\n",
        "# FROM numbers_table a\n",
        "# JOIN numbers_table b ON a.num = b.num AND b.id = a.id + 1\n",
        "# JOIN numbers_table c ON a.num = c.num AND c.id = a.id + 2;"
      ],
      "metadata": {
        "id": "4pX8h5C9UcPQ"
      },
      "execution_count": 43,
      "outputs": []
    },
    {
      "cell_type": "code",
      "source": [
        "logs = pd.DataFrame({\"id\":np.arange(1, 8), \"num\":[1,1,1,2,1,2,2]})\n",
        "min_consecutive = 3\n",
        "consecutive_numbers2(logs, min_consecutive)"
      ],
      "metadata": {
        "colab": {
          "base_uri": "https://localhost:8080/",
          "height": 81
        },
        "id": "R98NJL__Yoxl",
        "outputId": "75512ab0-a49e-4f26-b99f-4cad2a135213"
      },
      "execution_count": 42,
      "outputs": [
        {
          "output_type": "execute_result",
          "data": {
            "text/plain": [
              "   ConsecutiveNums\n",
              "0                1"
            ],
            "text/html": [
              "\n",
              "  <div id=\"df-6c5719b8-38b7-477f-bab5-0388a63203f3\" class=\"colab-df-container\">\n",
              "    <div>\n",
              "<style scoped>\n",
              "    .dataframe tbody tr th:only-of-type {\n",
              "        vertical-align: middle;\n",
              "    }\n",
              "\n",
              "    .dataframe tbody tr th {\n",
              "        vertical-align: top;\n",
              "    }\n",
              "\n",
              "    .dataframe thead th {\n",
              "        text-align: right;\n",
              "    }\n",
              "</style>\n",
              "<table border=\"1\" class=\"dataframe\">\n",
              "  <thead>\n",
              "    <tr style=\"text-align: right;\">\n",
              "      <th></th>\n",
              "      <th>ConsecutiveNums</th>\n",
              "    </tr>\n",
              "  </thead>\n",
              "  <tbody>\n",
              "    <tr>\n",
              "      <th>0</th>\n",
              "      <td>1</td>\n",
              "    </tr>\n",
              "  </tbody>\n",
              "</table>\n",
              "</div>\n",
              "    <div class=\"colab-df-buttons\">\n",
              "\n",
              "  <div class=\"colab-df-container\">\n",
              "    <button class=\"colab-df-convert\" onclick=\"convertToInteractive('df-6c5719b8-38b7-477f-bab5-0388a63203f3')\"\n",
              "            title=\"Convert this dataframe to an interactive table.\"\n",
              "            style=\"display:none;\">\n",
              "\n",
              "  <svg xmlns=\"http://www.w3.org/2000/svg\" height=\"24px\" viewBox=\"0 -960 960 960\">\n",
              "    <path d=\"M120-120v-720h720v720H120Zm60-500h600v-160H180v160Zm220 220h160v-160H400v160Zm0 220h160v-160H400v160ZM180-400h160v-160H180v160Zm440 0h160v-160H620v160ZM180-180h160v-160H180v160Zm440 0h160v-160H620v160Z\"/>\n",
              "  </svg>\n",
              "    </button>\n",
              "\n",
              "  <style>\n",
              "    .colab-df-container {\n",
              "      display:flex;\n",
              "      gap: 12px;\n",
              "    }\n",
              "\n",
              "    .colab-df-convert {\n",
              "      background-color: #E8F0FE;\n",
              "      border: none;\n",
              "      border-radius: 50%;\n",
              "      cursor: pointer;\n",
              "      display: none;\n",
              "      fill: #1967D2;\n",
              "      height: 32px;\n",
              "      padding: 0 0 0 0;\n",
              "      width: 32px;\n",
              "    }\n",
              "\n",
              "    .colab-df-convert:hover {\n",
              "      background-color: #E2EBFA;\n",
              "      box-shadow: 0px 1px 2px rgba(60, 64, 67, 0.3), 0px 1px 3px 1px rgba(60, 64, 67, 0.15);\n",
              "      fill: #174EA6;\n",
              "    }\n",
              "\n",
              "    .colab-df-buttons div {\n",
              "      margin-bottom: 4px;\n",
              "    }\n",
              "\n",
              "    [theme=dark] .colab-df-convert {\n",
              "      background-color: #3B4455;\n",
              "      fill: #D2E3FC;\n",
              "    }\n",
              "\n",
              "    [theme=dark] .colab-df-convert:hover {\n",
              "      background-color: #434B5C;\n",
              "      box-shadow: 0px 1px 3px 1px rgba(0, 0, 0, 0.15);\n",
              "      filter: drop-shadow(0px 1px 2px rgba(0, 0, 0, 0.3));\n",
              "      fill: #FFFFFF;\n",
              "    }\n",
              "  </style>\n",
              "\n",
              "    <script>\n",
              "      const buttonEl =\n",
              "        document.querySelector('#df-6c5719b8-38b7-477f-bab5-0388a63203f3 button.colab-df-convert');\n",
              "      buttonEl.style.display =\n",
              "        google.colab.kernel.accessAllowed ? 'block' : 'none';\n",
              "\n",
              "      async function convertToInteractive(key) {\n",
              "        const element = document.querySelector('#df-6c5719b8-38b7-477f-bab5-0388a63203f3');\n",
              "        const dataTable =\n",
              "          await google.colab.kernel.invokeFunction('convertToInteractive',\n",
              "                                                    [key], {});\n",
              "        if (!dataTable) return;\n",
              "\n",
              "        const docLinkHtml = 'Like what you see? Visit the ' +\n",
              "          '<a target=\"_blank\" href=https://colab.research.google.com/notebooks/data_table.ipynb>data table notebook</a>'\n",
              "          + ' to learn more about interactive tables.';\n",
              "        element.innerHTML = '';\n",
              "        dataTable['output_type'] = 'display_data';\n",
              "        await google.colab.output.renderOutput(dataTable, element);\n",
              "        const docLink = document.createElement('div');\n",
              "        docLink.innerHTML = docLinkHtml;\n",
              "        element.appendChild(docLink);\n",
              "      }\n",
              "    </script>\n",
              "  </div>\n",
              "\n",
              "\n",
              "    </div>\n",
              "  </div>\n"
            ],
            "application/vnd.google.colaboratory.intrinsic+json": {
              "type": "dataframe",
              "summary": "{\n  \"name\": \"consecutive_numbers2(logs, min_consecutive)\",\n  \"rows\": 1,\n  \"fields\": [\n    {\n      \"column\": \"ConsecutiveNums\",\n      \"properties\": {\n        \"dtype\": \"number\",\n        \"std\": null,\n        \"min\": 1,\n        \"max\": 1,\n        \"num_unique_values\": 1,\n        \"samples\": [\n          1\n        ],\n        \"semantic_type\": \"\",\n        \"description\": \"\"\n      }\n    }\n  ]\n}"
            }
          },
          "metadata": {},
          "execution_count": 42
        }
      ]
    },
    {
      "cell_type": "code",
      "source": [],
      "metadata": {
        "id": "82jWlSAlcrpY"
      },
      "execution_count": 32,
      "outputs": []
    },
    {
      "cell_type": "code",
      "source": [
        "# q2 Write a solution to find the dense rank of the scores.\n",
        "def order_scores(scores: pd.DataFrame) -> pd.DataFrame:\n",
        "    # Solution 1\n",
        "    if not len(scores):\n",
        "        return pd.DataFrame({\"score\":[], \"rank\":[]})\n",
        "    sorted_scores = scores['score'].sort_values(ascending=False)\n",
        "    rank = 1\n",
        "    ranks = [1]\n",
        "    for i in range(1, len(sorted_scores)):\n",
        "        if sorted_scores.iloc[i]!=sorted_scores.iloc[i-1]:\n",
        "            rank+=1\n",
        "        ranks.append(rank)\n",
        "    return pd.DataFrame({\"score\":sorted_scores.values, \"rank\":ranks})\n",
        "\n",
        "    # Solution 2\n",
        "    # scores['rank'] = scores['score'].rank(method='dense', ascending=False)\n",
        "    # result_df = scores.drop('id', axis=1).sort_values(by='score', ascending=False)\n",
        "    # return result_df\n",
        "\n",
        "    # Solution 3\n",
        "    # scores = scores.sort_values(by='score', ascending=False)\n",
        "    # scores['rank'] = (~(scores['score'].duplicated())).cumsum()\n",
        "    # scores = scores.drop('id', axis=1)\n",
        "    # return scores\n",
        "\n",
        "    # Solution 4\n",
        "    # scores_unique = np.sort(scores.score.unique())[::-1]\n",
        "    # dic = {score:i+1 for i, score in enumerate(scores_unique)}\n",
        "    # scores['rank'] = scores['score'].map(dic)\n",
        "    # scores = scores.drop('id', axis=1)\n",
        "    # scores = scores.sort_values(by='score', ascending=False)\n",
        "    # return scores\n",
        "\n",
        "\n",
        "# sql solution\n",
        "# with cte as(\n",
        "#     SELECT\n",
        "#         e1.score,\n",
        "#         COUNT(DISTINCT e2.score) AS dense_rank_\n",
        "#     FROM\n",
        "#         scores e1\n",
        "#     JOIN\n",
        "#         scores e2 ON e2.score >= e1.score\n",
        "#     GROUP BY\n",
        "#         e1.score\n",
        "#     ORDER BY\n",
        "#         dense_rank_\n",
        "# )\n",
        "# select s.score, cte.dense_rank_ as `rank`\n",
        "# from scores s\n",
        "# join cte on cte.score=s.score\n",
        "# order by s.score desc"
      ],
      "metadata": {
        "id": "UB-8IXhLhD9C"
      },
      "execution_count": null,
      "outputs": []
    },
    {
      "cell_type": "code",
      "source": [],
      "metadata": {
        "id": "c0PmwOqGhD6v"
      },
      "execution_count": null,
      "outputs": []
    },
    {
      "cell_type": "code",
      "source": [
        "# q3 Write a solution to find the nth highest distinct salary from the Employee table. If there are less than n distinct salaries, return null.\n",
        "def nth_highest_salary(employee: pd.DataFrame, N: int) -> pd.DataFrame:\n",
        "    sorted_salaries = employee['salary'].sort_values(ascending=False).drop_duplicates()\n",
        "    return pd.DataFrame({f\"getNthHighestSalary({N})\":[None if len(sorted_salaries)<N or N<=0 else sorted_salaries.iloc[N-1]]})\n",
        "\n",
        "# sql solution\n",
        "# CREATE FUNCTION getNthHighestSalary(N INT) RETURNS INT\n",
        "# BEGIN\n",
        "#   RETURN (\n",
        "#     with cte as (\n",
        "#         select salary, dense_rank() over(order by salary desc) as rnk\n",
        "#         from Employee\n",
        "#     )\n",
        "#     select\n",
        "#         case when (max(rnk)>=N) then (select min(salary) from cte where rnk=N) end as getNthHighestSalary\n",
        "#         from cte\n",
        "#   );\n",
        "# END"
      ],
      "metadata": {
        "id": "LFI-NPhXhD4u"
      },
      "execution_count": null,
      "outputs": []
    },
    {
      "cell_type": "code",
      "source": [],
      "metadata": {
        "id": "mgpiEVbwhD22"
      },
      "execution_count": null,
      "outputs": []
    },
    {
      "cell_type": "code",
      "source": [
        "# q5 Department Highest Salary\n",
        "def department_highest_salary(employee: pd.DataFrame, department: pd.DataFrame) -> pd.DataFrame:\n",
        "\n",
        "    # Common\n",
        "    employee = employee.rename(columns={'name':'Employee', 'salary':'Salary'})\n",
        "    department = department.rename(columns={'name':'Department'})\n",
        "    df = pd.merge(employee, department, left_on='departmentId', right_on='id')\n",
        "    df = df[['Department', 'Employee', 'Salary']]\n",
        "\n",
        "    # Solution 1 (apply)\n",
        "    def func(df):\n",
        "        mask = df.Salary==max(df.Salary)\n",
        "        return df.loc[mask]\n",
        "\n",
        "    return df.groupby('Department').apply(func)\n",
        "\n",
        "    # Solution 2 (transform)\n",
        "    max_per_dept = df.groupby('Department')['Salary'].transform('max')\n",
        "    mask = df['Salary']==max_per_dept\n",
        "    return df[mask]\n",
        "\n",
        "\n",
        "# sql solution\n",
        "# with cte as(\n",
        "#     select departmentId, max(salary) max_salary\n",
        "#     from employee\n",
        "#     group by departmentId\n",
        "# )\n",
        "# select d.name as Department, e.name as Employee, e.salary Salary\n",
        "# from employee e\n",
        "# join department d on d.id=e.departmentId\n",
        "# join cte on cte.departmentId=d.id\n",
        "# where e.salary=cte.max_salary"
      ],
      "metadata": {
        "id": "SfvyejkBhDz_"
      },
      "execution_count": null,
      "outputs": []
    },
    {
      "cell_type": "code",
      "source": [],
      "metadata": {
        "id": "MZ0zv0KEvXQF"
      },
      "execution_count": null,
      "outputs": []
    },
    {
      "cell_type": "code",
      "source": [
        "# q6 Game Play Analysis IV\n",
        "# Write a solution to report the fraction of players that logged in again on the day after the day they first logged in, rounded to 2 decimal places.\n",
        "# In other words, you need to determine the number of players who logged in on the day immediately following their initial login, and divide it by the number of total players.\n",
        "def gameplay_analysis(activity: pd.DataFrame) -> pd.DataFrame:\n",
        "    def func(df):\n",
        "        s = (df.event_date - df.event_date.shift(1)).dt.days.unique()\n",
        "        return 1 in s\n",
        "\n",
        "    activity['start_date'] = activity.groupby('player_id').event_date.transform(min)\n",
        "    activity_2nd_day = activity.loc[activity['start_date'] + pd.DateOffset(1) == activity[\"event_date\"]]\n",
        "    total_players = activity.player_id.nunique()\n",
        "    return pd.DataFrame({'fraction':[round(len(activity_2nd_day)/total_players, 2)]})\n",
        "\n",
        "\n",
        "# sql solution\n",
        "# with cte as(\n",
        "#     select player_id, event_date,\n",
        "#     min(event_date) over(partition by player_id) as min_date\n",
        "#     from activity\n",
        "# ),\n",
        "# cte1 as (\n",
        "#     select player_id, datediff(event_date, min_date) as date_diff\n",
        "#     from cte\n",
        "# )\n",
        "# select round((select count(distinct player_id)\n",
        "# from cte1\n",
        "# where date_diff=1)/count(distinct player_id), 2) as fraction\n",
        "# from activity\n",
        "\n",
        "# solution 2\n",
        "# select\n",
        "#   round(\n",
        "#       count(distinct case when datediff(event_date,min_date)=1 then player_id end)/\n",
        "#       count(distinct player_id), 2) as fraction\n",
        "#   from (\n",
        "#       select event_date, player_id,\n",
        "#       min(event_date) over(partition by player_id) as min_date\n",
        "#       from activity\n",
        "#   ) as t"
      ],
      "metadata": {
        "id": "UzfhxnRFvXPW"
      },
      "execution_count": null,
      "outputs": []
    },
    {
      "cell_type": "code",
      "source": [],
      "metadata": {
        "id": "TXEMA5C-vXOW"
      },
      "execution_count": null,
      "outputs": []
    },
    {
      "cell_type": "code",
      "source": [
        "# q7 Write a solution to find managers with at least five direct reports.\n",
        "\n",
        "def find_managers(employee: pd.DataFrame) -> pd.DataFrame:\n",
        "    df = employee['managerId'].value_counts()\n",
        "    manager_ids = df[df>=5].index.values\n",
        "    employee_names = employee.loc[employee['id'].isin(manager_ids)][['name']]\n",
        "    return employee_names\n",
        "\n",
        "# sql solution\n",
        "# select name from employee\n",
        "# where id in\n",
        "#     (   select managerId\n",
        "#         from employee\n",
        "#         group by managerId\n",
        "#         having count(*)>=5\n",
        "#     )"
      ],
      "metadata": {
        "id": "tutVf-vVvXDr"
      },
      "execution_count": null,
      "outputs": []
    },
    {
      "cell_type": "code",
      "source": [],
      "metadata": {
        "id": "bpiv2T0z89G5"
      },
      "execution_count": null,
      "outputs": []
    },
    {
      "cell_type": "code",
      "source": [
        "# q8 Investments in 2016\n",
        "# Write a solution to report the sum of all total investment values in 2016 tiv_2016, for all policyholders who:\n",
        "# have the same tiv_2015 value as one or more other policyholders, and\n",
        "# are not located in the same city as any other policyholder (i.e., the (lat, lon) attribute pairs must be unique).\n",
        "# Round tiv_2016 to two decimal places.\n",
        "\n",
        "def find_investments(insurance: pd.DataFrame) -> pd.DataFrame:\n",
        "    # Solution 1\n",
        "    # tiv_count = insurance['tiv_2015'].value_counts().to_dict()\n",
        "    # lat_lon_count = insurance[['lat', 'lon']].value_counts().to_dict()\n",
        "    # insurance['tiv_count'] = insurance['tiv_2015'].map(tiv_count)\n",
        "    # insurance['lat_lon_count'] = insurance.apply(lambda row:lat_lon_count[(row['lat'], row['lon'])], axis=1)\n",
        "    # final_ans = insurance[(insurance['tiv_count']>1) & (insurance['lat_lon_count']==1)][['tiv_2016']].sum()\n",
        "    # return pd.DataFrame({\"tiv_2016\":round(final_ans, 2)})\n",
        "\n",
        "    # Solution 2\n",
        "    dup = insurance[insurance.duplicated(subset = 'tiv_2015', keep = False)].pid\n",
        "    pos = insurance[~insurance.duplicated(subset = ['lat', 'lon'], keep=False)].pid\n",
        "    return pd.DataFrame({'tiv_2016':[round(insurance[insurance.pid.isin(pos) & insurance.pid.isin(dup)].tiv_2016.sum(), 2)]})\n",
        "\n",
        "\n",
        "# sql solution\n",
        "# with cte as (\n",
        "# select tiv_2016,\n",
        "#     count(*) over(partition by tiv_2015) as count_tiv_2015,\n",
        "#     count(*) over(partition by lat, lon) as lat_lon_count\n",
        "#     from insurance\n",
        "# )\n",
        "# select round(sum(tiv_2016), 2) tiv_2016\n",
        "# from cte\n",
        "# where count_tiv_2015>1 and lat_lon_count=1"
      ],
      "metadata": {
        "id": "iEza9sGE89GK"
      },
      "execution_count": null,
      "outputs": []
    },
    {
      "cell_type": "code",
      "source": [],
      "metadata": {
        "id": "4vEsIuZ589FW"
      },
      "execution_count": null,
      "outputs": []
    },
    {
      "cell_type": "code",
      "source": [
        "# q9 Friend Requests II: Who Has the Most Friends LC602\n",
        "def most_friends(request_accepted: pd.DataFrame) -> pd.DataFrame:\n",
        "    # Solution 1\n",
        "    series = pd.concat([request_accepted['requester_id'], request_accepted['accepter_id']]).value_counts()\n",
        "    return series[series==max(series)].reset_index().rename(columns = {\"index\":\n",
        "    \"id\", \"count\":\"num\"})\n",
        "\n",
        "    # Solution 2\n",
        "    res = pd.concat([request_accepted[\"requester_id\"], request_accepted[\"accepter_id\"]]).tolist()\n",
        "    r = mode(res)\n",
        "    return pd.DataFrame({\"id\" : [r], \"num\" : [res.count(r)]})\n",
        "\n",
        "\n",
        "# sql solution\n",
        "\n",
        "# solution 1 simple\n",
        "# select id, count(*) num\n",
        "# from (\n",
        "#     select requester_id as id from RequestAccepted\n",
        "#     union all\n",
        "#     select accepter_id as id from RequestAccepted\n",
        "# ) f\n",
        "# group by id\n",
        "# order by num desc\n",
        "# limit 1\n",
        "\n",
        "# solution 2\n",
        "# WITH requester_counts AS (\n",
        "#     SELECT requester_id AS id, COUNT(*) AS cnt\n",
        "#     FROM RequestAccepted\n",
        "#     GROUP BY requester_id\n",
        "# ),\n",
        "# accepter_counts AS (\n",
        "#     SELECT accepter_id AS id, COUNT(*) AS cnt\n",
        "#     FROM RequestAccepted\n",
        "#     GROUP BY accepter_id\n",
        "# ),\n",
        "# combined_counts AS (\n",
        "#     SELECT\n",
        "#         COALESCE(r.id, a.id) AS id,                      # this is how to select between null and actual number, coalesce returns first non null values,\n",
        "#         COALESCE(r.cnt, 0) + COALESCE(a.cnt, 0) AS num.  # you were using case to select a.id if r.id is null case can't be applied directly as such\n",
        "#     FROM requester_counts r\n",
        "#     OUTER JOIN accepter_counts a ON r.id = a.id\n",
        "# )\n",
        "# SELECT id, num\n",
        "# FROM combined_counts\n",
        "# WHERE num = (SELECT MAX(num) FROM combined_counts);      # this is how where is applied on aggregates"
      ],
      "metadata": {
        "id": "4b9kXB_K89Bc"
      },
      "execution_count": null,
      "outputs": []
    },
    {
      "cell_type": "code",
      "source": [],
      "metadata": {
        "id": "J2MVzmx688_d"
      },
      "execution_count": null,
      "outputs": []
    },
    {
      "cell_type": "code",
      "source": [
        "# q10 Tree Node\n",
        "\n",
        "# solution 1\n",
        "def tree_node(tree: pd.DataFrame) -> pd.DataFrame:\n",
        "    tree.loc[tree['p_id'].isna(), 'type'] = 'Root'\n",
        "    tree.loc[(tree['id'].isin(tree['p_id'].unique())) & (tree['type'].isna()), 'type'] = 'Inner'\n",
        "    tree.loc[tree['type'].isna(), 'type'] = 'Leaf'\n",
        "    return tree[['id', 'type']]\n",
        "\n",
        "# solution 2\n",
        "# cleaner solution\n",
        "def tree_node(tree: pd.DataFrame) -> pd.DataFrame:\n",
        "    # Create a copy to avoid modifying input\n",
        "    result = tree.copy()\n",
        "\n",
        "    # Get all unique parent ids (excluding null)\n",
        "    parent_ids = tree['p_id'].dropna().unique()\n",
        "\n",
        "    # Initialize type column\n",
        "    result['type'] = 'Leaf'  # Default case\n",
        "\n",
        "    # Set Root nodes (where p_id is null)\n",
        "    result.loc[tree['p_id'].isna(), 'type'] = 'Root'\n",
        "\n",
        "    # Set Inner nodes (nodes that are parents of others)\n",
        "    result.loc[tree['id'].isin(parent_ids), 'type'] = 'Inner'\n",
        "\n",
        "    return result[['id', 'type']]\n",
        "\n",
        "\n",
        "# sql solution\n",
        "# select id,\n",
        "#     case\n",
        "#         when p_id is null then 'Root'\n",
        "#         when id in (select distinct p_id from tree where p_id is not null) then 'Inner'\n",
        "#         else 'Leaf'\n",
        "#         end\n",
        "#     as type\n",
        "# from tree"
      ],
      "metadata": {
        "id": "xJBpfsPe882P"
      },
      "execution_count": null,
      "outputs": []
    },
    {
      "cell_type": "code",
      "source": [],
      "metadata": {
        "id": "iGSiZbn8vW_x"
      },
      "execution_count": null,
      "outputs": []
    },
    {
      "cell_type": "code",
      "source": [
        "# q11"
      ],
      "metadata": {
        "id": "BFPN4PCT2D3w"
      },
      "execution_count": null,
      "outputs": []
    },
    {
      "cell_type": "code",
      "source": [],
      "metadata": {
        "id": "w9P6U3C02Dxm"
      },
      "execution_count": null,
      "outputs": []
    },
    {
      "cell_type": "code",
      "source": [],
      "metadata": {
        "id": "N_Cri7Bf2Dvv"
      },
      "execution_count": null,
      "outputs": []
    },
    {
      "cell_type": "code",
      "source": [],
      "metadata": {
        "id": "LbTj4bF92Dta"
      },
      "execution_count": null,
      "outputs": []
    },
    {
      "cell_type": "code",
      "source": [],
      "metadata": {
        "id": "CMmlAS7g2DrW"
      },
      "execution_count": null,
      "outputs": []
    },
    {
      "cell_type": "code",
      "source": [],
      "metadata": {
        "id": "2eOn5Geg2Dfj"
      },
      "execution_count": null,
      "outputs": []
    }
  ]
}