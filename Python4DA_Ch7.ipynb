{
  "nbformat": 4,
  "nbformat_minor": 0,
  "metadata": {
    "colab": {
      "provenance": [],
      "authorship_tag": "ABX9TyMpCO9qzkRt6VFpt1Z2NYNJ",
      "include_colab_link": true
    },
    "kernelspec": {
      "name": "python3",
      "display_name": "Python 3"
    },
    "language_info": {
      "name": "python"
    }
  },
  "cells": [
    {
      "cell_type": "markdown",
      "metadata": {
        "id": "view-in-github",
        "colab_type": "text"
      },
      "source": [
        "<a href=\"https://colab.research.google.com/github/inderpreetsingh01/PyMath/blob/main/Python4DA_Ch7.ipynb\" target=\"_parent\"><img src=\"https://colab.research.google.com/assets/colab-badge.svg\" alt=\"Open In Colab\"/></a>"
      ]
    },
    {
      "cell_type": "code",
      "execution_count": 1,
      "metadata": {
        "id": "U4OlcTOxVizl"
      },
      "outputs": [],
      "source": [
        "import pandas as pd\n",
        "import numpy as np"
      ]
    },
    {
      "cell_type": "code",
      "source": [
        "# dropna() -> return new objects by default and do not modify the contents of the original object.\n",
        "# If you want to create a transformed version of a dataset without modifying the original, a useful method is rename:"
      ],
      "metadata": {
        "id": "JCx5RIBMVzFR"
      },
      "execution_count": null,
      "outputs": []
    },
    {
      "cell_type": "code",
      "source": [
        "# By default, pandas.merge does an \"inner\" join; the keys in the result are the intersection, or the common set found in both tables.\n",
        "# Other possible options are \"left\", \"right\", and \"outer\". The outer join takes the union of the keys, combining the effect of applying both left and right joins:"
      ],
      "metadata": {
        "id": "6Vlmz9RYt9Vf"
      },
      "execution_count": null,
      "outputs": []
    },
    {
      "cell_type": "code",
      "source": [
        "# Many-to-many merges form the Cartesian product of the matching keys."
      ],
      "metadata": {
        "id": "yGrxnO_zt9Qo"
      },
      "execution_count": null,
      "outputs": []
    },
    {
      "cell_type": "code",
      "source": [
        "# To merge with multiple keys, pass a list of column names:\n",
        "# When you're joining columns on columns, the indexes on the passed DataFrame objects are discarded.\n",
        "# If you need to preserve the index values, you can use reset_index to append the index to the columns."
      ],
      "metadata": {
        "id": "qIOqsuGlt9O1"
      },
      "execution_count": null,
      "outputs": []
    },
    {
      "cell_type": "code",
      "source": [
        "# DataFrame has a join instance method to simplify merging by index.\n",
        "# It can also be used to combine many DataFrame objects having the same or similar indexes but nonoverlapping columns.\n",
        "# Compared with pandas.merge, DataFrame’s join method performs a left join on the join keys by default.\n",
        "# It also supports joining the index of the passed DataFrame on one of the columns of the calling DataFrame:\n",
        "# You can think of this method as joining data \"into\" the object whose join method was called."
      ],
      "metadata": {
        "id": "vQxgwilTt9HJ"
      },
      "execution_count": null,
      "outputs": []
    },
    {
      "cell_type": "code",
      "source": [
        "# By default, pandas.concat works along axis=\"index\", producing another Series. If you pass axis=\"columns\", the result will instead be a DataFrame:\n",
        "# In this case there is no overlap on the other axis, which as you can see is the union (the \"outer\" join) of the indexes.\n",
        "# You can instead intersect them by passing join=\"inner\""
      ],
      "metadata": {
        "id": "3ZPxj5jSt9E-"
      },
      "execution_count": null,
      "outputs": []
    },
    {
      "cell_type": "code",
      "source": [
        "# A potential issue is that the concatenated pieces are not identifiable in the result.\n",
        "# Suppose instead you wanted to create a hierarchical index on the concatenation axis. To do this, use the keys argument:\n",
        "# result = pd.concat([s1, s1, s3], keys=[\"one\", \"two\", \"three\"])"
      ],
      "metadata": {
        "id": "C2FbaltW5BYU"
      },
      "execution_count": null,
      "outputs": []
    },
    {
      "cell_type": "code",
      "source": [
        "# By default, the innermost level is unstacked (same with stack). You can unstack a different level by passing a level number or name:\n",
        "# When you unstack in a DataFrame, the level unstacked becomes the lowest level in the result:"
      ],
      "metadata": {
        "id": "0lR6nH3A5BWK"
      },
      "execution_count": null,
      "outputs": []
    },
    {
      "cell_type": "code",
      "source": [
        "# it is necessary to pass numeric_only=True because the key1 column is not numeric and thus cannot be aggregated with mean()."
      ],
      "metadata": {
        "id": "mEgPZAsN5BUs"
      },
      "execution_count": null,
      "outputs": []
    },
    {
      "cell_type": "code",
      "source": [
        "# A group function similar in spirit to size is count, which computes the number of nonnull values in each group:"
      ],
      "metadata": {
        "id": "8dVeTPiR5BS0"
      },
      "execution_count": null,
      "outputs": []
    },
    {
      "cell_type": "code",
      "source": [
        "# The T here stands for minutes.\n",
        "# Note that the freq parameter here indicates the offset to apply to the timestamps, but it does not change the underlying frequency of the data, if any."
      ],
      "metadata": {
        "id": "MvXHN74b5BSD"
      },
      "execution_count": null,
      "outputs": []
    },
    {
      "cell_type": "code",
      "source": [],
      "metadata": {
        "id": "2CzT0cEc5BPW"
      },
      "execution_count": null,
      "outputs": []
    },
    {
      "cell_type": "code",
      "source": [],
      "metadata": {
        "id": "0xPfhczD5BOq"
      },
      "execution_count": null,
      "outputs": []
    },
    {
      "cell_type": "code",
      "source": [],
      "metadata": {
        "id": "KdHB0PKL5BJB"
      },
      "execution_count": null,
      "outputs": []
    }
  ]
}