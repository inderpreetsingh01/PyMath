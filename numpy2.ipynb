{
  "nbformat": 4,
  "nbformat_minor": 0,
  "metadata": {
    "colab": {
      "provenance": [],
      "authorship_tag": "ABX9TyMl8xRhX//zBJdpc+5eQCQD",
      "include_colab_link": true
    },
    "kernelspec": {
      "name": "python3",
      "display_name": "Python 3"
    },
    "language_info": {
      "name": "python"
    }
  },
  "cells": [
    {
      "cell_type": "markdown",
      "metadata": {
        "id": "view-in-github",
        "colab_type": "text"
      },
      "source": [
        "<a href=\"https://colab.research.google.com/github/inderpreetsingh01/PyMath/blob/main/numpy2.ipynb\" target=\"_parent\"><img src=\"https://colab.research.google.com/assets/colab-badge.svg\" alt=\"Open In Colab\"/></a>"
      ]
    },
    {
      "cell_type": "code",
      "source": [
        "import numpy as np\n",
        "import matplotlib.pyplot as plt"
      ],
      "metadata": {
        "id": "4CPNtA10b9Y4"
      },
      "execution_count": 1,
      "outputs": []
    },
    {
      "cell_type": "code",
      "execution_count": 3,
      "metadata": {
        "colab": {
          "base_uri": "https://localhost:8080/"
        },
        "id": "gDP84Lbna1IM",
        "outputId": "ff27da8d-f311-487f-9603-dd1cdba475f4"
      },
      "outputs": [
        {
          "output_type": "execute_result",
          "data": {
            "text/plain": [
              "array(['Jim', 'jack'], dtype='<U4')"
            ]
          },
          "metadata": {},
          "execution_count": 3
        }
      ],
      "source": [
        "names = np.array(['Jim', 'kim', 'tim', 'jack'])\n",
        "first_letter_j = np.vectorize(lambda x:x[0].lower())(names) == 'j'\n",
        "names[first_letter_j]\n",
        "\n",
        "# np.vectorize is a convenience wrapper that allows you to apply a Python function element-wise to NumPy arrays —\n",
        "# as if it were a NumPy ufunc (universal function).\n",
        "# np.vectorize does not make the function faster — it's still a loop under the hood.\n",
        "# It only provides cleaner syntax and broadcasting support like NumPy functions."
      ]
    },
    {
      "cell_type": "code",
      "source": [
        "def myfunc(x):\n",
        "    return x**2 if x % 2 == 0 else -x\n",
        "\n",
        "vfunc = np.vectorize(myfunc)\n",
        "\n",
        "a = np.array([1, 2, 3, 4])\n",
        "result = vfunc(a)\n",
        "print(result)"
      ],
      "metadata": {
        "colab": {
          "base_uri": "https://localhost:8080/"
        },
        "id": "kM6a_9byb4o4",
        "outputId": "65cfc22e-45d9-46ce-b912-61553e7944cc"
      },
      "execution_count": 4,
      "outputs": [
        {
          "output_type": "stream",
          "name": "stdout",
          "text": [
            "[-1  4 -3 16]\n"
          ]
        }
      ]
    },
    {
      "cell_type": "code",
      "source": [],
      "metadata": {
        "id": "iWiUJXQWcqP1"
      },
      "execution_count": null,
      "outputs": []
    },
    {
      "cell_type": "code",
      "source": [
        "a = np.array([[1, 2, 3],\n",
        "              [4, 5, 6]])\n",
        "\n",
        "row_sums = np.sum(a, axis=1)  # shape: (2,)\n",
        "# a.shape: (2, 3), row_sums.shape: (2,)\n",
        "\n",
        "a / row_sums"
      ],
      "metadata": {
        "colab": {
          "base_uri": "https://localhost:8080/",
          "height": 180
        },
        "id": "-6db5cM0iF3b",
        "outputId": "da54be91-ff09-4da1-fb4e-871c39dc4123"
      },
      "execution_count": 2,
      "outputs": [
        {
          "output_type": "error",
          "ename": "ValueError",
          "evalue": "operands could not be broadcast together with shapes (2,3) (2,) ",
          "traceback": [
            "\u001b[0;31m---------------------------------------------------------------------------\u001b[0m",
            "\u001b[0;31mValueError\u001b[0m                                Traceback (most recent call last)",
            "\u001b[0;32m<ipython-input-2-164e4fcd8d5a>\u001b[0m in \u001b[0;36m<cell line: 0>\u001b[0;34m()\u001b[0m\n\u001b[1;32m      5\u001b[0m \u001b[0;31m# a.shape: (2, 3), row_sums.shape: (2,)\u001b[0m\u001b[0;34m\u001b[0m\u001b[0;34m\u001b[0m\u001b[0m\n\u001b[1;32m      6\u001b[0m \u001b[0;34m\u001b[0m\u001b[0m\n\u001b[0;32m----> 7\u001b[0;31m \u001b[0ma\u001b[0m \u001b[0;34m/\u001b[0m \u001b[0mrow_sums\u001b[0m\u001b[0;34m\u001b[0m\u001b[0;34m\u001b[0m\u001b[0m\n\u001b[0m",
            "\u001b[0;31mValueError\u001b[0m: operands could not be broadcast together with shapes (2,3) (2,) "
          ]
        }
      ]
    },
    {
      "cell_type": "code",
      "source": [
        "# The keepdims parameter in NumPy functions like np.sum, np.mean, np.max, etc.,\n",
        "# controls whether the reduced axes are kept in the result as dimensions with size 1\n",
        "row_sums = np.sum(a, axis=1, keepdims=True)  # shape: (2,)\n",
        "# a.shape: (2, 3), row_sums.shape: (2,)\n",
        "\n",
        "a / row_sums"
      ],
      "metadata": {
        "colab": {
          "base_uri": "https://localhost:8080/"
        },
        "id": "GrCriwSbiH5N",
        "outputId": "abbdb4b3-3710-4eb9-b053-771583953064"
      },
      "execution_count": 3,
      "outputs": [
        {
          "output_type": "execute_result",
          "data": {
            "text/plain": [
              "array([[0.16666667, 0.33333333, 0.5       ],\n",
              "       [0.26666667, 0.33333333, 0.4       ]])"
            ]
          },
          "metadata": {},
          "execution_count": 3
        }
      ]
    },
    {
      "cell_type": "code",
      "source": [],
      "metadata": {
        "id": "Axfs4bNGiMDm"
      },
      "execution_count": null,
      "outputs": []
    },
    {
      "cell_type": "code",
      "source": [
        "arr1 = np.array([[1,2,3],[4,5,6]])\n",
        "arr2 = np.array([[2,1,2],[1,1,2]])"
      ],
      "metadata": {
        "id": "kLOSAJRciL_1"
      },
      "execution_count": 4,
      "outputs": []
    },
    {
      "cell_type": "code",
      "source": [
        "# element wise product\n",
        "arr1*arr2"
      ],
      "metadata": {
        "id": "ziu3xTS7jhkE",
        "outputId": "9aa3e59f-780f-4b77-f54b-4438c1f023e8",
        "colab": {
          "base_uri": "https://localhost:8080/"
        }
      },
      "execution_count": 5,
      "outputs": [
        {
          "output_type": "execute_result",
          "data": {
            "text/plain": [
              "array([[ 2,  2,  6],\n",
              "       [ 4,  5, 12]])"
            ]
          },
          "metadata": {},
          "execution_count": 5
        }
      ]
    },
    {
      "cell_type": "code",
      "source": [
        "# another way of indexing\n",
        "arr1[[1,0],[2,1]] = 0"
      ],
      "metadata": {
        "id": "0UjjDrRDjidT"
      },
      "execution_count": 6,
      "outputs": []
    },
    {
      "cell_type": "code",
      "source": [
        "arr1"
      ],
      "metadata": {
        "id": "oT7FVfrujmx-",
        "outputId": "995afbfc-0f23-4a05-dcad-7bff92ad2dfb",
        "colab": {
          "base_uri": "https://localhost:8080/"
        }
      },
      "execution_count": 7,
      "outputs": [
        {
          "output_type": "execute_result",
          "data": {
            "text/plain": [
              "array([[1, 0, 3],\n",
              "       [4, 5, 0]])"
            ]
          },
          "metadata": {},
          "execution_count": 7
        }
      ]
    },
    {
      "cell_type": "code",
      "source": [],
      "metadata": {
        "id": "C9rvd5D1jmuD"
      },
      "execution_count": null,
      "outputs": []
    },
    {
      "cell_type": "code",
      "source": [
        "# np.c_ is a convenient indexing trick in NumPy used to concatenate arrays column-wise (i.e., along axis=1).\n",
        "# You can think of it as a quick shortcut for np.column_stack or np.concatenate(..., axis=1), but with a more compact and flexible syntax.\n",
        "a = np.array([1, 2, 3])\n",
        "b = np.array([4, 5, 6])\n",
        "\n",
        "np.c_[a, b]"
      ],
      "metadata": {
        "id": "z73uAdVrsQXr",
        "outputId": "6f56ef3e-fe8d-4165-986b-b696227f8073",
        "colab": {
          "base_uri": "https://localhost:8080/"
        }
      },
      "execution_count": 8,
      "outputs": [
        {
          "output_type": "execute_result",
          "data": {
            "text/plain": [
              "array([[1, 4],\n",
              "       [2, 5],\n",
              "       [3, 6]])"
            ]
          },
          "metadata": {},
          "execution_count": 8
        }
      ]
    },
    {
      "cell_type": "code",
      "source": [
        "x = np.array([1, 2, 3])\n",
        "y = np.array([10, 20, 30])\n",
        "np.c_[x, y]\n",
        "# shape: (3, 2)"
      ],
      "metadata": {
        "id": "N3j-sJ7ZsQRD",
        "outputId": "6c76440e-d573-4b8d-9cc5-e5338b71ffa6",
        "colab": {
          "base_uri": "https://localhost:8080/"
        }
      },
      "execution_count": 9,
      "outputs": [
        {
          "output_type": "execute_result",
          "data": {
            "text/plain": [
              "array([[ 1, 10],\n",
              "       [ 2, 20],\n",
              "       [ 3, 30]])"
            ]
          },
          "metadata": {},
          "execution_count": 9
        }
      ]
    },
    {
      "cell_type": "code",
      "source": [
        "np.c_[1:5, 10:14]\n",
        "# Output:\n",
        "# array([[ 1, 10],\n",
        "#        [ 2, 11],\n",
        "#        [ 3, 12],\n",
        "#        [ 4, 13]])"
      ],
      "metadata": {
        "id": "mDjdH82dsQP9",
        "outputId": "edf719a4-dd94-4c90-ff81-1054f8fd0950",
        "colab": {
          "base_uri": "https://localhost:8080/"
        }
      },
      "execution_count": 10,
      "outputs": [
        {
          "output_type": "execute_result",
          "data": {
            "text/plain": [
              "array([[ 1, 10],\n",
              "       [ 2, 11],\n",
              "       [ 3, 12],\n",
              "       [ 4, 13]])"
            ]
          },
          "metadata": {},
          "execution_count": 10
        }
      ]
    },
    {
      "cell_type": "code",
      "source": [
        "np.stack([np.arange(1, 5), np.arange(10, 14)], axis=1)"
      ],
      "metadata": {
        "id": "prO3hfDdsQO7",
        "outputId": "bfe1a765-5ca7-4e41-9312-052559a3b74a",
        "colab": {
          "base_uri": "https://localhost:8080/"
        }
      },
      "execution_count": 11,
      "outputs": [
        {
          "output_type": "execute_result",
          "data": {
            "text/plain": [
              "array([[ 1, 10],\n",
              "       [ 2, 11],\n",
              "       [ 3, 12],\n",
              "       [ 4, 13]])"
            ]
          },
          "metadata": {},
          "execution_count": 11
        }
      ]
    },
    {
      "cell_type": "code",
      "source": [
        "a = np.array([1, 2, 3])\n",
        "np.c_[a, np.ones(3)]\n",
        "# Output:\n",
        "# array([[1., 1.],\n",
        "#        [2., 1.],\n",
        "#        [3., 1.]])"
      ],
      "metadata": {
        "id": "QfDamifAsQN0",
        "outputId": "974dfcdd-702e-469c-dd10-1b4ba177f294",
        "colab": {
          "base_uri": "https://localhost:8080/"
        }
      },
      "execution_count": 12,
      "outputs": [
        {
          "output_type": "execute_result",
          "data": {
            "text/plain": [
              "array([[1., 1.],\n",
              "       [2., 1.],\n",
              "       [3., 1.]])"
            ]
          },
          "metadata": {},
          "execution_count": 12
        }
      ]
    },
    {
      "cell_type": "code",
      "source": [
        "# np.r_ is also there"
      ],
      "metadata": {
        "id": "FbMCesXAs_yh"
      },
      "execution_count": null,
      "outputs": []
    },
    {
      "cell_type": "code",
      "source": [],
      "metadata": {
        "id": "jzQTuIrLs_sC"
      },
      "execution_count": null,
      "outputs": []
    },
    {
      "cell_type": "code",
      "source": [],
      "metadata": {
        "id": "7utiwjHvsQMb"
      },
      "execution_count": null,
      "outputs": []
    },
    {
      "cell_type": "markdown",
      "source": [
        "#Statistics"
      ],
      "metadata": {
        "id": "jUs8-K3hdW-x"
      }
    },
    {
      "cell_type": "code",
      "source": [
        "arr = np.random.randn(1000)*2+10"
      ],
      "metadata": {
        "id": "V9CxCI0wdVO9"
      },
      "execution_count": 5,
      "outputs": []
    },
    {
      "cell_type": "code",
      "source": [
        "# mean of distribution\n",
        "np.mean(arr)"
      ],
      "metadata": {
        "colab": {
          "base_uri": "https://localhost:8080/"
        },
        "id": "70t4Hb-1dfs9",
        "outputId": "915692a5-640e-4083-9611-9f4e14f028e7"
      },
      "execution_count": 6,
      "outputs": [
        {
          "output_type": "execute_result",
          "data": {
            "text/plain": [
              "np.float64(9.867386097863035)"
            ]
          },
          "metadata": {},
          "execution_count": 6
        }
      ]
    },
    {
      "cell_type": "code",
      "source": [
        "# std of distribution\n",
        "np.std(arr)"
      ],
      "metadata": {
        "colab": {
          "base_uri": "https://localhost:8080/"
        },
        "id": "IdCMnq-3dhFE",
        "outputId": "94b1d7d1-c951-454b-99c3-2b41fd5ba2b5"
      },
      "execution_count": 7,
      "outputs": [
        {
          "output_type": "execute_result",
          "data": {
            "text/plain": [
              "np.float64(2.0859790658065824)"
            ]
          },
          "metadata": {},
          "execution_count": 7
        }
      ]
    },
    {
      "cell_type": "code",
      "source": [
        "# compute the number for given percentile in percentage bw [0, 100]\n",
        "np.percentile(arr, 50)"
      ],
      "metadata": {
        "colab": {
          "base_uri": "https://localhost:8080/"
        },
        "id": "ZdTJPSrMdjnk",
        "outputId": "b9e66d55-907a-43d1-81e4-d83a0938a372"
      },
      "execution_count": 8,
      "outputs": [
        {
          "output_type": "execute_result",
          "data": {
            "text/plain": [
              "np.float64(9.791811141906926)"
            ]
          },
          "metadata": {},
          "execution_count": 8
        }
      ]
    },
    {
      "cell_type": "code",
      "source": [
        "np.percentile(arr, 84)"
      ],
      "metadata": {
        "colab": {
          "base_uri": "https://localhost:8080/"
        },
        "id": "PIKkvRcWdtHI",
        "outputId": "2e979f8b-d260-4934-a3c6-0eda4ff185e9"
      },
      "execution_count": 10,
      "outputs": [
        {
          "output_type": "execute_result",
          "data": {
            "text/plain": [
              "np.float64(11.979055710403602)"
            ]
          },
          "metadata": {},
          "execution_count": 10
        }
      ]
    },
    {
      "cell_type": "code",
      "source": [
        "# number for given quantile in bw [0, 1]\n",
        "np.quantile(arr, 0.5)"
      ],
      "metadata": {
        "colab": {
          "base_uri": "https://localhost:8080/"
        },
        "id": "t7Sh9omkdvuj",
        "outputId": "d3c4f5cd-840d-422e-e425-522e2bc8abf8"
      },
      "execution_count": 11,
      "outputs": [
        {
          "output_type": "execute_result",
          "data": {
            "text/plain": [
              "np.float64(9.791811141906926)"
            ]
          },
          "metadata": {},
          "execution_count": 11
        }
      ]
    },
    {
      "cell_type": "code",
      "source": [
        "# given the number the percentile it represent or the percentage of elements less than it\n",
        "x = np.mean(arr) + np.std(arr)\n",
        "percentile = (np.sum(arr < x) + 0.5 * np.sum(arr == x)) / len(arr) * 100"
      ],
      "metadata": {
        "id": "bIegn81Pd6Ub"
      },
      "execution_count": 12,
      "outputs": []
    },
    {
      "cell_type": "code",
      "source": [
        "percentile"
      ],
      "metadata": {
        "colab": {
          "base_uri": "https://localhost:8080/"
        },
        "id": "vMt21TLYeQ4V",
        "outputId": "ff533a44-6daa-41cd-a9dd-c80229cb2be0"
      },
      "execution_count": 13,
      "outputs": [
        {
          "output_type": "execute_result",
          "data": {
            "text/plain": [
              "np.float64(83.5)"
            ]
          },
          "metadata": {},
          "execution_count": 13
        }
      ]
    },
    {
      "cell_type": "code",
      "source": [
        "x"
      ],
      "metadata": {
        "colab": {
          "base_uri": "https://localhost:8080/"
        },
        "id": "WIFfKcEweRit",
        "outputId": "52ad2493-f1c3-4f21-dc54-c16ffcba64c5"
      },
      "execution_count": 14,
      "outputs": [
        {
          "output_type": "execute_result",
          "data": {
            "text/plain": [
              "np.float64(11.953365163669616)"
            ]
          },
          "metadata": {},
          "execution_count": 14
        }
      ]
    },
    {
      "cell_type": "code",
      "source": [
        "np.percentile(arr, 83.5)"
      ],
      "metadata": {
        "colab": {
          "base_uri": "https://localhost:8080/"
        },
        "id": "a2QrBvV7eUUn",
        "outputId": "463715c9-a888-4408-a49a-520554757ba0"
      },
      "execution_count": 15,
      "outputs": [
        {
          "output_type": "execute_result",
          "data": {
            "text/plain": [
              "np.float64(11.953881652806668)"
            ]
          },
          "metadata": {},
          "execution_count": 15
        }
      ]
    },
    {
      "cell_type": "code",
      "source": [],
      "metadata": {
        "id": "aqwtXvK5eWUn"
      },
      "execution_count": null,
      "outputs": []
    },
    {
      "cell_type": "code",
      "source": [
        "# percentage of points within (-sigma, sigma)\n",
        "percentage = np.sum((arr >= np.mean(arr) - np.std(arr)) & (arr <= np.mean(arr) + np.std(arr))) / len(arr) * 100"
      ],
      "metadata": {
        "id": "xzXCiq-3fi9i"
      },
      "execution_count": 18,
      "outputs": []
    },
    {
      "cell_type": "code",
      "source": [
        "percentage"
      ],
      "metadata": {
        "colab": {
          "base_uri": "https://localhost:8080/"
        },
        "id": "H7b6bf2Hfnkq",
        "outputId": "f97755dc-78df-4088-f2a6-3f07abb188b8"
      },
      "execution_count": 19,
      "outputs": [
        {
          "output_type": "execute_result",
          "data": {
            "text/plain": [
              "np.float64(66.7)"
            ]
          },
          "metadata": {},
          "execution_count": 19
        }
      ]
    },
    {
      "cell_type": "code",
      "source": [],
      "metadata": {
        "id": "BuO7mJ6ifofM"
      },
      "execution_count": null,
      "outputs": []
    },
    {
      "cell_type": "code",
      "source": [
        "# np.std / np.var use population formula unless you set ddof=1\n",
        "# np.cov uses sample formula by default (ddof=1)\n",
        "# Always specify ddof explicitly if statistical correctness matters\n",
        "\n",
        "\n",
        "arr = np.array([1, 2, 3, 4, 5])\n",
        "\n",
        "print(\"Population std:\", np.std(arr))           # ddof=0\n",
        "print(\"Sample std:\", np.std(arr, ddof=1))       # ddof=1\n",
        "print(\"\\n\")\n",
        "\n",
        "x = np.array([1, 2, 3])\n",
        "y = np.array([2, 4, 6])\n",
        "print(\"Sample covariance:\\n\", np.cov(x, y))     # ddof=1 by default\n",
        "print(\"Population covariance:\\n\", np.cov(x, y, ddof=0))"
      ],
      "metadata": {
        "colab": {
          "base_uri": "https://localhost:8080/"
        },
        "id": "ZGvevOfwgOCN",
        "outputId": "d4426076-a1fa-49ec-cee5-78d14a5c77e1"
      },
      "execution_count": 21,
      "outputs": [
        {
          "output_type": "stream",
          "name": "stdout",
          "text": [
            "Population std: 1.4142135623730951\n",
            "Sample std: 1.5811388300841898\n",
            "\n",
            "\n",
            "Sample covariance:\n",
            " [[1. 2.]\n",
            " [2. 4.]]\n",
            "Population covariance:\n",
            " [[0.66666667 1.33333333]\n",
            " [1.33333333 2.66666667]]\n"
          ]
        }
      ]
    },
    {
      "cell_type": "markdown",
      "source": [
        "**ddof — Delta Degrees of Freedom**\n",
        "- ddof (Delta Degrees of Freedom) is a parameter used in statistical functions like np.std(), np.var(), and np.cov() to control whether the calculation is for a sample or population.\n",
        "- Using n - 1 (i.e., ddof = 1) corrects the bias in the estimation of population variance from a sample by accounting for the loss of 1 degree of freedom from estimating the mean.\n",
        "- Degrees of freedom = Number of independent values that can vary in a dataset before constraints kick in.\n",
        "- Imagine you have 3 numbers: You know their mean is 10.\n",
        "\n",
        "  x1 + x2 + x3 = 30    (since mean = (x1 + x2 + x3)/3 = 10)\n",
        "\n",
        "  Now:\n",
        "  You can freely choose x1 and x2.\n",
        "\n",
        "  But once those are chosen, x3 is forced to be 30 - x1 - x2 to satisfy the mean constraint.\n",
        "\n",
        "  🎯 So even though there are 3 numbers, only 2 are free to vary.\n",
        "The third one is dependent on the first two.\n",
        "\n",
        "  🟩 You lost 1 degree of freedom due to the mean constraint.\n",
        "\n",
        "- Think of trying to estimate the spread of opinions in a group, but you first ask the group to agree on an average opinion.\n",
        "Once that average is fixed, each individual’s deviation is no longer fully independent — one is locked in to keep the group average unchanged."
      ],
      "metadata": {
        "id": "7RnZg6I1laza"
      }
    },
    {
      "cell_type": "code",
      "source": [],
      "metadata": {
        "id": "lNaOxnqGgOiG"
      },
      "execution_count": null,
      "outputs": []
    },
    {
      "cell_type": "markdown",
      "source": [
        "# Calculus"
      ],
      "metadata": {
        "id": "9ZSyCz27sEnn"
      }
    },
    {
      "cell_type": "code",
      "source": [
        "import matplotlib.pyplot as plt"
      ],
      "metadata": {
        "id": "RECxVM--tNsE"
      },
      "execution_count": 5,
      "outputs": []
    },
    {
      "cell_type": "code",
      "source": [
        "x = np.arange(1, 10, 0.1)\n",
        "y = np.sin(x)/(x**2)\n",
        "dydx = np.gradient(y)\n",
        "y_int = np.cumsum(y)*(x[1]-x[0])"
      ],
      "metadata": {
        "id": "Bq7LOX5EgPOQ"
      },
      "execution_count": 40,
      "outputs": []
    },
    {
      "cell_type": "code",
      "source": [
        "plt.plot(x, y)\n",
        "plt.plot(x, dydx)\n",
        "plt.plot(x, y_int)"
      ],
      "metadata": {
        "colab": {
          "base_uri": "https://localhost:8080/",
          "height": 448
        },
        "id": "A7xTPabpgPD1",
        "outputId": "8d2771bb-a53a-48d4-d962-c9b47b9ae01b"
      },
      "execution_count": 41,
      "outputs": [
        {
          "output_type": "execute_result",
          "data": {
            "text/plain": [
              "[<matplotlib.lines.Line2D at 0x7fcfedf1d7d0>]"
            ]
          },
          "metadata": {},
          "execution_count": 41
        },
        {
          "output_type": "display_data",
          "data": {
            "text/plain": [
              "<Figure size 640x480 with 1 Axes>"
            ],
            "image/png": "[encoded data removed]"
          },
          "metadata": {}
        }
      ]
    },
    {
      "cell_type": "code",
      "source": [],
      "metadata": {
        "id": "HKKYv-JCgPCF"
      },
      "execution_count": null,
      "outputs": []
    },
    {
      "cell_type": "code",
      "source": [
        "x = np.linspace(0, 10, 10000)\n",
        "y = np.exp(-x/10)*np.sin(x)"
      ],
      "metadata": {
        "id": "qqVBdctLgO_-"
      },
      "execution_count": 3,
      "outputs": []
    },
    {
      "cell_type": "code",
      "source": [
        "plt.plot(x, y)"
      ],
      "metadata": {
        "colab": {
          "base_uri": "https://localhost:8080/",
          "height": 448
        },
        "id": "Yu1tb9clgO_D",
        "outputId": "f286468d-072f-4f01-efe3-967f2355efb4"
      },
      "execution_count": 6,
      "outputs": [
        {
          "output_type": "execute_result",
          "data": {
            "text/plain": [
              "[<matplotlib.lines.Line2D at 0x7936bc2c5d90>]"
            ]
          },
          "metadata": {},
          "execution_count": 6
        },
        {
          "output_type": "display_data",
          "data": {
            "text/plain": [
              "<Figure size 640x480 with 1 Axes>"
            ],
            "image/png": "[encoded data removed]"
          },
          "metadata": {}
        }
      ]
    },
    {
      "cell_type": "code",
      "source": [
        "# mean and std of y for x in range [4, 7]\n",
        "mean_y = np.mean(y[(x<=7) & (x>=4)])\n",
        "std_y = np.std(y[(x<=7) & (x>=4)])"
      ],
      "metadata": {
        "id": "zs3j9ERsuajr"
      },
      "execution_count": 7,
      "outputs": []
    },
    {
      "cell_type": "code",
      "source": [
        "# value of y in between x>4 and x<7 which has 80% points less than it\n",
        "arr = y[(x<=7) & (x>=4)]\n",
        "np.percentile(arr, 80)"
      ],
      "metadata": {
        "colab": {
          "base_uri": "https://localhost:8080/"
        },
        "id": "VL9p-yOPuahF",
        "outputId": "4d55d2e1-69d9-4ac8-81dd-58a8859bea00"
      },
      "execution_count": 8,
      "outputs": [
        {
          "output_type": "execute_result",
          "data": {
            "text/plain": [
              "np.float64(0.061372680560897265)"
            ]
          },
          "metadata": {},
          "execution_count": 8
        }
      ]
    },
    {
      "cell_type": "code",
      "source": [
        "dydx = np.gradient(y)\n",
        "plt.plot(x, dydx)"
      ],
      "metadata": {
        "colab": {
          "base_uri": "https://localhost:8080/",
          "height": 448
        },
        "id": "CO_7vwwBuaeo",
        "outputId": "07410db3-b3f2-4eaa-e1e5-ea1a7daf235d"
      },
      "execution_count": 9,
      "outputs": [
        {
          "output_type": "execute_result",
          "data": {
            "text/plain": [
              "[<matplotlib.lines.Line2D at 0x79369b4d91d0>]"
            ]
          },
          "metadata": {},
          "execution_count": 9
        },
        {
          "output_type": "display_data",
          "data": {
            "text/plain": [
              "<Figure size 640x480 with 1 Axes>"
            ],
            "image/png": "[encoded data removed]"
          },
          "metadata": {}
        }
      ]
    },
    {
      "cell_type": "code",
      "source": [
        "# pts where dy/dx is zero, we wont get points where it is exaclty zero since we might not have them so we are using checking where sign of y changed.\n",
        "x[1:][(dydx[1:]*dydx[:-1])<0]"
      ],
      "metadata": {
        "colab": {
          "base_uri": "https://localhost:8080/"
        },
        "id": "wgZFuHf8uabz",
        "outputId": "9f95f8db-fad7-4434-b28c-89822cbd1295"
      },
      "execution_count": 16,
      "outputs": [
        {
          "output_type": "execute_result",
          "data": {
            "text/plain": [
              "array([1.47114711, 4.61346135, 7.75477548])"
            ]
          },
          "metadata": {},
          "execution_count": 16
        }
      ]
    },
    {
      "cell_type": "code",
      "source": [],
      "metadata": {
        "id": "nVBxGQXbgO78"
      },
      "execution_count": null,
      "outputs": []
    },
    {
      "cell_type": "code",
      "source": [
        "sum([i for i in range(10001) if (i%4!=0 and i%7!=0)])"
      ],
      "metadata": {
        "colab": {
          "base_uri": "https://localhost:8080/"
        },
        "id": "uZ0ZY6Jx-iV-",
        "outputId": "c4ea0060-b220-4c26-d66b-737aff88e78d"
      },
      "execution_count": 7,
      "outputs": [
        {
          "output_type": "execute_result",
          "data": {
            "text/plain": [
              "32147142"
            ]
          },
          "metadata": {},
          "execution_count": 7
        }
      ]
    },
    {
      "cell_type": "code",
      "source": [
        "nums = np.arange(0, 10001, 1)\n",
        "sum(nums[(nums%4!=0) & (nums%7!=0)])"
      ],
      "metadata": {
        "colab": {
          "base_uri": "https://localhost:8080/"
        },
        "id": "V9XJgeQlRscA",
        "outputId": "723d6c65-5dbc-4dc4-e5bf-b69d49773afd"
      },
      "execution_count": 18,
      "outputs": [
        {
          "output_type": "execute_result",
          "data": {
            "text/plain": [
              "np.int64(32147142)"
            ]
          },
          "metadata": {},
          "execution_count": 18
        }
      ]
    },
    {
      "cell_type": "code",
      "source": [],
      "metadata": {
        "id": "4epOSCbcShsA"
      },
      "execution_count": null,
      "outputs": []
    },
    {
      "cell_type": "code",
      "source": [],
      "metadata": {
        "id": "Ul6wn6bSp6MR"
      },
      "execution_count": null,
      "outputs": []
    },
    {
      "cell_type": "markdown",
      "source": [
        "## Matrix Operation"
      ],
      "metadata": {
        "id": "nRvGbiFmp6mn"
      }
    },
    {
      "cell_type": "code",
      "source": [
        "A = np.array([[1,2,3], [4,5,6], [7,8,9]])\n",
        "b1 = np.array([1,2,3])\n",
        "b2 = np.array([4,5,6])\n",
        "\n",
        "A@b1"
      ],
      "metadata": {
        "colab": {
          "base_uri": "https://localhost:8080/"
        },
        "id": "72KbWPHGpgBq",
        "outputId": "ca6e9382-9e27-4e06-8eb8-7f1dc410412b"
      },
      "execution_count": 3,
      "outputs": [
        {
          "output_type": "execute_result",
          "data": {
            "text/plain": [
              "array([14, 32, 50])"
            ]
          },
          "metadata": {},
          "execution_count": 3
        }
      ]
    },
    {
      "cell_type": "code",
      "source": [
        "A@b2"
      ],
      "metadata": {
        "colab": {
          "base_uri": "https://localhost:8080/"
        },
        "id": "WuDTutXaptFK",
        "outputId": "3ca8f839-e67a-4d0f-bacb-bbcb4c52236a"
      },
      "execution_count": 4,
      "outputs": [
        {
          "output_type": "execute_result",
          "data": {
            "text/plain": [
              "array([ 32,  77, 122])"
            ]
          },
          "metadata": {},
          "execution_count": 4
        }
      ]
    },
    {
      "cell_type": "code",
      "source": [
        "# Transpose of A\n",
        "A.T"
      ],
      "metadata": {
        "colab": {
          "base_uri": "https://localhost:8080/"
        },
        "id": "sF-5X2o2p2Us",
        "outputId": "eb955ada-0fb6-4b07-85f6-a16b1bdf8638"
      },
      "execution_count": 5,
      "outputs": [
        {
          "output_type": "execute_result",
          "data": {
            "text/plain": [
              "array([[1, 4, 7],\n",
              "       [2, 5, 8],\n",
              "       [3, 6, 9]])"
            ]
          },
          "metadata": {},
          "execution_count": 5
        }
      ]
    },
    {
      "cell_type": "code",
      "source": [],
      "metadata": {
        "id": "lvoIsSvXp3TJ"
      },
      "execution_count": null,
      "outputs": []
    },
    {
      "cell_type": "code",
      "source": [
        "#Eigen Values\n",
        "A = np.array([[4,2,2],[2,4,2],[2,2,4]])\n",
        "w, v = np.linalg.eig(A)"
      ],
      "metadata": {
        "id": "BvbSKpsKq3jc"
      },
      "execution_count": 6,
      "outputs": []
    },
    {
      "cell_type": "code",
      "source": [
        "# Eigen vectors are columns of this matrix\n",
        "v"
      ],
      "metadata": {
        "colab": {
          "base_uri": "https://localhost:8080/"
        },
        "id": "Nlo8QqworLiL",
        "outputId": "9963e27c-5a22-4aed-9ee7-87006f59a84c"
      },
      "execution_count": 8,
      "outputs": [
        {
          "output_type": "execute_result",
          "data": {
            "text/plain": [
              "array([[-0.81649658,  0.57735027, -0.32444284],\n",
              "       [ 0.40824829,  0.57735027, -0.48666426],\n",
              "       [ 0.40824829,  0.57735027,  0.81110711]])"
            ]
          },
          "metadata": {},
          "execution_count": 8
        }
      ]
    },
    {
      "cell_type": "code",
      "source": [
        "v1 = v[:, 0]\n",
        "A@v1"
      ],
      "metadata": {
        "colab": {
          "base_uri": "https://localhost:8080/"
        },
        "id": "0veJVfTjrMUe",
        "outputId": "5ade750f-b749-49dc-f8ca-d73c00aa2e80"
      },
      "execution_count": 9,
      "outputs": [
        {
          "output_type": "execute_result",
          "data": {
            "text/plain": [
              "array([-1.63299316,  0.81649658,  0.81649658])"
            ]
          },
          "metadata": {},
          "execution_count": 9
        }
      ]
    },
    {
      "cell_type": "code",
      "source": [
        "w[0]*v1"
      ],
      "metadata": {
        "colab": {
          "base_uri": "https://localhost:8080/"
        },
        "id": "6NWJks4orcTs",
        "outputId": "1f7d5146-e1db-4273-fb12-8de603314ab0"
      },
      "execution_count": 11,
      "outputs": [
        {
          "output_type": "execute_result",
          "data": {
            "text/plain": [
              "array([-1.63299316,  0.81649658,  0.81649658])"
            ]
          },
          "metadata": {},
          "execution_count": 11
        }
      ]
    },
    {
      "cell_type": "markdown",
      "source": [
        "$$\n",
        "Ax = λx\n",
        "$$"
      ],
      "metadata": {
        "id": "LiIali3_rjbf"
      }
    },
    {
      "cell_type": "code",
      "source": [],
      "metadata": {
        "id": "3uQrRTGsrdyu"
      },
      "execution_count": null,
      "outputs": []
    },
    {
      "cell_type": "markdown",
      "source": [
        "# 2D functions"
      ],
      "metadata": {
        "id": "6iJKs0eUsPFy"
      }
    },
    {
      "cell_type": "code",
      "source": [
        "x = np.linspace(0, 10, 1000)\n",
        "y = np.linspace(0, 10, 1000)\n",
        "xv, yv = np.meshgrid(x, y)"
      ],
      "metadata": {
        "id": "Kw5OvY2asOU0"
      },
      "execution_count": 35,
      "outputs": []
    },
    {
      "cell_type": "code",
      "source": [
        "# x has shape 1000 elements, y has 1000 elements\n",
        "# there will be 1000 * 1000 elements in grid and for each element we need to have x and y which will be in xv and yv\n",
        "# xy has 1000*1000 elements, yv has 1000*1000 elements, there will be 1 for each xv and yv"
      ],
      "metadata": {
        "id": "_ZRndrsZ4j17"
      },
      "execution_count": 23,
      "outputs": []
    },
    {
      "cell_type": "markdown",
      "source": [
        "# Meshgrid typical uses\n",
        "\n",
        "- Creating 2D/3D plots (matplotlib, surface plots)\n",
        "\n",
        "- Function evaluation on a grid\n",
        "\n",
        "- Simulation grids\n",
        "\n",
        "- Tensor broadcasting in ML"
      ],
      "metadata": {
        "id": "lbqqwMnK7yVH"
      }
    },
    {
      "cell_type": "code",
      "source": [
        "xv.shape"
      ],
      "metadata": {
        "colab": {
          "base_uri": "https://localhost:8080/"
        },
        "id": "pdHWd25K4GGn",
        "outputId": "bc074d7e-3357-4aae-9bba-820615d3669c"
      },
      "execution_count": 21,
      "outputs": [
        {
          "output_type": "execute_result",
          "data": {
            "text/plain": [
              "(1000, 1000)"
            ]
          },
          "metadata": {},
          "execution_count": 21
        }
      ]
    },
    {
      "cell_type": "code",
      "source": [
        "xv[0]==xv[1]"
      ],
      "metadata": {
        "collapsed": true,
        "colab": {
          "base_uri": "https://localhost:8080/"
        },
        "id": "mtRg0SR93mZJ",
        "outputId": "e2756e71-9f4b-458a-edd1-995f6d9d2001"
      },
      "execution_count": 17,
      "outputs": [
        {
          "output_type": "execute_result",
          "data": {
            "text/plain": [
              "array([ True,  True,  True,  True,  True,  True,  True,  True,  True,\n",
              "        True,  True,  True,  True,  True,  True,  True,  True,  True,\n",
              "        True,  True,  True,  True,  True,  True,  True,  True,  True,\n",
              "        True,  True,  True,  True,  True,  True,  True,  True,  True,\n",
              "        True,  True,  True,  True,  True,  True,  True,  True,  True,\n",
              "        True,  True,  True,  True,  True,  True,  True,  True,  True,\n",
              "        True,  True,  True,  True,  True,  True,  True,  True,  True,\n",
              "        True,  True,  True,  True,  True,  True,  True,  True,  True,\n",
              "        True,  True,  True,  True,  True,  True,  True,  True,  True,\n",
              "        True,  True,  True,  True,  True,  True,  True,  True,  True,\n",
              "        True,  True,  True,  True,  True,  True,  True,  True,  True,\n",
              "        True,  True,  True,  True,  True,  True,  True,  True,  True,\n",
              "        True,  True,  True,  True,  True,  True,  True,  True,  True,\n",
              "        True,  True,  True,  True,  True,  True,  True,  True,  True,\n",
              "        True,  True,  True,  True,  True,  True,  True,  True,  True,\n",
              "        True,  True,  True,  True,  True,  True,  True,  True,  True,\n",
              "        True,  True,  True,  True,  True,  True,  True,  True,  True,\n",
              "        True,  True,  True,  True,  True,  True,  True,  True,  True,\n",
              "        True,  True,  True,  True,  True,  True,  True,  True,  True,\n",
              "        True,  True,  True,  True,  True,  True,  True,  True,  True,\n",
              "        True,  True,  True,  True,  True,  True,  True,  True,  True,\n",
              "        True,  True,  True,  True,  True,  True,  True,  True,  True,\n",
              "        True,  True,  True,  True,  True,  True,  True,  True,  True,\n",
              "        True,  True,  True,  True,  True,  True,  True,  True,  True,\n",
              "        True,  True,  True,  True,  True,  True,  True,  True,  True,\n",
              "        True,  True,  True,  True,  True,  True,  True,  True,  True,\n",
              "        True,  True,  True,  True,  True,  True,  True,  True,  True,\n",
              "        True,  True,  True,  True,  True,  True,  True,  True,  True,\n",
              "        True,  True,  True,  True,  True,  True,  True,  True,  True,\n",
              "        True,  True,  True,  True,  True,  True,  True,  True,  True,\n",
              "        True,  True,  True,  True,  True,  True,  True,  True,  True,\n",
              "        True,  True,  True,  True,  True,  True,  True,  True,  True,\n",
              "        True,  True,  True,  True,  True,  True,  True,  True,  True,\n",
              "        True,  True,  True,  True,  True,  True,  True,  True,  True,\n",
              "        True,  True,  True,  True,  True,  True,  True,  True,  True,\n",
              "        True,  True,  True,  True,  True,  True,  True,  True,  True,\n",
              "        True,  True,  True,  True,  True,  True,  True,  True,  True,\n",
              "        True,  True,  True,  True,  True,  True,  True,  True,  True,\n",
              "        True,  True,  True,  True,  True,  True,  True,  True,  True,\n",
              "        True,  True,  True,  True,  True,  True,  True,  True,  True,\n",
              "        True,  True,  True,  True,  True,  True,  True,  True,  True,\n",
              "        True,  True,  True,  True,  True,  True,  True,  True,  True,\n",
              "        True,  True,  True,  True,  True,  True,  True,  True,  True,\n",
              "        True,  True,  True,  True,  True,  True,  True,  True,  True,\n",
              "        True,  True,  True,  True,  True,  True,  True,  True,  True,\n",
              "        True,  True,  True,  True,  True,  True,  True,  True,  True,\n",
              "        True,  True,  True,  True,  True,  True,  True,  True,  True,\n",
              "        True,  True,  True,  True,  True,  True,  True,  True,  True,\n",
              "        True,  True,  True,  True,  True,  True,  True,  True,  True,\n",
              "        True,  True,  True,  True,  True,  True,  True,  True,  True,\n",
              "        True,  True,  True,  True,  True,  True,  True,  True,  True,\n",
              "        True,  True,  True,  True,  True,  True,  True,  True,  True,\n",
              "        True,  True,  True,  True,  True,  True,  True,  True,  True,\n",
              "        True,  True,  True,  True,  True,  True,  True,  True,  True,\n",
              "        True,  True,  True,  True,  True,  True,  True,  True,  True,\n",
              "        True,  True,  True,  True,  True,  True,  True,  True,  True,\n",
              "        True,  True,  True,  True,  True,  True,  True,  True,  True,\n",
              "        True,  True,  True,  True,  True,  True,  True,  True,  True,\n",
              "        True,  True,  True,  True,  True,  True,  True,  True,  True,\n",
              "        True,  True,  True,  True,  True,  True,  True,  True,  True,\n",
              "        True,  True,  True,  True,  True,  True,  True,  True,  True,\n",
              "        True,  True,  True,  True,  True,  True,  True,  True,  True,\n",
              "        True,  True,  True,  True,  True,  True,  True,  True,  True,\n",
              "        True,  True,  True,  True,  True,  True,  True,  True,  True,\n",
              "        True,  True,  True,  True,  True,  True,  True,  True,  True,\n",
              "        True,  True,  True,  True,  True,  True,  True,  True,  True,\n",
              "        True,  True,  True,  True,  True,  True,  True,  True,  True,\n",
              "        True,  True,  True,  True,  True,  True,  True,  True,  True,\n",
              "        True,  True,  True,  True,  True,  True,  True,  True,  True,\n",
              "        True,  True,  True,  True,  True,  True,  True,  True,  True,\n",
              "        True,  True,  True,  True,  True,  True,  True,  True,  True,\n",
              "        True,  True,  True,  True,  True,  True,  True,  True,  True,\n",
              "        True,  True,  True,  True,  True,  True,  True,  True,  True,\n",
              "        True,  True,  True,  True,  True,  True,  True,  True,  True,\n",
              "        True,  True,  True,  True,  True,  True,  True,  True,  True,\n",
              "        True,  True,  True,  True,  True,  True,  True,  True,  True,\n",
              "        True,  True,  True,  True,  True,  True,  True,  True,  True,\n",
              "        True,  True,  True,  True,  True,  True,  True,  True,  True,\n",
              "        True,  True,  True,  True,  True,  True,  True,  True,  True,\n",
              "        True,  True,  True,  True,  True,  True,  True,  True,  True,\n",
              "        True,  True,  True,  True,  True,  True,  True,  True,  True,\n",
              "        True,  True,  True,  True,  True,  True,  True,  True,  True,\n",
              "        True,  True,  True,  True,  True,  True,  True,  True,  True,\n",
              "        True,  True,  True,  True,  True,  True,  True,  True,  True,\n",
              "        True,  True,  True,  True,  True,  True,  True,  True,  True,\n",
              "        True,  True,  True,  True,  True,  True,  True,  True,  True,\n",
              "        True,  True,  True,  True,  True,  True,  True,  True,  True,\n",
              "        True,  True,  True,  True,  True,  True,  True,  True,  True,\n",
              "        True,  True,  True,  True,  True,  True,  True,  True,  True,\n",
              "        True,  True,  True,  True,  True,  True,  True,  True,  True,\n",
              "        True,  True,  True,  True,  True,  True,  True,  True,  True,\n",
              "        True,  True,  True,  True,  True,  True,  True,  True,  True,\n",
              "        True,  True,  True,  True,  True,  True,  True,  True,  True,\n",
              "        True,  True,  True,  True,  True,  True,  True,  True,  True,\n",
              "        True,  True,  True,  True,  True,  True,  True,  True,  True,\n",
              "        True,  True,  True,  True,  True,  True,  True,  True,  True,\n",
              "        True,  True,  True,  True,  True,  True,  True,  True,  True,\n",
              "        True,  True,  True,  True,  True,  True,  True,  True,  True,\n",
              "        True,  True,  True,  True,  True,  True,  True,  True,  True,\n",
              "        True,  True,  True,  True,  True,  True,  True,  True,  True,\n",
              "        True,  True,  True,  True,  True,  True,  True,  True,  True,\n",
              "        True,  True,  True,  True,  True,  True,  True,  True,  True,\n",
              "        True,  True,  True,  True,  True,  True,  True,  True,  True,\n",
              "        True,  True,  True,  True,  True,  True,  True,  True,  True,\n",
              "        True,  True,  True,  True,  True,  True,  True,  True,  True,\n",
              "        True,  True,  True,  True,  True,  True,  True,  True,  True,\n",
              "        True,  True,  True,  True,  True,  True,  True,  True,  True,\n",
              "        True,  True,  True,  True,  True,  True,  True,  True,  True,\n",
              "        True,  True,  True,  True,  True,  True,  True,  True,  True,\n",
              "        True,  True,  True,  True,  True,  True,  True,  True,  True,\n",
              "        True,  True,  True,  True,  True,  True,  True,  True,  True,\n",
              "        True])"
            ]
          },
          "metadata": {},
          "execution_count": 17
        }
      ]
    },
    {
      "cell_type": "code",
      "source": [
        "xv[0]==xv[-1]"
      ],
      "metadata": {
        "collapsed": true,
        "colab": {
          "base_uri": "https://localhost:8080/"
        },
        "id": "WnJ3o_ot3tdH",
        "outputId": "bda5989e-9983-4fef-ef95-afe329f65073"
      },
      "execution_count": 18,
      "outputs": [
        {
          "output_type": "execute_result",
          "data": {
            "text/plain": [
              "array([ True,  True,  True,  True,  True,  True,  True,  True,  True,\n",
              "        True,  True,  True,  True,  True,  True,  True,  True,  True,\n",
              "        True,  True,  True,  True,  True,  True,  True,  True,  True,\n",
              "        True,  True,  True,  True,  True,  True,  True,  True,  True,\n",
              "        True,  True,  True,  True,  True,  True,  True,  True,  True,\n",
              "        True,  True,  True,  True,  True,  True,  True,  True,  True,\n",
              "        True,  True,  True,  True,  True,  True,  True,  True,  True,\n",
              "        True,  True,  True,  True,  True,  True,  True,  True,  True,\n",
              "        True,  True,  True,  True,  True,  True,  True,  True,  True,\n",
              "        True,  True,  True,  True,  True,  True,  True,  True,  True,\n",
              "        True,  True,  True,  True,  True,  True,  True,  True,  True,\n",
              "        True,  True,  True,  True,  True,  True,  True,  True,  True,\n",
              "        True,  True,  True,  True,  True,  True,  True,  True,  True,\n",
              "        True,  True,  True,  True,  True,  True,  True,  True,  True,\n",
              "        True,  True,  True,  True,  True,  True,  True,  True,  True,\n",
              "        True,  True,  True,  True,  True,  True,  True,  True,  True,\n",
              "        True,  True,  True,  True,  True,  True,  True,  True,  True,\n",
              "        True,  True,  True,  True,  True,  True,  True,  True,  True,\n",
              "        True,  True,  True,  True,  True,  True,  True,  True,  True,\n",
              "        True,  True,  True,  True,  True,  True,  True,  True,  True,\n",
              "        True,  True,  True,  True,  True,  True,  True,  True,  True,\n",
              "        True,  True,  True,  True,  True,  True,  True,  True,  True,\n",
              "        True,  True,  True,  True,  True,  True,  True,  True,  True,\n",
              "        True,  True,  True,  True,  True,  True,  True,  True,  True,\n",
              "        True,  True,  True,  True,  True,  True,  True,  True,  True,\n",
              "        True,  True,  True,  True,  True,  True,  True,  True,  True,\n",
              "        True,  True,  True,  True,  True,  True,  True,  True,  True,\n",
              "        True,  True,  True,  True,  True,  True,  True,  True,  True,\n",
              "        True,  True,  True,  True,  True,  True,  True,  True,  True,\n",
              "        True,  True,  True,  True,  True,  True,  True,  True,  True,\n",
              "        True,  True,  True,  True,  True,  True,  True,  True,  True,\n",
              "        True,  True,  True,  True,  True,  True,  True,  True,  True,\n",
              "        True,  True,  True,  True,  True,  True,  True,  True,  True,\n",
              "        True,  True,  True,  True,  True,  True,  True,  True,  True,\n",
              "        True,  True,  True,  True,  True,  True,  True,  True,  True,\n",
              "        True,  True,  True,  True,  True,  True,  True,  True,  True,\n",
              "        True,  True,  True,  True,  True,  True,  True,  True,  True,\n",
              "        True,  True,  True,  True,  True,  True,  True,  True,  True,\n",
              "        True,  True,  True,  True,  True,  True,  True,  True,  True,\n",
              "        True,  True,  True,  True,  True,  True,  True,  True,  True,\n",
              "        True,  True,  True,  True,  True,  True,  True,  True,  True,\n",
              "        True,  True,  True,  True,  True,  True,  True,  True,  True,\n",
              "        True,  True,  True,  True,  True,  True,  True,  True,  True,\n",
              "        True,  True,  True,  True,  True,  True,  True,  True,  True,\n",
              "        True,  True,  True,  True,  True,  True,  True,  True,  True,\n",
              "        True,  True,  True,  True,  True,  True,  True,  True,  True,\n",
              "        True,  True,  True,  True,  True,  True,  True,  True,  True,\n",
              "        True,  True,  True,  True,  True,  True,  True,  True,  True,\n",
              "        True,  True,  True,  True,  True,  True,  True,  True,  True,\n",
              "        True,  True,  True,  True,  True,  True,  True,  True,  True,\n",
              "        True,  True,  True,  True,  True,  True,  True,  True,  True,\n",
              "        True,  True,  True,  True,  True,  True,  True,  True,  True,\n",
              "        True,  True,  True,  True,  True,  True,  True,  True,  True,\n",
              "        True,  True,  True,  True,  True,  True,  True,  True,  True,\n",
              "        True,  True,  True,  True,  True,  True,  True,  True,  True,\n",
              "        True,  True,  True,  True,  True,  True,  True,  True,  True,\n",
              "        True,  True,  True,  True,  True,  True,  True,  True,  True,\n",
              "        True,  True,  True,  True,  True,  True,  True,  True,  True,\n",
              "        True,  True,  True,  True,  True,  True,  True,  True,  True,\n",
              "        True,  True,  True,  True,  True,  True,  True,  True,  True,\n",
              "        True,  True,  True,  True,  True,  True,  True,  True,  True,\n",
              "        True,  True,  True,  True,  True,  True,  True,  True,  True,\n",
              "        True,  True,  True,  True,  True,  True,  True,  True,  True,\n",
              "        True,  True,  True,  True,  True,  True,  True,  True,  True,\n",
              "        True,  True,  True,  True,  True,  True,  True,  True,  True,\n",
              "        True,  True,  True,  True,  True,  True,  True,  True,  True,\n",
              "        True,  True,  True,  True,  True,  True,  True,  True,  True,\n",
              "        True,  True,  True,  True,  True,  True,  True,  True,  True,\n",
              "        True,  True,  True,  True,  True,  True,  True,  True,  True,\n",
              "        True,  True,  True,  True,  True,  True,  True,  True,  True,\n",
              "        True,  True,  True,  True,  True,  True,  True,  True,  True,\n",
              "        True,  True,  True,  True,  True,  True,  True,  True,  True,\n",
              "        True,  True,  True,  True,  True,  True,  True,  True,  True,\n",
              "        True,  True,  True,  True,  True,  True,  True,  True,  True,\n",
              "        True,  True,  True,  True,  True,  True,  True,  True,  True,\n",
              "        True,  True,  True,  True,  True,  True,  True,  True,  True,\n",
              "        True,  True,  True,  True,  True,  True,  True,  True,  True,\n",
              "        True,  True,  True,  True,  True,  True,  True,  True,  True,\n",
              "        True,  True,  True,  True,  True,  True,  True,  True,  True,\n",
              "        True,  True,  True,  True,  True,  True,  True,  True,  True,\n",
              "        True,  True,  True,  True,  True,  True,  True,  True,  True,\n",
              "        True,  True,  True,  True,  True,  True,  True,  True,  True,\n",
              "        True,  True,  True,  True,  True,  True,  True,  True,  True,\n",
              "        True,  True,  True,  True,  True,  True,  True,  True,  True,\n",
              "        True,  True,  True,  True,  True,  True,  True,  True,  True,\n",
              "        True,  True,  True,  True,  True,  True,  True,  True,  True,\n",
              "        True,  True,  True,  True,  True,  True,  True,  True,  True,\n",
              "        True,  True,  True,  True,  True,  True,  True,  True,  True,\n",
              "        True,  True,  True,  True,  True,  True,  True,  True,  True,\n",
              "        True,  True,  True,  True,  True,  True,  True,  True,  True,\n",
              "        True,  True,  True,  True,  True,  True,  True,  True,  True,\n",
              "        True,  True,  True,  True,  True,  True,  True,  True,  True,\n",
              "        True,  True,  True,  True,  True,  True,  True,  True,  True,\n",
              "        True,  True,  True,  True,  True,  True,  True,  True,  True,\n",
              "        True,  True,  True,  True,  True,  True,  True,  True,  True,\n",
              "        True,  True,  True,  True,  True,  True,  True,  True,  True,\n",
              "        True,  True,  True,  True,  True,  True,  True,  True,  True,\n",
              "        True,  True,  True,  True,  True,  True,  True,  True,  True,\n",
              "        True,  True,  True,  True,  True,  True,  True,  True,  True,\n",
              "        True,  True,  True,  True,  True,  True,  True,  True,  True,\n",
              "        True,  True,  True,  True,  True,  True,  True,  True,  True,\n",
              "        True,  True,  True,  True,  True,  True,  True,  True,  True,\n",
              "        True,  True,  True,  True,  True,  True,  True,  True,  True,\n",
              "        True,  True,  True,  True,  True,  True,  True,  True,  True,\n",
              "        True,  True,  True,  True,  True,  True,  True,  True,  True,\n",
              "        True,  True,  True,  True,  True,  True,  True,  True,  True,\n",
              "        True,  True,  True,  True,  True,  True,  True,  True,  True,\n",
              "        True,  True,  True,  True,  True,  True,  True,  True,  True,\n",
              "        True,  True,  True,  True,  True,  True,  True,  True,  True,\n",
              "        True,  True,  True,  True,  True,  True,  True,  True,  True,\n",
              "        True,  True,  True,  True,  True,  True,  True,  True,  True,\n",
              "        True])"
            ]
          },
          "metadata": {},
          "execution_count": 18
        }
      ]
    },
    {
      "cell_type": "code",
      "source": [
        "yv.shape"
      ],
      "metadata": {
        "colab": {
          "base_uri": "https://localhost:8080/"
        },
        "id": "ZwqXXqvL39To",
        "outputId": "6d70fc81-0987-4ad6-b8a4-f274f090aa2a"
      },
      "execution_count": 20,
      "outputs": [
        {
          "output_type": "execute_result",
          "data": {
            "text/plain": [
              "(1000, 1000)"
            ]
          },
          "metadata": {},
          "execution_count": 20
        }
      ]
    },
    {
      "cell_type": "code",
      "source": [
        "yv[0]"
      ],
      "metadata": {
        "collapsed": true,
        "colab": {
          "base_uri": "https://localhost:8080/"
        },
        "id": "V3sgJRb94Cvb",
        "outputId": "83199775-c533-429b-e130-3f4c53dc5560"
      },
      "execution_count": 22,
      "outputs": [
        {
          "output_type": "execute_result",
          "data": {
            "text/plain": [
              "array([0., 0., 0., 0., 0., 0., 0., 0., 0., 0., 0., 0., 0., 0., 0., 0., 0.,\n",
              "       0., 0., 0., 0., 0., 0., 0., 0., 0., 0., 0., 0., 0., 0., 0., 0., 0.,\n",
              "       0., 0., 0., 0., 0., 0., 0., 0., 0., 0., 0., 0., 0., 0., 0., 0., 0.,\n",
              "       0., 0., 0., 0., 0., 0., 0., 0., 0., 0., 0., 0., 0., 0., 0., 0., 0.,\n",
              "       0., 0., 0., 0., 0., 0., 0., 0., 0., 0., 0., 0., 0., 0., 0., 0., 0.,\n",
              "       0., 0., 0., 0., 0., 0., 0., 0., 0., 0., 0., 0., 0., 0., 0., 0., 0.,\n",
              "       0., 0., 0., 0., 0., 0., 0., 0., 0., 0., 0., 0., 0., 0., 0., 0., 0.,\n",
              "       0., 0., 0., 0., 0., 0., 0., 0., 0., 0., 0., 0., 0., 0., 0., 0., 0.,\n",
              "       0., 0., 0., 0., 0., 0., 0., 0., 0., 0., 0., 0., 0., 0., 0., 0., 0.,\n",
              "       0., 0., 0., 0., 0., 0., 0., 0., 0., 0., 0., 0., 0., 0., 0., 0., 0.,\n",
              "       0., 0., 0., 0., 0., 0., 0., 0., 0., 0., 0., 0., 0., 0., 0., 0., 0.,\n",
              "       0., 0., 0., 0., 0., 0., 0., 0., 0., 0., 0., 0., 0., 0., 0., 0., 0.,\n",
              "       0., 0., 0., 0., 0., 0., 0., 0., 0., 0., 0., 0., 0., 0., 0., 0., 0.,\n",
              "       0., 0., 0., 0., 0., 0., 0., 0., 0., 0., 0., 0., 0., 0., 0., 0., 0.,\n",
              "       0., 0., 0., 0., 0., 0., 0., 0., 0., 0., 0., 0., 0., 0., 0., 0., 0.,\n",
              "       0., 0., 0., 0., 0., 0., 0., 0., 0., 0., 0., 0., 0., 0., 0., 0., 0.,\n",
              "       0., 0., 0., 0., 0., 0., 0., 0., 0., 0., 0., 0., 0., 0., 0., 0., 0.,\n",
              "       0., 0., 0., 0., 0., 0., 0., 0., 0., 0., 0., 0., 0., 0., 0., 0., 0.,\n",
              "       0., 0., 0., 0., 0., 0., 0., 0., 0., 0., 0., 0., 0., 0., 0., 0., 0.,\n",
              "       0., 0., 0., 0., 0., 0., 0., 0., 0., 0., 0., 0., 0., 0., 0., 0., 0.,\n",
              "       0., 0., 0., 0., 0., 0., 0., 0., 0., 0., 0., 0., 0., 0., 0., 0., 0.,\n",
              "       0., 0., 0., 0., 0., 0., 0., 0., 0., 0., 0., 0., 0., 0., 0., 0., 0.,\n",
              "       0., 0., 0., 0., 0., 0., 0., 0., 0., 0., 0., 0., 0., 0., 0., 0., 0.,\n",
              "       0., 0., 0., 0., 0., 0., 0., 0., 0., 0., 0., 0., 0., 0., 0., 0., 0.,\n",
              "       0., 0., 0., 0., 0., 0., 0., 0., 0., 0., 0., 0., 0., 0., 0., 0., 0.,\n",
              "       0., 0., 0., 0., 0., 0., 0., 0., 0., 0., 0., 0., 0., 0., 0., 0., 0.,\n",
              "       0., 0., 0., 0., 0., 0., 0., 0., 0., 0., 0., 0., 0., 0., 0., 0., 0.,\n",
              "       0., 0., 0., 0., 0., 0., 0., 0., 0., 0., 0., 0., 0., 0., 0., 0., 0.,\n",
              "       0., 0., 0., 0., 0., 0., 0., 0., 0., 0., 0., 0., 0., 0., 0., 0., 0.,\n",
              "       0., 0., 0., 0., 0., 0., 0., 0., 0., 0., 0., 0., 0., 0., 0., 0., 0.,\n",
              "       0., 0., 0., 0., 0., 0., 0., 0., 0., 0., 0., 0., 0., 0., 0., 0., 0.,\n",
              "       0., 0., 0., 0., 0., 0., 0., 0., 0., 0., 0., 0., 0., 0., 0., 0., 0.,\n",
              "       0., 0., 0., 0., 0., 0., 0., 0., 0., 0., 0., 0., 0., 0., 0., 0., 0.,\n",
              "       0., 0., 0., 0., 0., 0., 0., 0., 0., 0., 0., 0., 0., 0., 0., 0., 0.,\n",
              "       0., 0., 0., 0., 0., 0., 0., 0., 0., 0., 0., 0., 0., 0., 0., 0., 0.,\n",
              "       0., 0., 0., 0., 0., 0., 0., 0., 0., 0., 0., 0., 0., 0., 0., 0., 0.,\n",
              "       0., 0., 0., 0., 0., 0., 0., 0., 0., 0., 0., 0., 0., 0., 0., 0., 0.,\n",
              "       0., 0., 0., 0., 0., 0., 0., 0., 0., 0., 0., 0., 0., 0., 0., 0., 0.,\n",
              "       0., 0., 0., 0., 0., 0., 0., 0., 0., 0., 0., 0., 0., 0., 0., 0., 0.,\n",
              "       0., 0., 0., 0., 0., 0., 0., 0., 0., 0., 0., 0., 0., 0., 0., 0., 0.,\n",
              "       0., 0., 0., 0., 0., 0., 0., 0., 0., 0., 0., 0., 0., 0., 0., 0., 0.,\n",
              "       0., 0., 0., 0., 0., 0., 0., 0., 0., 0., 0., 0., 0., 0., 0., 0., 0.,\n",
              "       0., 0., 0., 0., 0., 0., 0., 0., 0., 0., 0., 0., 0., 0., 0., 0., 0.,\n",
              "       0., 0., 0., 0., 0., 0., 0., 0., 0., 0., 0., 0., 0., 0., 0., 0., 0.,\n",
              "       0., 0., 0., 0., 0., 0., 0., 0., 0., 0., 0., 0., 0., 0., 0., 0., 0.,\n",
              "       0., 0., 0., 0., 0., 0., 0., 0., 0., 0., 0., 0., 0., 0., 0., 0., 0.,\n",
              "       0., 0., 0., 0., 0., 0., 0., 0., 0., 0., 0., 0., 0., 0., 0., 0., 0.,\n",
              "       0., 0., 0., 0., 0., 0., 0., 0., 0., 0., 0., 0., 0., 0., 0., 0., 0.,\n",
              "       0., 0., 0., 0., 0., 0., 0., 0., 0., 0., 0., 0., 0., 0., 0., 0., 0.,\n",
              "       0., 0., 0., 0., 0., 0., 0., 0., 0., 0., 0., 0., 0., 0., 0., 0., 0.,\n",
              "       0., 0., 0., 0., 0., 0., 0., 0., 0., 0., 0., 0., 0., 0., 0., 0., 0.,\n",
              "       0., 0., 0., 0., 0., 0., 0., 0., 0., 0., 0., 0., 0., 0., 0., 0., 0.,\n",
              "       0., 0., 0., 0., 0., 0., 0., 0., 0., 0., 0., 0., 0., 0., 0., 0., 0.,\n",
              "       0., 0., 0., 0., 0., 0., 0., 0., 0., 0., 0., 0., 0., 0., 0., 0., 0.,\n",
              "       0., 0., 0., 0., 0., 0., 0., 0., 0., 0., 0., 0., 0., 0., 0., 0., 0.,\n",
              "       0., 0., 0., 0., 0., 0., 0., 0., 0., 0., 0., 0., 0., 0., 0., 0., 0.,\n",
              "       0., 0., 0., 0., 0., 0., 0., 0., 0., 0., 0., 0., 0., 0., 0., 0., 0.,\n",
              "       0., 0., 0., 0., 0., 0., 0., 0., 0., 0., 0., 0., 0., 0., 0., 0., 0.,\n",
              "       0., 0., 0., 0., 0., 0., 0., 0., 0., 0., 0., 0., 0., 0.])"
            ]
          },
          "metadata": {},
          "execution_count": 22
        }
      ]
    },
    {
      "cell_type": "code",
      "source": [],
      "metadata": {
        "id": "1c2BSCtII5-X"
      },
      "execution_count": null,
      "outputs": []
    },
    {
      "cell_type": "markdown",
      "source": [
        "# Contour plot\n",
        "- A contour plot is a graphical representation of a 3D surface on a 2D plane using contour lines. Each line connects points of equal value, similar to a topographic map.\n",
        "\n",
        "To visualize how a function z = f(x, y) behaves across a 2D domain, especially to:\n",
        "\n",
        "- Identify peaks, valleys, and saddle points\n",
        "- Show gradients and steepness\n",
        "- Understand shape of loss functions or terrains\n",
        "\n",
        "\n",
        "*Contours:* Lines where the function has constant value.\n",
        "\n",
        "*Levels:* The specific values of z at which contours are drawn.\n",
        "\n",
        "*Spacing:*\n",
        "\n",
        "Close contours → steep gradient\n",
        "\n",
        "Wide contours → gentle slope"
      ],
      "metadata": {
        "id": "f2hMJNC2I6fj"
      }
    },
    {
      "cell_type": "code",
      "source": [
        "zv = xv**2 + yv**2\n",
        "# for each contour line, value of z is same over the entire contour\n",
        "plt.contourf(xv, yv, zv, levels=10)\n",
        "plt.colorbar()"
      ],
      "metadata": {
        "colab": {
          "base_uri": "https://localhost:8080/",
          "height": 453
        },
        "id": "sXloHq678ON1",
        "outputId": "a4753720-1b4f-4e26-e1b0-3f5ab94991dd"
      },
      "execution_count": 63,
      "outputs": [
        {
          "output_type": "execute_result",
          "data": {
            "text/plain": [
              "<matplotlib.colorbar.Colorbar at 0x79a7cd933b50>"
            ]
          },
          "metadata": {},
          "execution_count": 63
        },
        {
          "output_type": "display_data",
          "data": {
            "text/plain": [
              "<Figure size 640x480 with 2 Axes>"
            ],
            "image/png": "[encoded data removed]"
          },
          "metadata": {}
        }
      ]
    },
    {
      "cell_type": "markdown",
      "source": [
        "Above contour plot represents a Elliptic Paraboloid in 3D Why?\n",
        "Because:\n",
        "\n",
        "- Every cross-section parallel to the xz- or yz-plane is a parabola.\n",
        "\n",
        "- Every cross-section parallel to the xy-plane\n",
        "\n",
        "- It opens upward (bowl-shaped).\n",
        "\n",
        "- Has a minimum point at the origin (0,0,0)."
      ],
      "metadata": {
        "id": "r0cEtoBNKOzn"
      }
    },
    {
      "cell_type": "code",
      "source": [],
      "metadata": {
        "id": "sgjVqAvRKOGb"
      },
      "execution_count": null,
      "outputs": []
    },
    {
      "cell_type": "code",
      "source": [
        "zv[zv==6.262518775031287]"
      ],
      "metadata": {
        "colab": {
          "base_uri": "https://localhost:8080/"
        },
        "id": "vt_nrB1oC17g",
        "outputId": "cac4f864-b71b-4f2d-aefa-ea0bb129832d"
      },
      "execution_count": 61,
      "outputs": [
        {
          "output_type": "execute_result",
          "data": {
            "text/plain": [
              "array([6.26251878, 6.26251878, 6.26251878, 6.26251878, 6.26251878,\n",
              "       6.26251878])"
            ]
          },
          "metadata": {},
          "execution_count": 61
        }
      ]
    },
    {
      "cell_type": "code",
      "source": [
        "xv[0]"
      ],
      "metadata": {
        "collapsed": true,
        "colab": {
          "base_uri": "https://localhost:8080/"
        },
        "id": "lImYdwYA9ES0",
        "outputId": "72fc134c-f6d4-46da-e9b5-74eb32331784"
      },
      "execution_count": 45,
      "outputs": [
        {
          "output_type": "execute_result",
          "data": {
            "text/plain": [
              "array([ 0.        ,  0.01001001,  0.02002002,  0.03003003,  0.04004004,\n",
              "        0.05005005,  0.06006006,  0.07007007,  0.08008008,  0.09009009,\n",
              "        0.1001001 ,  0.11011011,  0.12012012,  0.13013013,  0.14014014,\n",
              "        0.15015015,  0.16016016,  0.17017017,  0.18018018,  0.19019019,\n",
              "        0.2002002 ,  0.21021021,  0.22022022,  0.23023023,  0.24024024,\n",
              "        0.25025025,  0.26026026,  0.27027027,  0.28028028,  0.29029029,\n",
              "        0.3003003 ,  0.31031031,  0.32032032,  0.33033033,  0.34034034,\n",
              "        0.35035035,  0.36036036,  0.37037037,  0.38038038,  0.39039039,\n",
              "        0.4004004 ,  0.41041041,  0.42042042,  0.43043043,  0.44044044,\n",
              "        0.45045045,  0.46046046,  0.47047047,  0.48048048,  0.49049049,\n",
              "        0.5005005 ,  0.51051051,  0.52052052,  0.53053053,  0.54054054,\n",
              "        0.55055055,  0.56056056,  0.57057057,  0.58058058,  0.59059059,\n",
              "        0.6006006 ,  0.61061061,  0.62062062,  0.63063063,  0.64064064,\n",
              "        0.65065065,  0.66066066,  0.67067067,  0.68068068,  0.69069069,\n",
              "        0.7007007 ,  0.71071071,  0.72072072,  0.73073073,  0.74074074,\n",
              "        0.75075075,  0.76076076,  0.77077077,  0.78078078,  0.79079079,\n",
              "        0.8008008 ,  0.81081081,  0.82082082,  0.83083083,  0.84084084,\n",
              "        0.85085085,  0.86086086,  0.87087087,  0.88088088,  0.89089089,\n",
              "        0.9009009 ,  0.91091091,  0.92092092,  0.93093093,  0.94094094,\n",
              "        0.95095095,  0.96096096,  0.97097097,  0.98098098,  0.99099099,\n",
              "        1.001001  ,  1.01101101,  1.02102102,  1.03103103,  1.04104104,\n",
              "        1.05105105,  1.06106106,  1.07107107,  1.08108108,  1.09109109,\n",
              "        1.1011011 ,  1.11111111,  1.12112112,  1.13113113,  1.14114114,\n",
              "        1.15115115,  1.16116116,  1.17117117,  1.18118118,  1.19119119,\n",
              "        1.2012012 ,  1.21121121,  1.22122122,  1.23123123,  1.24124124,\n",
              "        1.25125125,  1.26126126,  1.27127127,  1.28128128,  1.29129129,\n",
              "        1.3013013 ,  1.31131131,  1.32132132,  1.33133133,  1.34134134,\n",
              "        1.35135135,  1.36136136,  1.37137137,  1.38138138,  1.39139139,\n",
              "        1.4014014 ,  1.41141141,  1.42142142,  1.43143143,  1.44144144,\n",
              "        1.45145145,  1.46146146,  1.47147147,  1.48148148,  1.49149149,\n",
              "        1.5015015 ,  1.51151151,  1.52152152,  1.53153153,  1.54154154,\n",
              "        1.55155155,  1.56156156,  1.57157157,  1.58158158,  1.59159159,\n",
              "        1.6016016 ,  1.61161161,  1.62162162,  1.63163163,  1.64164164,\n",
              "        1.65165165,  1.66166166,  1.67167167,  1.68168168,  1.69169169,\n",
              "        1.7017017 ,  1.71171171,  1.72172172,  1.73173173,  1.74174174,\n",
              "        1.75175175,  1.76176176,  1.77177177,  1.78178178,  1.79179179,\n",
              "        1.8018018 ,  1.81181181,  1.82182182,  1.83183183,  1.84184184,\n",
              "        1.85185185,  1.86186186,  1.87187187,  1.88188188,  1.89189189,\n",
              "        1.9019019 ,  1.91191191,  1.92192192,  1.93193193,  1.94194194,\n",
              "        1.95195195,  1.96196196,  1.97197197,  1.98198198,  1.99199199,\n",
              "        2.002002  ,  2.01201201,  2.02202202,  2.03203203,  2.04204204,\n",
              "        2.05205205,  2.06206206,  2.07207207,  2.08208208,  2.09209209,\n",
              "        2.1021021 ,  2.11211211,  2.12212212,  2.13213213,  2.14214214,\n",
              "        2.15215215,  2.16216216,  2.17217217,  2.18218218,  2.19219219,\n",
              "        2.2022022 ,  2.21221221,  2.22222222,  2.23223223,  2.24224224,\n",
              "        2.25225225,  2.26226226,  2.27227227,  2.28228228,  2.29229229,\n",
              "        2.3023023 ,  2.31231231,  2.32232232,  2.33233233,  2.34234234,\n",
              "        2.35235235,  2.36236236,  2.37237237,  2.38238238,  2.39239239,\n",
              "        2.4024024 ,  2.41241241,  2.42242242,  2.43243243,  2.44244244,\n",
              "        2.45245245,  2.46246246,  2.47247247,  2.48248248,  2.49249249,\n",
              "        2.5025025 ,  2.51251251,  2.52252252,  2.53253253,  2.54254254,\n",
              "        2.55255255,  2.56256256,  2.57257257,  2.58258258,  2.59259259,\n",
              "        2.6026026 ,  2.61261261,  2.62262262,  2.63263263,  2.64264264,\n",
              "        2.65265265,  2.66266266,  2.67267267,  2.68268268,  2.69269269,\n",
              "        2.7027027 ,  2.71271271,  2.72272272,  2.73273273,  2.74274274,\n",
              "        2.75275275,  2.76276276,  2.77277277,  2.78278278,  2.79279279,\n",
              "        2.8028028 ,  2.81281281,  2.82282282,  2.83283283,  2.84284284,\n",
              "        2.85285285,  2.86286286,  2.87287287,  2.88288288,  2.89289289,\n",
              "        2.9029029 ,  2.91291291,  2.92292292,  2.93293293,  2.94294294,\n",
              "        2.95295295,  2.96296296,  2.97297297,  2.98298298,  2.99299299,\n",
              "        3.003003  ,  3.01301301,  3.02302302,  3.03303303,  3.04304304,\n",
              "        3.05305305,  3.06306306,  3.07307307,  3.08308308,  3.09309309,\n",
              "        3.1031031 ,  3.11311311,  3.12312312,  3.13313313,  3.14314314,\n",
              "        3.15315315,  3.16316316,  3.17317317,  3.18318318,  3.19319319,\n",
              "        3.2032032 ,  3.21321321,  3.22322322,  3.23323323,  3.24324324,\n",
              "        3.25325325,  3.26326326,  3.27327327,  3.28328328,  3.29329329,\n",
              "        3.3033033 ,  3.31331331,  3.32332332,  3.33333333,  3.34334334,\n",
              "        3.35335335,  3.36336336,  3.37337337,  3.38338338,  3.39339339,\n",
              "        3.4034034 ,  3.41341341,  3.42342342,  3.43343343,  3.44344344,\n",
              "        3.45345345,  3.46346346,  3.47347347,  3.48348348,  3.49349349,\n",
              "        3.5035035 ,  3.51351351,  3.52352352,  3.53353353,  3.54354354,\n",
              "        3.55355355,  3.56356356,  3.57357357,  3.58358358,  3.59359359,\n",
              "        3.6036036 ,  3.61361361,  3.62362362,  3.63363363,  3.64364364,\n",
              "        3.65365365,  3.66366366,  3.67367367,  3.68368368,  3.69369369,\n",
              "        3.7037037 ,  3.71371371,  3.72372372,  3.73373373,  3.74374374,\n",
              "        3.75375375,  3.76376376,  3.77377377,  3.78378378,  3.79379379,\n",
              "        3.8038038 ,  3.81381381,  3.82382382,  3.83383383,  3.84384384,\n",
              "        3.85385385,  3.86386386,  3.87387387,  3.88388388,  3.89389389,\n",
              "        3.9039039 ,  3.91391391,  3.92392392,  3.93393393,  3.94394394,\n",
              "        3.95395395,  3.96396396,  3.97397397,  3.98398398,  3.99399399,\n",
              "        4.004004  ,  4.01401401,  4.02402402,  4.03403403,  4.04404404,\n",
              "        4.05405405,  4.06406406,  4.07407407,  4.08408408,  4.09409409,\n",
              "        4.1041041 ,  4.11411411,  4.12412412,  4.13413413,  4.14414414,\n",
              "        4.15415415,  4.16416416,  4.17417417,  4.18418418,  4.19419419,\n",
              "        4.2042042 ,  4.21421421,  4.22422422,  4.23423423,  4.24424424,\n",
              "        4.25425425,  4.26426426,  4.27427427,  4.28428428,  4.29429429,\n",
              "        4.3043043 ,  4.31431431,  4.32432432,  4.33433433,  4.34434434,\n",
              "        4.35435435,  4.36436436,  4.37437437,  4.38438438,  4.39439439,\n",
              "        4.4044044 ,  4.41441441,  4.42442442,  4.43443443,  4.44444444,\n",
              "        4.45445445,  4.46446446,  4.47447447,  4.48448448,  4.49449449,\n",
              "        4.5045045 ,  4.51451451,  4.52452452,  4.53453453,  4.54454454,\n",
              "        4.55455455,  4.56456456,  4.57457457,  4.58458458,  4.59459459,\n",
              "        4.6046046 ,  4.61461461,  4.62462462,  4.63463463,  4.64464464,\n",
              "        4.65465465,  4.66466466,  4.67467467,  4.68468468,  4.69469469,\n",
              "        4.7047047 ,  4.71471471,  4.72472472,  4.73473473,  4.74474474,\n",
              "        4.75475475,  4.76476476,  4.77477477,  4.78478478,  4.79479479,\n",
              "        4.8048048 ,  4.81481481,  4.82482482,  4.83483483,  4.84484484,\n",
              "        4.85485485,  4.86486486,  4.87487487,  4.88488488,  4.89489489,\n",
              "        4.9049049 ,  4.91491491,  4.92492492,  4.93493493,  4.94494494,\n",
              "        4.95495495,  4.96496496,  4.97497497,  4.98498498,  4.99499499,\n",
              "        5.00500501,  5.01501502,  5.02502503,  5.03503504,  5.04504505,\n",
              "        5.05505506,  5.06506507,  5.07507508,  5.08508509,  5.0950951 ,\n",
              "        5.10510511,  5.11511512,  5.12512513,  5.13513514,  5.14514515,\n",
              "        5.15515516,  5.16516517,  5.17517518,  5.18518519,  5.1951952 ,\n",
              "        5.20520521,  5.21521522,  5.22522523,  5.23523524,  5.24524525,\n",
              "        5.25525526,  5.26526527,  5.27527528,  5.28528529,  5.2952953 ,\n",
              "        5.30530531,  5.31531532,  5.32532533,  5.33533534,  5.34534535,\n",
              "        5.35535536,  5.36536537,  5.37537538,  5.38538539,  5.3953954 ,\n",
              "        5.40540541,  5.41541542,  5.42542543,  5.43543544,  5.44544545,\n",
              "        5.45545546,  5.46546547,  5.47547548,  5.48548549,  5.4954955 ,\n",
              "        5.50550551,  5.51551552,  5.52552553,  5.53553554,  5.54554555,\n",
              "        5.55555556,  5.56556557,  5.57557558,  5.58558559,  5.5955956 ,\n",
              "        5.60560561,  5.61561562,  5.62562563,  5.63563564,  5.64564565,\n",
              "        5.65565566,  5.66566567,  5.67567568,  5.68568569,  5.6956957 ,\n",
              "        5.70570571,  5.71571572,  5.72572573,  5.73573574,  5.74574575,\n",
              "        5.75575576,  5.76576577,  5.77577578,  5.78578579,  5.7957958 ,\n",
              "        5.80580581,  5.81581582,  5.82582583,  5.83583584,  5.84584585,\n",
              "        5.85585586,  5.86586587,  5.87587588,  5.88588589,  5.8958959 ,\n",
              "        5.90590591,  5.91591592,  5.92592593,  5.93593594,  5.94594595,\n",
              "        5.95595596,  5.96596597,  5.97597598,  5.98598599,  5.995996  ,\n",
              "        6.00600601,  6.01601602,  6.02602603,  6.03603604,  6.04604605,\n",
              "        6.05605606,  6.06606607,  6.07607608,  6.08608609,  6.0960961 ,\n",
              "        6.10610611,  6.11611612,  6.12612613,  6.13613614,  6.14614615,\n",
              "        6.15615616,  6.16616617,  6.17617618,  6.18618619,  6.1961962 ,\n",
              "        6.20620621,  6.21621622,  6.22622623,  6.23623624,  6.24624625,\n",
              "        6.25625626,  6.26626627,  6.27627628,  6.28628629,  6.2962963 ,\n",
              "        6.30630631,  6.31631632,  6.32632633,  6.33633634,  6.34634635,\n",
              "        6.35635636,  6.36636637,  6.37637638,  6.38638639,  6.3963964 ,\n",
              "        6.40640641,  6.41641642,  6.42642643,  6.43643644,  6.44644645,\n",
              "        6.45645646,  6.46646647,  6.47647648,  6.48648649,  6.4964965 ,\n",
              "        6.50650651,  6.51651652,  6.52652653,  6.53653654,  6.54654655,\n",
              "        6.55655656,  6.56656657,  6.57657658,  6.58658659,  6.5965966 ,\n",
              "        6.60660661,  6.61661662,  6.62662663,  6.63663664,  6.64664665,\n",
              "        6.65665666,  6.66666667,  6.67667668,  6.68668669,  6.6966967 ,\n",
              "        6.70670671,  6.71671672,  6.72672673,  6.73673674,  6.74674675,\n",
              "        6.75675676,  6.76676677,  6.77677678,  6.78678679,  6.7967968 ,\n",
              "        6.80680681,  6.81681682,  6.82682683,  6.83683684,  6.84684685,\n",
              "        6.85685686,  6.86686687,  6.87687688,  6.88688689,  6.8968969 ,\n",
              "        6.90690691,  6.91691692,  6.92692693,  6.93693694,  6.94694695,\n",
              "        6.95695696,  6.96696697,  6.97697698,  6.98698699,  6.996997  ,\n",
              "        7.00700701,  7.01701702,  7.02702703,  7.03703704,  7.04704705,\n",
              "        7.05705706,  7.06706707,  7.07707708,  7.08708709,  7.0970971 ,\n",
              "        7.10710711,  7.11711712,  7.12712713,  7.13713714,  7.14714715,\n",
              "        7.15715716,  7.16716717,  7.17717718,  7.18718719,  7.1971972 ,\n",
              "        7.20720721,  7.21721722,  7.22722723,  7.23723724,  7.24724725,\n",
              "        7.25725726,  7.26726727,  7.27727728,  7.28728729,  7.2972973 ,\n",
              "        7.30730731,  7.31731732,  7.32732733,  7.33733734,  7.34734735,\n",
              "        7.35735736,  7.36736737,  7.37737738,  7.38738739,  7.3973974 ,\n",
              "        7.40740741,  7.41741742,  7.42742743,  7.43743744,  7.44744745,\n",
              "        7.45745746,  7.46746747,  7.47747748,  7.48748749,  7.4974975 ,\n",
              "        7.50750751,  7.51751752,  7.52752753,  7.53753754,  7.54754755,\n",
              "        7.55755756,  7.56756757,  7.57757758,  7.58758759,  7.5975976 ,\n",
              "        7.60760761,  7.61761762,  7.62762763,  7.63763764,  7.64764765,\n",
              "        7.65765766,  7.66766767,  7.67767768,  7.68768769,  7.6976977 ,\n",
              "        7.70770771,  7.71771772,  7.72772773,  7.73773774,  7.74774775,\n",
              "        7.75775776,  7.76776777,  7.77777778,  7.78778779,  7.7977978 ,\n",
              "        7.80780781,  7.81781782,  7.82782783,  7.83783784,  7.84784785,\n",
              "        7.85785786,  7.86786787,  7.87787788,  7.88788789,  7.8978979 ,\n",
              "        7.90790791,  7.91791792,  7.92792793,  7.93793794,  7.94794795,\n",
              "        7.95795796,  7.96796797,  7.97797798,  7.98798799,  7.997998  ,\n",
              "        8.00800801,  8.01801802,  8.02802803,  8.03803804,  8.04804805,\n",
              "        8.05805806,  8.06806807,  8.07807808,  8.08808809,  8.0980981 ,\n",
              "        8.10810811,  8.11811812,  8.12812813,  8.13813814,  8.14814815,\n",
              "        8.15815816,  8.16816817,  8.17817818,  8.18818819,  8.1981982 ,\n",
              "        8.20820821,  8.21821822,  8.22822823,  8.23823824,  8.24824825,\n",
              "        8.25825826,  8.26826827,  8.27827828,  8.28828829,  8.2982983 ,\n",
              "        8.30830831,  8.31831832,  8.32832833,  8.33833834,  8.34834835,\n",
              "        8.35835836,  8.36836837,  8.37837838,  8.38838839,  8.3983984 ,\n",
              "        8.40840841,  8.41841842,  8.42842843,  8.43843844,  8.44844845,\n",
              "        8.45845846,  8.46846847,  8.47847848,  8.48848849,  8.4984985 ,\n",
              "        8.50850851,  8.51851852,  8.52852853,  8.53853854,  8.54854855,\n",
              "        8.55855856,  8.56856857,  8.57857858,  8.58858859,  8.5985986 ,\n",
              "        8.60860861,  8.61861862,  8.62862863,  8.63863864,  8.64864865,\n",
              "        8.65865866,  8.66866867,  8.67867868,  8.68868869,  8.6986987 ,\n",
              "        8.70870871,  8.71871872,  8.72872873,  8.73873874,  8.74874875,\n",
              "        8.75875876,  8.76876877,  8.77877878,  8.78878879,  8.7987988 ,\n",
              "        8.80880881,  8.81881882,  8.82882883,  8.83883884,  8.84884885,\n",
              "        8.85885886,  8.86886887,  8.87887888,  8.88888889,  8.8988989 ,\n",
              "        8.90890891,  8.91891892,  8.92892893,  8.93893894,  8.94894895,\n",
              "        8.95895896,  8.96896897,  8.97897898,  8.98898899,  8.998999  ,\n",
              "        9.00900901,  9.01901902,  9.02902903,  9.03903904,  9.04904905,\n",
              "        9.05905906,  9.06906907,  9.07907908,  9.08908909,  9.0990991 ,\n",
              "        9.10910911,  9.11911912,  9.12912913,  9.13913914,  9.14914915,\n",
              "        9.15915916,  9.16916917,  9.17917918,  9.18918919,  9.1991992 ,\n",
              "        9.20920921,  9.21921922,  9.22922923,  9.23923924,  9.24924925,\n",
              "        9.25925926,  9.26926927,  9.27927928,  9.28928929,  9.2992993 ,\n",
              "        9.30930931,  9.31931932,  9.32932933,  9.33933934,  9.34934935,\n",
              "        9.35935936,  9.36936937,  9.37937938,  9.38938939,  9.3993994 ,\n",
              "        9.40940941,  9.41941942,  9.42942943,  9.43943944,  9.44944945,\n",
              "        9.45945946,  9.46946947,  9.47947948,  9.48948949,  9.4994995 ,\n",
              "        9.50950951,  9.51951952,  9.52952953,  9.53953954,  9.54954955,\n",
              "        9.55955956,  9.56956957,  9.57957958,  9.58958959,  9.5995996 ,\n",
              "        9.60960961,  9.61961962,  9.62962963,  9.63963964,  9.64964965,\n",
              "        9.65965966,  9.66966967,  9.67967968,  9.68968969,  9.6996997 ,\n",
              "        9.70970971,  9.71971972,  9.72972973,  9.73973974,  9.74974975,\n",
              "        9.75975976,  9.76976977,  9.77977978,  9.78978979,  9.7997998 ,\n",
              "        9.80980981,  9.81981982,  9.82982983,  9.83983984,  9.84984985,\n",
              "        9.85985986,  9.86986987,  9.87987988,  9.88988989,  9.8998999 ,\n",
              "        9.90990991,  9.91991992,  9.92992993,  9.93993994,  9.94994995,\n",
              "        9.95995996,  9.96996997,  9.97997998,  9.98998999, 10.        ])"
            ]
          },
          "metadata": {},
          "execution_count": 45
        }
      ]
    },
    {
      "cell_type": "code",
      "source": [],
      "metadata": {
        "id": "F4rNYq0fDXmt"
      },
      "execution_count": null,
      "outputs": []
    },
    {
      "cell_type": "code",
      "source": [],
      "metadata": {
        "id": "zrMWjjbd4Mym"
      },
      "execution_count": null,
      "outputs": []
    },
    {
      "cell_type": "code",
      "source": [
        "import numpy as np\n",
        "\n",
        "x = np.array([1, 2, 3])\n",
        "y = np.array([10, 20])\n",
        "\n",
        "# x has 3 elemnts and y has 2 elements\n",
        "# meshgrid will have 6 elements so X and Y both will have 6 elements\n",
        "\n",
        "X, Y = np.meshgrid(x, y)\n",
        "print(\"X:\\n\", X)\n",
        "print(\"Y:\\n\", Y)"
      ],
      "metadata": {
        "colab": {
          "base_uri": "https://localhost:8080/"
        },
        "id": "_0sLRQoo4PM7",
        "outputId": "ccda7928-cadb-4378-a7cc-ea5fdf69c088"
      },
      "execution_count": 24,
      "outputs": [
        {
          "output_type": "stream",
          "name": "stdout",
          "text": [
            "X:\n",
            " [[1 2 3]\n",
            " [1 2 3]]\n",
            "Y:\n",
            " [[10 10 10]\n",
            " [20 20 20]]\n"
          ]
        }
      ]
    },
    {
      "cell_type": "code",
      "source": [],
      "metadata": {
        "id": "BT4ynXPR4PK5"
      },
      "execution_count": null,
      "outputs": []
    },
    {
      "cell_type": "markdown",
      "source": [
        "# Calculus example"
      ],
      "metadata": {
        "id": "5f43IIX_ON_k"
      }
    },
    {
      "cell_type": "code",
      "source": [],
      "metadata": {
        "id": "KKFYIC1E4PJD"
      },
      "execution_count": null,
      "outputs": []
    },
    {
      "cell_type": "code",
      "source": [],
      "metadata": {
        "id": "CISzdsdM4PHe"
      },
      "execution_count": null,
      "outputs": []
    },
    {
      "cell_type": "code",
      "source": [],
      "metadata": {
        "id": "YezrteNb4PGr"
      },
      "execution_count": null,
      "outputs": []
    },
    {
      "cell_type": "code",
      "source": [],
      "metadata": {
        "id": "qHh7MaQH4PEB"
      },
      "execution_count": null,
      "outputs": []
    },
    {
      "cell_type": "code",
      "source": [],
      "metadata": {
        "id": "eLzEUKIW4PCn"
      },
      "execution_count": null,
      "outputs": []
    },
    {
      "cell_type": "code",
      "source": [],
      "metadata": {
        "id": "zKPZcS1n4O--"
      },
      "execution_count": null,
      "outputs": []
    }
  ]
}