{
  "nbformat": 4,
  "nbformat_minor": 0,
  "metadata": {
    "colab": {
      "provenance": [],
      "authorship_tag": "ABX9TyPhkoHKlB8wwcyc3EniknkT",
      "include_colab_link": true
    },
    "kernelspec": {
      "name": "python3",
      "display_name": "Python 3"
    },
    "language_info": {
      "name": "python"
    }
  },
  "cells": [
    {
      "cell_type": "markdown",
      "metadata": {
        "id": "view-in-github",
        "colab_type": "text"
      },
      "source": [
        "<a href=\"https://colab.research.google.com/github/inderpreetsingh01/PyMath/blob/main/numpy1.ipynb\" target=\"_parent\"><img src=\"https://colab.research.google.com/assets/colab-badge.svg\" alt=\"Open In Colab\"/></a>"
      ]
    },
    {
      "cell_type": "code",
      "execution_count": null,
      "metadata": {
        "id": "4cu6tUvZRSpb"
      },
      "outputs": [],
      "source": [
        "import numpy as np\n",
        "import matplotlib.pyplot as plt"
      ]
    },
    {
      "cell_type": "markdown",
      "source": [
        "##Creating Arrays"
      ],
      "metadata": {
        "id": "8Lc8-RlWSvcG"
      }
    },
    {
      "cell_type": "code",
      "source": [
        "# 1. From Existing Data\n",
        "# np.array always copies the input into a new array (by default),\n",
        "# while np.asarray avoids copying if the input is already a NumPy array with a compatible dtype.\n",
        "a1 = np.array([1, 2, 3])               # From list\n",
        "a2 = np.array([[1, 2], [3, 4]])        # From nested lists\n",
        "a3 = np.asarray((1, 2, 3))"
      ],
      "metadata": {
        "id": "ea3PQby_Wbj1"
      },
      "execution_count": null,
      "outputs": []
    },
    {
      "cell_type": "code",
      "source": [
        "np.array((1, 2, 3))"
      ],
      "metadata": {
        "colab": {
          "base_uri": "https://localhost:8080/"
        },
        "id": "yCK6E5SaiZaW",
        "outputId": "5550d50c-81b9-461d-ff77-6daaad58253f"
      },
      "execution_count": null,
      "outputs": [
        {
          "output_type": "execute_result",
          "data": {
            "text/plain": [
              "array([1, 2, 3])"
            ]
          },
          "metadata": {},
          "execution_count": 83
        }
      ]
    },
    {
      "cell_type": "code",
      "source": [
        "a2"
      ],
      "metadata": {
        "colab": {
          "base_uri": "https://localhost:8080/"
        },
        "id": "q-DxZos2Wkj-",
        "outputId": "cb5866ca-8d4f-4dba-906f-9d6df41084ff"
      },
      "execution_count": null,
      "outputs": [
        {
          "output_type": "execute_result",
          "data": {
            "text/plain": [
              "array([[1, 2],\n",
              "       [3, 4]])"
            ]
          },
          "metadata": {},
          "execution_count": 24
        }
      ]
    },
    {
      "cell_type": "code",
      "source": [
        "a3"
      ],
      "metadata": {
        "colab": {
          "base_uri": "https://localhost:8080/"
        },
        "id": "ftgoYsryWokU",
        "outputId": "8a02379d-3fd7-452c-f0a1-293b8e0f98ba"
      },
      "execution_count": null,
      "outputs": [
        {
          "output_type": "execute_result",
          "data": {
            "text/plain": [
              "array([1, 2, 3])"
            ]
          },
          "metadata": {},
          "execution_count": 25
        }
      ]
    },
    {
      "cell_type": "code",
      "source": [
        "# 2. Predefined Values\n",
        "a1 = np.zeros(10)\n",
        "a2 = np.ones(10)\n",
        "\n",
        "# fill with a value (shape, fill_value)\n",
        "a3 = np.full((2, 2), 7)\n",
        "\n",
        "# initialize with random values, (shape)\n",
        "a4 = np.empty((2, 3))"
      ],
      "metadata": {
        "id": "oxLokcnkRf4p"
      },
      "execution_count": null,
      "outputs": []
    },
    {
      "cell_type": "code",
      "source": [
        "import numpy as np"
      ],
      "metadata": {
        "id": "cPagIxN7mclT"
      },
      "execution_count": 2,
      "outputs": []
    },
    {
      "cell_type": "code",
      "source": [
        "np.zeros(10)"
      ],
      "metadata": {
        "id": "mMgYzQP7mWLI",
        "outputId": "3d501972-acca-4561-c9b4-4663a2f2c2a3",
        "colab": {
          "base_uri": "https://localhost:8080/"
        }
      },
      "execution_count": 3,
      "outputs": [
        {
          "output_type": "execute_result",
          "data": {
            "text/plain": [
              "array([0., 0., 0., 0., 0., 0., 0., 0., 0., 0.])"
            ]
          },
          "metadata": {},
          "execution_count": 3
        }
      ]
    },
    {
      "cell_type": "code",
      "source": [
        "a3"
      ],
      "metadata": {
        "colab": {
          "base_uri": "https://localhost:8080/"
        },
        "id": "2_Ilq3p0WDyw",
        "outputId": "683f070d-ed30-41d2-adc8-eef268dac967"
      },
      "execution_count": null,
      "outputs": [
        {
          "output_type": "execute_result",
          "data": {
            "text/plain": [
              "array([[7, 7],\n",
              "       [7, 7]])"
            ]
          },
          "metadata": {},
          "execution_count": 20
        }
      ]
    },
    {
      "cell_type": "code",
      "source": [
        "a4"
      ],
      "metadata": {
        "colab": {
          "base_uri": "https://localhost:8080/"
        },
        "id": "QT1jxbqGWEIc",
        "outputId": "8aa8a747-56a1-4a58-a0d7-3e8f8eb43bd0"
      },
      "execution_count": null,
      "outputs": [
        {
          "output_type": "execute_result",
          "data": {
            "text/plain": [
              "array([[3.07174339e-315, 0.00000000e+000, 0.00000000e+000],\n",
              "       [0.00000000e+000, 0.00000000e+000, 0.00000000e+000]])"
            ]
          },
          "metadata": {},
          "execution_count": 21
        }
      ]
    },
    {
      "cell_type": "code",
      "source": [
        "# 3. Ranges and Sequences\n",
        "\n",
        "# if only one number is specified that is treated as stop with start as 0 and space=1\n",
        "a1 = np.arange(10)\n",
        "\n",
        "# evenly spaced points in between start and stop by the specified space (default 1), excluding stop\n",
        "a1 = np.arange(0, 10, 0.5)\n",
        "\n",
        "# evenly spaced points including start and end (start, stop, total_points)\n",
        "a2 = np.linspace(0, 10, 11)\n",
        "\n",
        "# evenly spaced points in log scale, including start and end (start, stop, total_points)\n",
        "# first it creates evenly spaced points in linear scale as in linspace and then raise it to power of 10\n",
        "a3 = np.logspace(1, 3, 4)"
      ],
      "metadata": {
        "id": "PNTYdpJEV_73"
      },
      "execution_count": null,
      "outputs": []
    },
    {
      "cell_type": "code",
      "source": [
        "a1"
      ],
      "metadata": {
        "colab": {
          "base_uri": "https://localhost:8080/"
        },
        "id": "eSSMlWVZap8n",
        "outputId": "ca3c2a36-daa0-4b7d-8d2d-cf15f222c279"
      },
      "execution_count": null,
      "outputs": [
        {
          "output_type": "execute_result",
          "data": {
            "text/plain": [
              "array([0. , 0.5, 1. , 1.5, 2. , 2.5, 3. , 3.5, 4. , 4.5, 5. , 5.5, 6. ,\n",
              "       6.5, 7. , 7.5, 8. , 8.5, 9. , 9.5])"
            ]
          },
          "metadata": {},
          "execution_count": 37
        }
      ]
    },
    {
      "cell_type": "code",
      "source": [
        "a2"
      ],
      "metadata": {
        "colab": {
          "base_uri": "https://localhost:8080/"
        },
        "id": "_GAGW9n-arOf",
        "outputId": "2c42e9ef-2c3d-4fe6-c3da-9b4618d437a3"
      },
      "execution_count": null,
      "outputs": [
        {
          "output_type": "execute_result",
          "data": {
            "text/plain": [
              "array([ 0.,  1.,  2.,  3.,  4.,  5.,  6.,  7.,  8.,  9., 10.])"
            ]
          },
          "metadata": {},
          "execution_count": 38
        }
      ]
    },
    {
      "cell_type": "code",
      "source": [
        "np.linspace(1, 3, 4)"
      ],
      "metadata": {
        "colab": {
          "base_uri": "https://localhost:8080/"
        },
        "id": "T1y4vq1aamsA",
        "outputId": "2c291060-587d-4cb3-fe59-1bcc1ab5b93b"
      },
      "execution_count": null,
      "outputs": [
        {
          "output_type": "execute_result",
          "data": {
            "text/plain": [
              "array([1.        , 1.66666667, 2.33333333, 3.        ])"
            ]
          },
          "metadata": {},
          "execution_count": 36
        }
      ]
    },
    {
      "cell_type": "code",
      "source": [
        "a3"
      ],
      "metadata": {
        "colab": {
          "base_uri": "https://localhost:8080/"
        },
        "id": "k6E2HxkVXzhy",
        "outputId": "177f69de-f66a-4bb6-d703-18f566a0b3ba"
      },
      "execution_count": null,
      "outputs": [
        {
          "output_type": "execute_result",
          "data": {
            "text/plain": [
              "array([  10.        ,   46.41588834,  215.443469  , 1000.        ])"
            ]
          },
          "metadata": {},
          "execution_count": 27
        }
      ]
    },
    {
      "cell_type": "code",
      "source": [],
      "metadata": {
        "id": "qIIJqPnUbNnO"
      },
      "execution_count": null,
      "outputs": []
    },
    {
      "cell_type": "code",
      "source": [
        "# 4. Identity and Diagonal\n",
        "a1 = np.eye(3)\n",
        "a2 = np.diag([1, 2, 3])"
      ],
      "metadata": {
        "id": "_6yFhqxmbNkA"
      },
      "execution_count": null,
      "outputs": []
    },
    {
      "cell_type": "code",
      "source": [
        "a1"
      ],
      "metadata": {
        "colab": {
          "base_uri": "https://localhost:8080/"
        },
        "id": "UIEPtaQ8bNh4",
        "outputId": "8e19dbeb-8101-4d34-a21a-cbd95c2052f9"
      },
      "execution_count": null,
      "outputs": [
        {
          "output_type": "execute_result",
          "data": {
            "text/plain": [
              "array([[1., 0., 0.],\n",
              "       [0., 1., 0.],\n",
              "       [0., 0., 1.]])"
            ]
          },
          "metadata": {},
          "execution_count": 40
        }
      ]
    },
    {
      "cell_type": "code",
      "source": [
        "a2"
      ],
      "metadata": {
        "colab": {
          "base_uri": "https://localhost:8080/"
        },
        "id": "5O8R9kfsbNev",
        "outputId": "7d86575d-bd2f-45c0-9112-838337a28d8b"
      },
      "execution_count": null,
      "outputs": [
        {
          "output_type": "execute_result",
          "data": {
            "text/plain": [
              "array([[1, 0, 0],\n",
              "       [0, 2, 0],\n",
              "       [0, 0, 3]])"
            ]
          },
          "metadata": {},
          "execution_count": 41
        }
      ]
    },
    {
      "cell_type": "code",
      "source": [],
      "metadata": {
        "id": "mRkZMl41bNXN"
      },
      "execution_count": null,
      "outputs": []
    },
    {
      "cell_type": "code",
      "source": [
        "# 5. Random Arrays\n",
        "# uniform distribution between [0, 1)\n",
        "# better for dynamic shapes\n",
        "a1 = np.random.random((2,3))\n",
        "\n",
        "# uniform distribution between [0, 1), similar to random above but takes dimensions as positional args rather random takes tuple as single argument\n",
        "a2 = np.random.rand(2,3)\n",
        "\n",
        "# normal distribution mean=0 and std=1\n",
        "a3 = np.random.randn(2,3)\n",
        "\n",
        "# random ints (low, high, shape) high not included\n",
        "a4 = np.random.randint(0, 10, (2, 3))"
      ],
      "metadata": {
        "id": "hvGfucjuXtXQ"
      },
      "execution_count": null,
      "outputs": []
    },
    {
      "cell_type": "code",
      "source": [
        "a1"
      ],
      "metadata": {
        "colab": {
          "base_uri": "https://localhost:8080/"
        },
        "id": "4Ex9oK9_UBFI",
        "outputId": "b61c97d1-be03-4e81-ecdc-691ad658abda"
      },
      "execution_count": null,
      "outputs": [
        {
          "output_type": "execute_result",
          "data": {
            "text/plain": [
              "array([[0.587224  , 0.30736068, 0.68161956],\n",
              "       [0.70430722, 0.10186837, 0.50648609]])"
            ]
          },
          "metadata": {},
          "execution_count": 48
        }
      ]
    },
    {
      "cell_type": "code",
      "source": [
        "a2"
      ],
      "metadata": {
        "colab": {
          "base_uri": "https://localhost:8080/"
        },
        "id": "eEVySFmtUCFd",
        "outputId": "8b4ef89c-84d6-4686-b748-fadc9d199ac5"
      },
      "execution_count": null,
      "outputs": [
        {
          "output_type": "execute_result",
          "data": {
            "text/plain": [
              "array([[0.89688395, 0.23326313, 0.65920204],\n",
              "       [0.63659216, 0.76139817, 0.59683164]])"
            ]
          },
          "metadata": {},
          "execution_count": 49
        }
      ]
    },
    {
      "cell_type": "code",
      "source": [
        "a3"
      ],
      "metadata": {
        "colab": {
          "base_uri": "https://localhost:8080/"
        },
        "id": "oq_5bkEIUDEN",
        "outputId": "22a97f77-cca1-47e5-b38c-cf3f4b9aba59"
      },
      "execution_count": null,
      "outputs": [
        {
          "output_type": "execute_result",
          "data": {
            "text/plain": [
              "array([[ 0.20636012, -0.54992621, -0.03312104],\n",
              "       [ 1.59263722,  1.71844187, -0.66681419]])"
            ]
          },
          "metadata": {},
          "execution_count": 50
        }
      ]
    },
    {
      "cell_type": "code",
      "source": [
        "a4"
      ],
      "metadata": {
        "colab": {
          "base_uri": "https://localhost:8080/"
        },
        "id": "_x069gqgUDii",
        "outputId": "dd578936-2f08-4d08-8145-18c6e3658c1d"
      },
      "execution_count": null,
      "outputs": [
        {
          "output_type": "execute_result",
          "data": {
            "text/plain": [
              "array([[3, 1, 9],\n",
              "       [5, 5, 2]])"
            ]
          },
          "metadata": {},
          "execution_count": 51
        }
      ]
    },
    {
      "cell_type": "code",
      "source": [],
      "metadata": {
        "id": "FDa0XHWjUi8k"
      },
      "execution_count": null,
      "outputs": []
    },
    {
      "cell_type": "code",
      "source": [
        "# 6. From Functions\n",
        "# function over coordinate i, j for the given shape\n",
        "a1 = np.fromfunction(lambda i, j: i + j, (3, 3))\n",
        "a2 = np.fromiter(range(5), dtype=int)"
      ],
      "metadata": {
        "id": "Rv3gC_brUij1"
      },
      "execution_count": null,
      "outputs": []
    },
    {
      "cell_type": "code",
      "source": [
        "a1"
      ],
      "metadata": {
        "id": "Qke0Cu7EUh1Z",
        "colab": {
          "base_uri": "https://localhost:8080/"
        },
        "outputId": "6da646ab-66ba-4d2b-cda9-0f1b4d2973dc"
      },
      "execution_count": null,
      "outputs": [
        {
          "output_type": "execute_result",
          "data": {
            "text/plain": [
              "array([[0., 1., 2.],\n",
              "       [1., 2., 3.],\n",
              "       [2., 3., 4.]])"
            ]
          },
          "metadata": {},
          "execution_count": 56
        }
      ]
    },
    {
      "cell_type": "code",
      "source": [
        "a2"
      ],
      "metadata": {
        "id": "dEvVdyLdUgAM",
        "colab": {
          "base_uri": "https://localhost:8080/"
        },
        "outputId": "3cbee8af-62e1-42e7-957c-08b4bed35640"
      },
      "execution_count": null,
      "outputs": [
        {
          "output_type": "execute_result",
          "data": {
            "text/plain": [
              "array([0, 1, 2, 3, 4])"
            ]
          },
          "metadata": {},
          "execution_count": 54
        }
      ]
    },
    {
      "cell_type": "code",
      "source": [
        "a2 = np.fromiter((1,2,3), dtype=int)\n",
        "a2 = np.fromiter({1,2,3}, dtype=int)"
      ],
      "metadata": {
        "id": "OvBMEW9LleDL"
      },
      "execution_count": null,
      "outputs": []
    },
    {
      "cell_type": "code",
      "source": [
        "a2"
      ],
      "metadata": {
        "colab": {
          "base_uri": "https://localhost:8080/"
        },
        "id": "EUOL34bxmKyL",
        "outputId": "cf92c8c4-d9f9-41e2-f66b-a194e720656c"
      },
      "execution_count": null,
      "outputs": [
        {
          "output_type": "execute_result",
          "data": {
            "text/plain": [
              "array([1, 2, 3])"
            ]
          },
          "metadata": {},
          "execution_count": 65
        }
      ]
    },
    {
      "cell_type": "code",
      "source": [],
      "metadata": {
        "id": "SKsVnUmemKf2"
      },
      "execution_count": null,
      "outputs": []
    },
    {
      "cell_type": "code",
      "source": [
        "# 7. Copy/Like Existing Arrays\n",
        "a = np.array([[1, 2], [3, 4]])\n",
        "a2 = np.copy(a)                        # Explicit copy\n",
        "a3 = np.ones_like(a)                   # Shape like a, filled with 1s\n",
        "a4 = np.zeros_like(a)"
      ],
      "metadata": {
        "id": "Cpidzkdelf_5"
      },
      "execution_count": null,
      "outputs": []
    },
    {
      "cell_type": "code",
      "source": [
        "a"
      ],
      "metadata": {
        "colab": {
          "base_uri": "https://localhost:8080/"
        },
        "id": "7ZcAtz1Gm1Wl",
        "outputId": "4b490d81-dbe1-464c-fad5-70aeda134caa"
      },
      "execution_count": null,
      "outputs": [
        {
          "output_type": "execute_result",
          "data": {
            "text/plain": [
              "array([[1, 2],\n",
              "       [3, 4]])"
            ]
          },
          "metadata": {},
          "execution_count": 68
        }
      ]
    },
    {
      "cell_type": "code",
      "source": [
        "a3"
      ],
      "metadata": {
        "colab": {
          "base_uri": "https://localhost:8080/"
        },
        "id": "Icc1Nu9Ulgae",
        "outputId": "14405a20-5178-42f4-bdd1-53ef3238c731"
      },
      "execution_count": null,
      "outputs": [
        {
          "output_type": "execute_result",
          "data": {
            "text/plain": [
              "array([[1, 1],\n",
              "       [1, 1]])"
            ]
          },
          "metadata": {},
          "execution_count": 67
        }
      ]
    },
    {
      "cell_type": "code",
      "source": [
        "a4"
      ],
      "metadata": {
        "colab": {
          "base_uri": "https://localhost:8080/"
        },
        "id": "QSW0sPp6lgu3",
        "outputId": "95b3423c-9563-43d0-b7a5-6af1957f0a48"
      },
      "execution_count": null,
      "outputs": [
        {
          "output_type": "execute_result",
          "data": {
            "text/plain": [
              "array([[0, 0],\n",
              "       [0, 0]])"
            ]
          },
          "metadata": {},
          "execution_count": 69
        }
      ]
    },
    {
      "cell_type": "code",
      "source": [
        "a2"
      ],
      "metadata": {
        "colab": {
          "base_uri": "https://localhost:8080/"
        },
        "id": "UtYtrnZAm4I-",
        "outputId": "cc244e06-4960-4b6f-8e28-261160299521"
      },
      "execution_count": null,
      "outputs": [
        {
          "output_type": "execute_result",
          "data": {
            "text/plain": [
              "array([[1, 2],\n",
              "       [3, 4]])"
            ]
          },
          "metadata": {},
          "execution_count": 70
        }
      ]
    },
    {
      "cell_type": "code",
      "source": [
        "# to check if two arrays are same objects or not\n",
        "print(a2 is a)                    # False — different objects\n",
        "print(np.array_equal(a2, a))      # True — same content\n",
        "a2[0] = 99\n",
        "print(np.array_equal(a2, a))      # False — contents now different\n",
        "print(np.any(a2 != a))"
      ],
      "metadata": {
        "colab": {
          "base_uri": "https://localhost:8080/"
        },
        "id": "8kLuAUtcm4ET",
        "outputId": "6e671039-5be6-491d-e0d0-2f71bc066164"
      },
      "execution_count": null,
      "outputs": [
        {
          "output_type": "stream",
          "name": "stdout",
          "text": [
            "False\n",
            "True\n",
            "False\n",
            "True\n"
          ]
        }
      ]
    },
    {
      "cell_type": "code",
      "source": [
        "np.allclose(np.array([2]), np.array([3.1]), atol=1)"
      ],
      "metadata": {
        "colab": {
          "base_uri": "https://localhost:8080/"
        },
        "id": "hiSrJ7YWncXP",
        "outputId": "8feebb0d-9a81-4e46-8115-a2ab76334a0a"
      },
      "execution_count": null,
      "outputs": [
        {
          "output_type": "execute_result",
          "data": {
            "text/plain": [
              "False"
            ]
          },
          "metadata": {},
          "execution_count": 82
        }
      ]
    },
    {
      "cell_type": "code",
      "source": [],
      "metadata": {
        "id": "sqnbhXnKo84_"
      },
      "execution_count": null,
      "outputs": []
    },
    {
      "cell_type": "markdown",
      "source": [
        "## Operations on Array"
      ],
      "metadata": {
        "id": "AEz1vibucUcF"
      }
    },
    {
      "cell_type": "code",
      "source": [
        "a1 = np.array([1,2,3])"
      ],
      "metadata": {
        "id": "BCRs2izKpaYJ"
      },
      "execution_count": null,
      "outputs": []
    },
    {
      "cell_type": "code",
      "source": [
        "# operation on all elements of array at once\n",
        "1/a1"
      ],
      "metadata": {
        "colab": {
          "base_uri": "https://localhost:8080/"
        },
        "id": "4N4cqNPKpa1H",
        "outputId": "1dc86d8a-484f-4300-ec24-6d2cd70cb7dc"
      },
      "execution_count": null,
      "outputs": [
        {
          "output_type": "execute_result",
          "data": {
            "text/plain": [
              "array([1.        , 0.5       , 0.33333333])"
            ]
          },
          "metadata": {},
          "execution_count": 4
        }
      ]
    },
    {
      "cell_type": "code",
      "source": [
        "a1**2"
      ],
      "metadata": {
        "colab": {
          "base_uri": "https://localhost:8080/"
        },
        "id": "juaQNzSgpbUY",
        "outputId": "3dd89b44-c789-4a04-d122-c0e7df8093cd"
      },
      "execution_count": null,
      "outputs": [
        {
          "output_type": "execute_result",
          "data": {
            "text/plain": [
              "array([1, 4, 9])"
            ]
          },
          "metadata": {},
          "execution_count": 5
        }
      ]
    },
    {
      "cell_type": "code",
      "source": [
        "10**a1"
      ],
      "metadata": {
        "colab": {
          "base_uri": "https://localhost:8080/"
        },
        "id": "vYeilAQfgNWP",
        "outputId": "75a9e300-9c73-476c-c7b6-cfa8fb677bf5"
      },
      "execution_count": null,
      "outputs": [
        {
          "output_type": "execute_result",
          "data": {
            "text/plain": [
              "array([  10,  100, 1000])"
            ]
          },
          "metadata": {},
          "execution_count": 26
        }
      ]
    },
    {
      "cell_type": "code",
      "source": [
        "a1*2"
      ],
      "metadata": {
        "colab": {
          "base_uri": "https://localhost:8080/"
        },
        "id": "Df-TD4-nchYt",
        "outputId": "57e4f874-87ff-4f43-f41a-c2d9b725601a"
      },
      "execution_count": null,
      "outputs": [
        {
          "output_type": "execute_result",
          "data": {
            "text/plain": [
              "array([2, 4, 6])"
            ]
          },
          "metadata": {},
          "execution_count": 6
        }
      ]
    },
    {
      "cell_type": "code",
      "source": [
        "1/a1 + 2 + a1**2"
      ],
      "metadata": {
        "colab": {
          "base_uri": "https://localhost:8080/"
        },
        "id": "GjWrVU6tcibZ",
        "outputId": "efe86019-3e02-4f78-c982-5ab9dc9776d5"
      },
      "execution_count": null,
      "outputs": [
        {
          "output_type": "execute_result",
          "data": {
            "text/plain": [
              "array([ 4.        ,  6.5       , 11.33333333])"
            ]
          },
          "metadata": {},
          "execution_count": 7
        }
      ]
    },
    {
      "cell_type": "code",
      "source": [
        "plt.plot(np.arange(100), np.arange(100)**2)"
      ],
      "metadata": {
        "colab": {
          "base_uri": "https://localhost:8080/",
          "height": 448
        },
        "id": "nkHHpZnBcnwk",
        "outputId": "f90b35f5-51b9-4b3f-b0b0-84eddfd50267"
      },
      "execution_count": null,
      "outputs": [
        {
          "output_type": "execute_result",
          "data": {
            "text/plain": [
              "[<matplotlib.lines.Line2D at 0x7bc6e3d3c290>]"
            ]
          },
          "metadata": {},
          "execution_count": 11
        },
        {
          "output_type": "display_data",
          "data": {
            "text/plain": [
              "<Figure size 640x480 with 1 Axes>"
            ],
            "image/png": "[encoded data removed]"
          },
          "metadata": {}
        }
      ]
    },
    {
      "cell_type": "code",
      "source": [
        "def f(x):\n",
        "  return np.sin(x)/np.exp(-x)"
      ],
      "metadata": {
        "id": "7ccLYkDOc0ld"
      },
      "execution_count": null,
      "outputs": []
    },
    {
      "cell_type": "code",
      "source": [
        "a = np.arange(100)\n",
        "plt.plot(a, f(a))"
      ],
      "metadata": {
        "colab": {
          "base_uri": "https://localhost:8080/",
          "height": 463
        },
        "id": "aw2jpuDodu_v",
        "outputId": "00ecfd59-acd5-4ce5-a64e-850c24e7e16b"
      },
      "execution_count": null,
      "outputs": [
        {
          "output_type": "execute_result",
          "data": {
            "text/plain": [
              "[<matplotlib.lines.Line2D at 0x7bc6da664b50>]"
            ]
          },
          "metadata": {},
          "execution_count": 19
        },
        {
          "output_type": "display_data",
          "data": {
            "text/plain": [
              "<Figure size 640x480 with 1 Axes>"
            ],
            "image/png": "[encoded data removed]"
          },
          "metadata": {}
        }
      ]
    },
    {
      "cell_type": "code",
      "source": [
        "# 1. Element wise arithmetic\n",
        "a = np.arange(2, 20, 2)\n",
        "b = np.arange(1, 10)\n",
        "a + b            # Addition\n",
        "a - b            # Subtraction\n",
        "a * b            # Multiplication (element-wise)\n",
        "a / b            # Division (element-wise)\n",
        "a ** 2           # Power\n",
        "np.sqrt(a)       # Square root"
      ],
      "metadata": {
        "colab": {
          "base_uri": "https://localhost:8080/"
        },
        "id": "8xLl39zAdzID",
        "outputId": "e8a9ff9f-e4dd-4c91-8d70-8040e3994eda"
      },
      "execution_count": null,
      "outputs": [
        {
          "output_type": "execute_result",
          "data": {
            "text/plain": [
              "array([1.41421356, 2.        , 2.44948974, 2.82842712, 3.16227766,\n",
              "       3.46410162, 3.74165739, 4.        , 4.24264069])"
            ]
          },
          "metadata": {},
          "execution_count": 22
        }
      ]
    },
    {
      "cell_type": "code",
      "source": [
        "a"
      ],
      "metadata": {
        "colab": {
          "base_uri": "https://localhost:8080/"
        },
        "id": "279u9QVqf5wv",
        "outputId": "a03cd828-dc84-44c1-b1d7-eae271582cac"
      },
      "execution_count": null,
      "outputs": [
        {
          "output_type": "execute_result",
          "data": {
            "text/plain": [
              "array([ 2,  4,  6,  8, 10, 12, 14, 16, 18])"
            ]
          },
          "metadata": {},
          "execution_count": 23
        }
      ]
    },
    {
      "cell_type": "code",
      "source": [
        "b"
      ],
      "metadata": {
        "colab": {
          "base_uri": "https://localhost:8080/"
        },
        "id": "XpihR2RjgFlA",
        "outputId": "cd2466e6-e6e7-40eb-9b56-45f19595004c"
      },
      "execution_count": null,
      "outputs": [
        {
          "output_type": "execute_result",
          "data": {
            "text/plain": [
              "array([1, 2, 3, 4, 5, 6, 7, 8, 9])"
            ]
          },
          "metadata": {},
          "execution_count": 24
        }
      ]
    },
    {
      "cell_type": "code",
      "source": [
        "# 2. Aggregation Functions\n",
        "sum = np.sum(a)        # Total sum\n",
        "mean = np.mean(a)       # Mean\n",
        "std = np.std(a)        # Standard deviation\n",
        "min = np.min(a)        # Minimum\n",
        "max = np.max(a)        # Maximum\n",
        "argmin = np.argmin(a)     # Index of min\n",
        "argmax = np.argmax(a)     # Index of max"
      ],
      "metadata": {
        "id": "S-l9FltlgLOc"
      },
      "execution_count": null,
      "outputs": []
    },
    {
      "cell_type": "code",
      "source": [
        "sum"
      ],
      "metadata": {
        "colab": {
          "base_uri": "https://localhost:8080/"
        },
        "id": "Q6RPMAzpghaA",
        "outputId": "590558cb-66f6-41d1-d151-d571dc60e4aa"
      },
      "execution_count": null,
      "outputs": [
        {
          "output_type": "execute_result",
          "data": {
            "text/plain": [
              "np.int64(90)"
            ]
          },
          "metadata": {},
          "execution_count": 30
        }
      ]
    },
    {
      "cell_type": "code",
      "source": [
        "sum.item()"
      ],
      "metadata": {
        "colab": {
          "base_uri": "https://localhost:8080/"
        },
        "id": "t1m0alMHgiQM",
        "outputId": "f578544b-fae0-48ae-9a1a-f34ed8647614"
      },
      "execution_count": null,
      "outputs": [
        {
          "output_type": "execute_result",
          "data": {
            "text/plain": [
              "90"
            ]
          },
          "metadata": {},
          "execution_count": 31
        }
      ]
    },
    {
      "cell_type": "code",
      "source": [
        "mean"
      ],
      "metadata": {
        "colab": {
          "base_uri": "https://localhost:8080/"
        },
        "id": "-MpSCb1bg8lk",
        "outputId": "b991b901-c682-484a-c4f6-c09f6a26d07c"
      },
      "execution_count": null,
      "outputs": [
        {
          "output_type": "execute_result",
          "data": {
            "text/plain": [
              "np.float64(10.0)"
            ]
          },
          "metadata": {},
          "execution_count": 32
        }
      ]
    },
    {
      "cell_type": "code",
      "source": [
        "argmin"
      ],
      "metadata": {
        "colab": {
          "base_uri": "https://localhost:8080/"
        },
        "id": "d_3pwCSXg-BZ",
        "outputId": "4c8a0c71-329c-4f80-f277-1320c82d6868"
      },
      "execution_count": null,
      "outputs": [
        {
          "output_type": "execute_result",
          "data": {
            "text/plain": [
              "np.int64(0)"
            ]
          },
          "metadata": {},
          "execution_count": 33
        }
      ]
    },
    {
      "cell_type": "code",
      "source": [
        "argmax"
      ],
      "metadata": {
        "colab": {
          "base_uri": "https://localhost:8080/"
        },
        "id": "8xdd-Fo2g_3_",
        "outputId": "8f4878a1-2d3e-4801-987c-dbdd1aabe81a"
      },
      "execution_count": null,
      "outputs": [
        {
          "output_type": "execute_result",
          "data": {
            "text/plain": [
              "np.int64(8)"
            ]
          },
          "metadata": {},
          "execution_count": 34
        }
      ]
    },
    {
      "cell_type": "code",
      "source": [
        "# axis along which operation is done will have final shape of 1\n",
        "np.sum(a, axis=0)    # only 1 row will remain finally (sum across rows)\n",
        "np.sum(a, axis=1)    # only 1 column will remain finally (sum across columns)"
      ],
      "metadata": {
        "id": "Lq533--3hBAJ"
      },
      "execution_count": null,
      "outputs": []
    },
    {
      "cell_type": "code",
      "source": [
        "a"
      ],
      "metadata": {
        "id": "aDwdaaXAhHJd",
        "outputId": "2c5267ba-243d-4cba-9ac3-b86f45335ed4",
        "colab": {
          "base_uri": "https://localhost:8080/"
        }
      },
      "execution_count": 5,
      "outputs": [
        {
          "output_type": "execute_result",
          "data": {
            "text/plain": [
              "array([[1, 2],\n",
              "       [3, 4]])"
            ]
          },
          "metadata": {},
          "execution_count": 5
        }
      ]
    },
    {
      "cell_type": "code",
      "source": [
        "np.sum(a, axis=0)"
      ],
      "metadata": {
        "id": "4IkG2Hndotwy",
        "outputId": "c1982d5e-ba3d-4b20-a3c4-3345ac938d61",
        "colab": {
          "base_uri": "https://localhost:8080/"
        }
      },
      "execution_count": 6,
      "outputs": [
        {
          "output_type": "execute_result",
          "data": {
            "text/plain": [
              "array([4, 6])"
            ]
          },
          "metadata": {},
          "execution_count": 6
        }
      ]
    },
    {
      "cell_type": "code",
      "source": [
        "np.sum(a, axis=1)"
      ],
      "metadata": {
        "id": "mBp0_uFco9Fo",
        "outputId": "af338e3d-9625-4f91-c2d4-e5260eee440a",
        "colab": {
          "base_uri": "https://localhost:8080/"
        }
      },
      "execution_count": 7,
      "outputs": [
        {
          "output_type": "execute_result",
          "data": {
            "text/plain": [
              "array([3, 7])"
            ]
          },
          "metadata": {},
          "execution_count": 7
        }
      ]
    },
    {
      "cell_type": "code",
      "source": [],
      "metadata": {
        "id": "3bcnqh87pA5Y"
      },
      "execution_count": null,
      "outputs": []
    },
    {
      "cell_type": "code",
      "source": [
        "# 3. Broadcasting\n",
        "a = np.array([[1, 2], [3, 4]])\n",
        "b = np.array([10, 20])\n",
        "a + b"
      ],
      "metadata": {
        "colab": {
          "base_uri": "https://localhost:8080/"
        },
        "id": "wpR8o0RahHgo",
        "outputId": "de45fef2-d704-4fbd-c27d-d15d99915235"
      },
      "execution_count": 4,
      "outputs": [
        {
          "output_type": "execute_result",
          "data": {
            "text/plain": [
              "array([[11, 22],\n",
              "       [13, 24]])"
            ]
          },
          "metadata": {},
          "execution_count": 4
        }
      ]
    },
    {
      "cell_type": "code",
      "source": [
        "# 4. Comparison & Boolean Operations\n",
        "a = np.array([[1, 2], [3, 4]])\n",
        "a > 2             # Element-wise comparison → boolean array\n",
        "np.where(a > 2, 1, 0)  # Conditional values\n",
        "np.any(a > 2)     # At least one True?\n",
        "np.all(a > 2)"
      ],
      "metadata": {
        "colab": {
          "base_uri": "https://localhost:8080/"
        },
        "id": "RHyjhyU8h_2Q",
        "outputId": "25c9426b-bd78-4bfa-f583-e377a6439ba6"
      },
      "execution_count": null,
      "outputs": [
        {
          "output_type": "execute_result",
          "data": {
            "text/plain": [
              "np.False_"
            ]
          },
          "metadata": {},
          "execution_count": 36
        }
      ]
    },
    {
      "cell_type": "code",
      "source": [
        "a>2"
      ],
      "metadata": {
        "colab": {
          "base_uri": "https://localhost:8080/"
        },
        "id": "HKwmL6DViImN",
        "outputId": "90ff0813-4e49-4d64-ce59-7bc6946ce2cb"
      },
      "execution_count": null,
      "outputs": [
        {
          "output_type": "execute_result",
          "data": {
            "text/plain": [
              "array([[False, False],\n",
              "       [ True,  True]])"
            ]
          },
          "metadata": {},
          "execution_count": 37
        }
      ]
    },
    {
      "cell_type": "code",
      "source": [
        "# np.where(Condition, True, False)\n",
        "np.where(a > 2, 1, 0)"
      ],
      "metadata": {
        "colab": {
          "base_uri": "https://localhost:8080/"
        },
        "id": "1pfG0wYjiPm1",
        "outputId": "316b3f7e-25f8-40d9-a2f4-8b0565a3d565"
      },
      "execution_count": null,
      "outputs": [
        {
          "output_type": "execute_result",
          "data": {
            "text/plain": [
              "array([[0, 0],\n",
              "       [1, 1]])"
            ]
          },
          "metadata": {},
          "execution_count": 38
        }
      ]
    },
    {
      "cell_type": "code",
      "source": [
        "np.any(a > 2)"
      ],
      "metadata": {
        "colab": {
          "base_uri": "https://localhost:8080/"
        },
        "id": "OMPHDXW0iWky",
        "outputId": "ad475caf-6c80-449a-c422-a894d9a65389"
      },
      "execution_count": null,
      "outputs": [
        {
          "output_type": "execute_result",
          "data": {
            "text/plain": [
              "np.True_"
            ]
          },
          "metadata": {},
          "execution_count": 39
        }
      ]
    },
    {
      "cell_type": "code",
      "source": [
        "np.all(a > 2)"
      ],
      "metadata": {
        "colab": {
          "base_uri": "https://localhost:8080/"
        },
        "id": "TLlmDGNwij7O",
        "outputId": "7442a636-244f-4c22-ae79-07b49e226c17"
      },
      "execution_count": null,
      "outputs": [
        {
          "output_type": "execute_result",
          "data": {
            "text/plain": [
              "np.False_"
            ]
          },
          "metadata": {},
          "execution_count": 40
        }
      ]
    },
    {
      "cell_type": "code",
      "source": [
        "np.dot(a, b)"
      ],
      "metadata": {
        "id": "E8D8vyR4imHU",
        "outputId": "c4f1124b-804e-41c0-9ac7-ca5db2d499e4",
        "colab": {
          "base_uri": "https://localhost:8080/"
        }
      },
      "execution_count": 8,
      "outputs": [
        {
          "output_type": "execute_result",
          "data": {
            "text/plain": [
              "array([ 50, 110])"
            ]
          },
          "metadata": {},
          "execution_count": 8
        }
      ]
    },
    {
      "cell_type": "code",
      "source": [
        "a @ b"
      ],
      "metadata": {
        "id": "82laorJhqMiZ",
        "outputId": "34117578-4701-4a80-aa70-9990d5eb3494",
        "colab": {
          "base_uri": "https://localhost:8080/"
        }
      },
      "execution_count": 9,
      "outputs": [
        {
          "output_type": "execute_result",
          "data": {
            "text/plain": [
              "array([ 50, 110])"
            ]
          },
          "metadata": {},
          "execution_count": 9
        }
      ]
    },
    {
      "cell_type": "code",
      "source": [
        "# 5. Matrix Operations\n",
        "a = np.array([[1, 2], [3, 4]])\n",
        "b = np.array([10, 20])\n",
        "\n",
        "# use dot only with 1D arrays not for n>=2 arrays or bmm\n",
        "np.dot(a, b)         # Dot product\n",
        "\n",
        "# use @ or matmul for n>=2 matrix multiplications\n",
        "a @ b                # Same as dot\n",
        "np.matmul(a, b)      # Matrix multiplication\n",
        "\n",
        "\n",
        "np.transpose(a)      # Transpose\n",
        "np.linalg.inv(a)     # Inverse\n",
        "np.linalg.det(a)     # Determinant"
      ],
      "metadata": {
        "colab": {
          "base_uri": "https://localhost:8080/",
          "height": 108
        },
        "id": "Y5suV5ieip9y",
        "outputId": "0aeb690e-1448-4d3f-d988-0fafa8e938a8"
      },
      "execution_count": null,
      "outputs": [
        {
          "output_type": "error",
          "ename": "SyntaxError",
          "evalue": "invalid syntax (<ipython-input-41-e3a083ea4a3f>, line 1)",
          "traceback": [
            "\u001b[0;36m  File \u001b[0;32m\"<ipython-input-41-e3a083ea4a3f>\"\u001b[0;36m, line \u001b[0;32m1\u001b[0m\n\u001b[0;31m    5. Matrix Operations\u001b[0m\n\u001b[0m       ^\u001b[0m\n\u001b[0;31mSyntaxError\u001b[0m\u001b[0;31m:\u001b[0m invalid syntax\n"
          ]
        }
      ]
    },
    {
      "cell_type": "code",
      "source": [
        "# batch matrix multiplication\n",
        "a = np.ones([9, 5, 7, 4])\n",
        "c = np.ones([9, 5, 4, 3])\n",
        "np.matmul(a, c).shape"
      ],
      "metadata": {
        "colab": {
          "base_uri": "https://localhost:8080/"
        },
        "id": "ZPYfdcQcuI0f",
        "outputId": "f567b77f-bcc5-4eec-e02a-d9ba75d4d1db"
      },
      "execution_count": null,
      "outputs": [
        {
          "output_type": "execute_result",
          "data": {
            "text/plain": [
              "(9, 5, 7, 3)"
            ]
          },
          "metadata": {},
          "execution_count": 54
        }
      ]
    },
    {
      "cell_type": "code",
      "source": [
        "# matrix-matrix multiplication\n",
        "a = np.array([[1, 0],\n",
        "              [0, 1]])\n",
        "b = np.array([[4, 1],\n",
        "              [2, 2]])\n",
        "np.matmul(a, b)"
      ],
      "metadata": {
        "colab": {
          "base_uri": "https://localhost:8080/"
        },
        "id": "72AnmnamtTQc",
        "outputId": "6b9edcaf-0b5f-4841-d71a-90856b73b06c"
      },
      "execution_count": null,
      "outputs": [
        {
          "output_type": "execute_result",
          "data": {
            "text/plain": [
              "array([[4, 1],\n",
              "       [2, 2]])"
            ]
          },
          "metadata": {},
          "execution_count": 48
        }
      ]
    },
    {
      "cell_type": "code",
      "source": [
        "# For 2-D mixed with 1-D, the result is the usual.\n",
        "# matrix * vector\n",
        "a = np.array([[1, 0],\n",
        "              [0, 1]])\n",
        "b = np.array([1, 2])\n",
        "np.matmul(a, b)"
      ],
      "metadata": {
        "colab": {
          "base_uri": "https://localhost:8080/"
        },
        "id": "Hs2mAaHitkZd",
        "outputId": "718e2acb-2277-4848-e73c-932521977c71"
      },
      "execution_count": null,
      "outputs": [
        {
          "output_type": "execute_result",
          "data": {
            "text/plain": [
              "array([1, 2])"
            ]
          },
          "metadata": {},
          "execution_count": 51
        }
      ]
    },
    {
      "cell_type": "code",
      "source": [
        "# vector * matrix\n",
        "np.matmul(b, a)"
      ],
      "metadata": {
        "colab": {
          "base_uri": "https://localhost:8080/"
        },
        "id": "kS-fvU4ztqA3",
        "outputId": "7c47f2d0-f3e3-469f-886c-a270ba820ec5"
      },
      "execution_count": null,
      "outputs": [
        {
          "output_type": "execute_result",
          "data": {
            "text/plain": [
              "array([1, 2])"
            ]
          },
          "metadata": {},
          "execution_count": 50
        }
      ]
    },
    {
      "cell_type": "code",
      "source": [],
      "metadata": {
        "id": "o50ZDErXtuaI"
      },
      "execution_count": null,
      "outputs": []
    },
    {
      "cell_type": "code",
      "source": [
        "# Broadcasting is conventional for stacks of arrays\n",
        "a = np.arange(2 * 2 * 4).reshape((2, 2, 4))\n",
        "b = np.arange(2 * 2 * 4).reshape((2, 4, 2))\n",
        "np.matmul(a,b).shape"
      ],
      "metadata": {
        "colab": {
          "base_uri": "https://localhost:8080/"
        },
        "id": "RIjXJcyctpib",
        "outputId": "d86c5b71-815d-4eeb-c1f2-737ea17a667c"
      },
      "execution_count": null,
      "outputs": [
        {
          "output_type": "execute_result",
          "data": {
            "text/plain": [
              "(2, 2, 2)"
            ]
          },
          "metadata": {},
          "execution_count": 52
        }
      ]
    },
    {
      "cell_type": "markdown",
      "source": [
        "Shapes a × b\tResult Shape\tNotes\n",
        "- (3, 4) × (4, 5)\t= (3, 5) Basic matrix product\n",
        "- (10, 3, 4) × (10, 4, 5) =\t(10, 3, 5)\t      Batch product\n",
        "- (1, 3, 4) × (10, 4, 5) =\t(10, 3, 5)\t      a broadcast to 10 batches\n",
        "- (8, 1, 3, 4) × (1, 6, 4, 5) =\t(8, 6, 3, 5)\tMulti-dimensional broadcasting"
      ],
      "metadata": {
        "id": "xx_4eShDzXjy"
      }
    },
    {
      "cell_type": "code",
      "source": [
        "a = np.array([[1, 2], [3, 4]])\n",
        "b = np.array([10, 20])\n",
        "np.dot(a, b)"
      ],
      "metadata": {
        "colab": {
          "base_uri": "https://localhost:8080/"
        },
        "id": "_Pbdw830iqNR",
        "outputId": "04c7ff00-5d49-41a1-f976-cb5efcbf1640"
      },
      "execution_count": null,
      "outputs": [
        {
          "output_type": "execute_result",
          "data": {
            "text/plain": [
              "array([ 50, 110])"
            ]
          },
          "metadata": {},
          "execution_count": 42
        }
      ]
    },
    {
      "cell_type": "code",
      "source": [
        "a @ b"
      ],
      "metadata": {
        "colab": {
          "base_uri": "https://localhost:8080/"
        },
        "id": "v3ctTS_6i6a9",
        "outputId": "8cbfd363-ea61-472a-d8e5-8d9870cf519b"
      },
      "execution_count": null,
      "outputs": [
        {
          "output_type": "execute_result",
          "data": {
            "text/plain": [
              "array([ 50, 110])"
            ]
          },
          "metadata": {},
          "execution_count": 43
        }
      ]
    },
    {
      "cell_type": "code",
      "source": [
        "np.matmul(a, b)"
      ],
      "metadata": {
        "colab": {
          "base_uri": "https://localhost:8080/"
        },
        "id": "ZOKws7gzi76I",
        "outputId": "3b893fe8-a850-4212-ab98-dabb8d7ea1f7"
      },
      "execution_count": null,
      "outputs": [
        {
          "output_type": "execute_result",
          "data": {
            "text/plain": [
              "array([ 50, 110])"
            ]
          },
          "metadata": {},
          "execution_count": 44
        }
      ]
    },
    {
      "cell_type": "code",
      "source": [
        "np.transpose(a)"
      ],
      "metadata": {
        "colab": {
          "base_uri": "https://localhost:8080/"
        },
        "id": "vIVh6tbyi9DD",
        "outputId": "a771f1f3-c99f-4898-e3a8-c73e1594484d"
      },
      "execution_count": null,
      "outputs": [
        {
          "output_type": "execute_result",
          "data": {
            "text/plain": [
              "array([[1, 3],\n",
              "       [2, 4]])"
            ]
          },
          "metadata": {},
          "execution_count": 45
        }
      ]
    },
    {
      "cell_type": "code",
      "source": [
        "np.linalg.inv(a)"
      ],
      "metadata": {
        "colab": {
          "base_uri": "https://localhost:8080/"
        },
        "id": "iYuH2S8jjAtj",
        "outputId": "59e38b4b-afdf-4bb0-9da8-f24edcb4f814"
      },
      "execution_count": null,
      "outputs": [
        {
          "output_type": "execute_result",
          "data": {
            "text/plain": [
              "array([[-2. ,  1. ],\n",
              "       [ 1.5, -0.5]])"
            ]
          },
          "metadata": {},
          "execution_count": 46
        }
      ]
    },
    {
      "cell_type": "code",
      "source": [
        "np.linalg.det(a)"
      ],
      "metadata": {
        "colab": {
          "base_uri": "https://localhost:8080/"
        },
        "id": "f59qdGK1jC94",
        "outputId": "ebebded7-1352-41a1-9b0e-e503a71faf19"
      },
      "execution_count": null,
      "outputs": [
        {
          "output_type": "execute_result",
          "data": {
            "text/plain": [
              "np.float64(-2.0000000000000004)"
            ]
          },
          "metadata": {},
          "execution_count": 47
        }
      ]
    },
    {
      "cell_type": "code",
      "source": [],
      "metadata": {
        "id": "Z0jJX-BdjIwb"
      },
      "execution_count": null,
      "outputs": []
    },
    {
      "cell_type": "code",
      "source": [
        "# Numpy Linear Algebra fucntions\n",
        "import numpy as np\n",
        "\n",
        "A = np.array([[1, 2], [3, 4]])\n",
        "B = np.array([[5, 6], [7, 8]])\n",
        "b = np.array([1, 2])\n",
        "\n",
        "# -------------------------------\n",
        "# Norms & Rank\n",
        "# -------------------------------\n",
        "print(\"norm:\", np.linalg.norm(A))                    # Frobenius norm\n",
        "print(\"matrix_rank:\", np.linalg.matrix_rank(A))      # Rank\n",
        "print(\"cond:\", np.linalg.cond(A))                    # Condition number\n",
        "print(\"det:\", np.linalg.det(A))                      # Determinant\n",
        "print(\"slogdet:\", np.linalg.slogdet(A))              # Sign + log determinant"
      ],
      "metadata": {
        "colab": {
          "base_uri": "https://localhost:8080/"
        },
        "id": "G_JgI3P47JEy",
        "outputId": "ceae2a31-5f2c-4f42-af6c-b432863d887b"
      },
      "execution_count": null,
      "outputs": [
        {
          "output_type": "stream",
          "name": "stdout",
          "text": [
            "norm: 5.477225575051661\n",
            "matrix_rank: 2\n",
            "cond: 14.933034373659268\n",
            "det: -2.0000000000000004\n",
            "slogdet: SlogdetResult(sign=np.float64(-1.0), logabsdet=np.float64(0.6931471805599455))\n"
          ]
        }
      ]
    },
    {
      "cell_type": "markdown",
      "source": [
        "Summary Table for Matrix Norm\n",
        "\n",
        "ord,\tDescription,\tUse Case\n",
        "- None (default),\tFrobenius norm/\tGeneral matrix size\n",
        "- 1,\tMax column sum,\tStability/ condition number\n",
        "- np.inf,\tMax row sum,\tControl over row contributions\n",
        "- 2,\tSpectral norm,\tMax singular value / operator norm"
      ],
      "metadata": {
        "id": "19GpaNFc_4fe"
      }
    },
    {
      "cell_type": "code",
      "source": [
        "# -------------------------------\n",
        "# Solving Systems\n",
        "# -------------------------------\n",
        "x = np.linalg.solve(A, b)                            # Solve Ax = b\n",
        "print(\"solve:\", x)\n",
        "\n",
        "x_lstsq, *_ = np.linalg.lstsq(A, b, rcond=None)      # Least squares solution\n",
        "print(\"lstsq:\", x_lstsq)\n",
        "\n",
        "A_inv = np.linalg.inv(A)                             # Inverse\n",
        "print(\"inv:\", A_inv)\n",
        "\n",
        "A_pinv = np.linalg.pinv(A)                           # Pseudo-inverse\n",
        "print(\"pinv:\", A_pinv)"
      ],
      "metadata": {
        "colab": {
          "base_uri": "https://localhost:8080/"
        },
        "id": "VsIyw3WB7uNZ",
        "outputId": "832d5233-0b10-47f5-afcd-7b39e368be92"
      },
      "execution_count": null,
      "outputs": [
        {
          "output_type": "stream",
          "name": "stdout",
          "text": [
            "solve: [0.  0.5]\n",
            "lstsq: [1.10886662e-16 5.00000000e-01]\n",
            "inv: [[-2.   1. ]\n",
            " [ 1.5 -0.5]]\n",
            "pinv: [[-2.   1. ]\n",
            " [ 1.5 -0.5]]\n"
          ]
        }
      ]
    },
    {
      "cell_type": "code",
      "source": [
        "# -------------------------------\n",
        "# Eigenvalues / Eigenvectors\n",
        "# -------------------------------\n",
        "eig_vals, eig_vecs = np.linalg.eig(A)\n",
        "print(\"eigvals:\", eig_vals)\n",
        "print(\"eigvecs:\", eig_vecs)\n",
        "\n",
        "eigvals_only = np.linalg.eigvals(A)\n",
        "print(\"eigvals (only):\", eigvals_only)\n",
        "\n",
        "# Symmetric matrix for eigh\n",
        "# np.linalg.eig works for any square matrix (real or complex),\n",
        "# while np.linalg.eigh is optimized for symmetric (or Hermitian) matrices and is faster and more stable.\n",
        "S = np.array([[2, -1], [-1, 2]])\n",
        "evals, evecs = np.linalg.eigh(S)\n",
        "print(\"eigh vals:\", evals)\n",
        "print(\"eigh vecs:\", evecs)"
      ],
      "metadata": {
        "colab": {
          "base_uri": "https://localhost:8080/"
        },
        "id": "5O8axfzAAnWR",
        "outputId": "6d557a24-7a56-4575-e30c-a325690c2305"
      },
      "execution_count": null,
      "outputs": [
        {
          "output_type": "stream",
          "name": "stdout",
          "text": [
            "eigvals: [-0.37228132  5.37228132]\n",
            "eigvecs: [[-0.82456484 -0.41597356]\n",
            " [ 0.56576746 -0.90937671]]\n",
            "eigvals (only): [-0.37228132  5.37228132]\n",
            "eigh vals: [1. 3.]\n",
            "eigh vecs: [[-0.70710678 -0.70710678]\n",
            " [-0.70710678  0.70710678]]\n"
          ]
        }
      ]
    },
    {
      "cell_type": "code",
      "source": [
        "# -------------------------------\n",
        "# Decompositions\n",
        "# -------------------------------\n",
        "Q, R = np.linalg.qr(A)                                # QR decomposition\n",
        "print(\"Q:\\n\", Q)\n",
        "print(\"R:\\n\", R)\n",
        "\n",
        "U, S, Vt = np.linalg.svd(A)                           # SVD\n",
        "print(\"U:\\n\", U)\n",
        "print(\"S:\\n\", S)\n",
        "print(\"Vt:\\n\", Vt)"
      ],
      "metadata": {
        "colab": {
          "base_uri": "https://localhost:8080/"
        },
        "id": "u01R82FSBBuk",
        "outputId": "c6111be8-8503-4729-b179-37cfbaff9b65"
      },
      "execution_count": null,
      "outputs": [
        {
          "output_type": "stream",
          "name": "stdout",
          "text": [
            "Q:\n",
            " [[-0.31622777 -0.9486833 ]\n",
            " [-0.9486833   0.31622777]]\n",
            "R:\n",
            " [[-3.16227766 -4.42718872]\n",
            " [ 0.         -0.63245553]]\n",
            "U:\n",
            " [[-0.40455358 -0.9145143 ]\n",
            " [-0.9145143   0.40455358]]\n",
            "S:\n",
            " [5.4649857  0.36596619]\n",
            "Vt:\n",
            " [[-0.57604844 -0.81741556]\n",
            " [ 0.81741556 -0.57604844]]\n"
          ]
        }
      ]
    },
    {
      "cell_type": "code",
      "source": [
        "(-0.31622777)**2 + (-0.9486833)**2"
      ],
      "metadata": {
        "id": "DVE_frJvBoT7",
        "outputId": "888534ac-8ca0-44b6-a086-ee0a7f9a96ce",
        "colab": {
          "base_uri": "https://localhost:8080/"
        }
      },
      "execution_count": 24,
      "outputs": [
        {
          "output_type": "execute_result",
          "data": {
            "text/plain": [
              "1.000000006218063"
            ]
          },
          "metadata": {},
          "execution_count": 24
        }
      ]
    },
    {
      "cell_type": "code",
      "source": [
        "# 6. Reshaping & Manipulation\n",
        "\n",
        "# reshape creates a view of array if possible else copy\n",
        "a.reshape(2, 3)      # Reshape array\n",
        "# to get a copy after reshape we can do .copy()\n",
        "\n",
        "# flatten always copy the array\n",
        "a.flatten()          # 1D copy\n",
        "\n",
        "# ravel() always returns a new array object. However:\n",
        "# It returns a view (not a copy) if possible (i.e., if the array is already stored in contiguous memory).\n",
        "# It returns a copy if the view is not possible (e.g., slicing or non-contiguous layout).\n",
        "a.ravel()            # 1D view (no copy if possible)\n",
        "# to check if b is a view of a or not ?\n",
        "# b.base is a\n",
        "\n",
        "# What is arr.base?\n",
        "# arr.base is an attribute that points to the original array that owns the actual data buffer, if arr is a view of another array.\n",
        "# If arr owns its data (i.e., it’s not a view), then arr.base is None.\n",
        "# It helps you understand if an array shares data with another array (i.e., if it’s a view or a copy)\n",
        "\n",
        "# np.concatenate joins arrays along an existing axis, while np.stack creates a new axis during joining.\n",
        "np.concatenate([a, b], axis=0)  # Join along axis\n",
        "np.stack([a, b], axis=0)        # Stack into higher dimension"
      ],
      "metadata": {
        "id": "VZ0sD3XsCJNg"
      },
      "execution_count": null,
      "outputs": []
    },
    {
      "cell_type": "code",
      "source": [
        "import numpy as np\n",
        "\n",
        "a = np.array([[1, 2],\n",
        "              [3, 4]])\n",
        "\n",
        "b = np.array([[5, 6],\n",
        "              [7, 8]])"
      ],
      "metadata": {
        "id": "WbolNVQDD_75"
      },
      "execution_count": 40,
      "outputs": []
    },
    {
      "cell_type": "code",
      "source": [
        "c = np.concatenate([a, b], axis=0)"
      ],
      "metadata": {
        "id": "ntOIK8vSxQVa"
      },
      "execution_count": 51,
      "outputs": []
    },
    {
      "cell_type": "code",
      "source": [
        "s = np.stack([a, b], axis=0)"
      ],
      "metadata": {
        "id": "8iMd_fRSxV3g"
      },
      "execution_count": 48,
      "outputs": []
    },
    {
      "cell_type": "code",
      "source": [
        "a.shape"
      ],
      "metadata": {
        "id": "-rpmPuDKxbL_",
        "outputId": "21900905-f217-41d7-ea5e-0f8740ecbd27",
        "colab": {
          "base_uri": "https://localhost:8080/"
        }
      },
      "execution_count": 43,
      "outputs": [
        {
          "output_type": "execute_result",
          "data": {
            "text/plain": [
              "(2, 2)"
            ]
          },
          "metadata": {},
          "execution_count": 43
        }
      ]
    },
    {
      "cell_type": "code",
      "source": [
        "b.shape"
      ],
      "metadata": {
        "id": "6Md0ce59xdPJ",
        "outputId": "91f58a76-6de9-4487-8366-6545637574dc",
        "colab": {
          "base_uri": "https://localhost:8080/"
        }
      },
      "execution_count": 44,
      "outputs": [
        {
          "output_type": "execute_result",
          "data": {
            "text/plain": [
              "(2, 2)"
            ]
          },
          "metadata": {},
          "execution_count": 44
        }
      ]
    },
    {
      "cell_type": "code",
      "source": [
        "s.shape"
      ],
      "metadata": {
        "id": "knSPKxFlxfl_",
        "outputId": "9dc3c85c-bb96-46eb-eb4f-8031ca1b62a2",
        "colab": {
          "base_uri": "https://localhost:8080/"
        }
      },
      "execution_count": 49,
      "outputs": [
        {
          "output_type": "execute_result",
          "data": {
            "text/plain": [
              "(2, 2, 2)"
            ]
          },
          "metadata": {},
          "execution_count": 49
        }
      ]
    },
    {
      "cell_type": "code",
      "source": [
        "c.shape"
      ],
      "metadata": {
        "id": "QkYXuDeixe24",
        "outputId": "9fdbe318-e3d3-430f-d2fe-17f527e7f3bd",
        "colab": {
          "base_uri": "https://localhost:8080/"
        }
      },
      "execution_count": 52,
      "outputs": [
        {
          "output_type": "execute_result",
          "data": {
            "text/plain": [
              "(4, 2)"
            ]
          },
          "metadata": {},
          "execution_count": 52
        }
      ]
    },
    {
      "cell_type": "code",
      "source": [
        "# Along axis=0 (vertical stack) v0\n",
        "c0 = np.concatenate((a, b), axis=0)\n",
        "print(c0)\n",
        "# Shape: (4, 2)\n",
        "\n",
        "# Along axis=1 (horizontal stack) h1\n",
        "c1 = np.concatenate((a, b), axis=1)\n",
        "print(c1)\n",
        "# Shape: (2, 4)"
      ],
      "metadata": {
        "colab": {
          "base_uri": "https://localhost:8080/"
        },
        "id": "pP3OrEJSEEjr",
        "outputId": "a9514e35-b5c1-4d3d-84fa-02b17e3838df"
      },
      "execution_count": null,
      "outputs": [
        {
          "output_type": "stream",
          "name": "stdout",
          "text": [
            "[[1 2]\n",
            " [3 4]\n",
            " [5 6]\n",
            " [7 8]]\n",
            "[[1 2 5 6]\n",
            " [3 4 7 8]]\n"
          ]
        }
      ]
    },
    {
      "cell_type": "code",
      "source": [
        "# Stack along a new axis=0\n",
        "s0 = np.stack((a, b), axis=0)\n",
        "# s0[i][j][k] == [a, b][i][j][k]\n",
        "print(s0)\n",
        "print(s0.shape)  # (2, 2, 2)\n",
        "print('\\n')\n",
        "\n",
        "# Stack along axis=1\n",
        "s1 = np.stack((a, b), axis=1)\n",
        "# s1[i][0] = a[i]\n",
        "# s1[i][1] = b[i]\n",
        "# s1[i][j][k] == [a[i], b[i]][j][k]\n",
        "print(s1)\n",
        "print(s1.shape)  # (2, 2, 2)\n",
        "print('\\n')\n",
        "\n",
        "# Stack along axis=2\n",
        "# s2[i][j][0] = a[i][j]\n",
        "# s2[i][j][1] = b[i][j]\n",
        "# s2[i][j][k] == [a[i][j], b[i][j]][k]\n",
        "s2 = np.stack((a, b), axis=2)\n",
        "print(s2)\n",
        "print(s2.shape)  # (2, 2, 2)\n",
        "print('\\n')"
      ],
      "metadata": {
        "colab": {
          "base_uri": "https://localhost:8080/"
        },
        "id": "WwJUvJkaELO0",
        "outputId": "ee543a85-b089-466a-e1eb-7acddc65be62"
      },
      "execution_count": null,
      "outputs": [
        {
          "output_type": "stream",
          "name": "stdout",
          "text": [
            "[[[1 2]\n",
            "  [3 4]]\n",
            "\n",
            " [[5 6]\n",
            "  [7 8]]]\n",
            "(2, 2, 2)\n",
            "\n",
            "\n",
            "[[[1 2]\n",
            "  [5 6]]\n",
            "\n",
            " [[3 4]\n",
            "  [7 8]]]\n",
            "(2, 2, 2)\n",
            "\n",
            "\n",
            "[[[1 5]\n",
            "  [2 6]]\n",
            "\n",
            " [[3 7]\n",
            "  [4 8]]]\n",
            "(2, 2, 2)\n",
            "\n",
            "\n"
          ]
        }
      ]
    },
    {
      "cell_type": "code",
      "source": [],
      "metadata": {
        "id": "9M7iSR2JEMGa"
      },
      "execution_count": null,
      "outputs": []
    },
    {
      "cell_type": "code",
      "source": [
        "# Horizontal stack — behaves like concatenate with axis=1 for 2D arrays\n",
        "h = np.hstack((a, b))\n",
        "print(h)"
      ],
      "metadata": {
        "id": "6sQWP3AMLYfF",
        "outputId": "06924909-9d85-449a-9b8c-1d846cb92d83",
        "colab": {
          "base_uri": "https://localhost:8080/"
        }
      },
      "execution_count": 53,
      "outputs": [
        {
          "output_type": "stream",
          "name": "stdout",
          "text": [
            "[[1 2 5 6]\n",
            " [3 4 7 8]]\n"
          ]
        }
      ]
    },
    {
      "cell_type": "code",
      "source": [
        "# Vertical stack — behaves like concatenate with axis=0:\n",
        "v = np.vstack((a, b))\n",
        "print(v)"
      ],
      "metadata": {
        "id": "a7MKBPvaLdEB",
        "outputId": "1c8da7fc-bb7e-4148-d8f7-f944afcb3b69",
        "colab": {
          "base_uri": "https://localhost:8080/"
        }
      },
      "execution_count": 54,
      "outputs": [
        {
          "output_type": "stream",
          "name": "stdout",
          "text": [
            "[[1 2]\n",
            " [3 4]\n",
            " [5 6]\n",
            " [7 8]]\n"
          ]
        }
      ]
    },
    {
      "cell_type": "code",
      "source": [
        "v.shape"
      ],
      "metadata": {
        "id": "yMVJsjr4z-_A",
        "outputId": "ae903524-ffa6-477e-a370-a967cd6a1623",
        "colab": {
          "base_uri": "https://localhost:8080/"
        }
      },
      "execution_count": 55,
      "outputs": [
        {
          "output_type": "execute_result",
          "data": {
            "text/plain": [
              "(4, 2)"
            ]
          },
          "metadata": {},
          "execution_count": 55
        }
      ]
    },
    {
      "cell_type": "code",
      "source": [
        "# Depth stack — stacks along a new 3rd axis:\n",
        "d = np.dstack((a, b))\n",
        "print(d)"
      ],
      "metadata": {
        "id": "WkKlkMpdLi1B"
      },
      "execution_count": null,
      "outputs": []
    },
    {
      "cell_type": "code",
      "source": [],
      "metadata": {
        "id": "i50GtYSKL-4T"
      },
      "execution_count": null,
      "outputs": []
    },
    {
      "cell_type": "code",
      "source": [
        "a = np.array([[1, 2],\n",
        "              [3, 4]])"
      ],
      "metadata": {
        "id": "dv4ftozbMARy"
      },
      "execution_count": 25,
      "outputs": []
    },
    {
      "cell_type": "code",
      "source": [
        "b = a.flatten()"
      ],
      "metadata": {
        "id": "9zQ0jmhjMBAf"
      },
      "execution_count": 26,
      "outputs": []
    },
    {
      "cell_type": "code",
      "source": [
        "b"
      ],
      "metadata": {
        "id": "08NH2F1Ev-2B",
        "outputId": "6d4f1247-56a4-4366-9e74-027626d7fcb8",
        "colab": {
          "base_uri": "https://localhost:8080/"
        }
      },
      "execution_count": 27,
      "outputs": [
        {
          "output_type": "execute_result",
          "data": {
            "text/plain": [
              "array([1, 2, 3, 4])"
            ]
          },
          "metadata": {},
          "execution_count": 27
        }
      ]
    },
    {
      "cell_type": "code",
      "source": [
        "b.base is a"
      ],
      "metadata": {
        "colab": {
          "base_uri": "https://localhost:8080/"
        },
        "id": "UYPJED59NriL",
        "outputId": "6214f302-24e1-4b7f-80f3-22ba9d6d2dcb"
      },
      "execution_count": 28,
      "outputs": [
        {
          "output_type": "execute_result",
          "data": {
            "text/plain": [
              "False"
            ]
          },
          "metadata": {},
          "execution_count": 28
        }
      ]
    },
    {
      "cell_type": "code",
      "source": [
        "c = a.ravel()"
      ],
      "metadata": {
        "id": "0Oogij5jMDbF"
      },
      "execution_count": 29,
      "outputs": []
    },
    {
      "cell_type": "code",
      "source": [
        "c.base is a"
      ],
      "metadata": {
        "colab": {
          "base_uri": "https://localhost:8080/"
        },
        "id": "ZTQ6Z-M6NpPH",
        "outputId": "c4e74cb8-b768-4dba-d0c1-c3429b720a94"
      },
      "execution_count": 30,
      "outputs": [
        {
          "output_type": "execute_result",
          "data": {
            "text/plain": [
              "True"
            ]
          },
          "metadata": {},
          "execution_count": 30
        }
      ]
    },
    {
      "cell_type": "code",
      "source": [
        "c"
      ],
      "metadata": {
        "id": "sZLaM6BEwDeH",
        "outputId": "c92c2701-b957-44ce-fee6-5699e96c8d1e",
        "colab": {
          "base_uri": "https://localhost:8080/"
        }
      },
      "execution_count": 31,
      "outputs": [
        {
          "output_type": "execute_result",
          "data": {
            "text/plain": [
              "array([1, 2, 3, 4])"
            ]
          },
          "metadata": {},
          "execution_count": 31
        }
      ]
    },
    {
      "cell_type": "code",
      "source": [
        "c[0]=10"
      ],
      "metadata": {
        "id": "eCzMFf2DMHDy"
      },
      "execution_count": 32,
      "outputs": []
    },
    {
      "cell_type": "code",
      "source": [
        "a"
      ],
      "metadata": {
        "colab": {
          "base_uri": "https://localhost:8080/"
        },
        "id": "oWMXDXpFMHv3",
        "outputId": "b598ccac-d114-45be-844d-0260fbd876d9"
      },
      "execution_count": 33,
      "outputs": [
        {
          "output_type": "execute_result",
          "data": {
            "text/plain": [
              "array([[10,  2],\n",
              "       [ 3,  4]])"
            ]
          },
          "metadata": {},
          "execution_count": 33
        }
      ]
    },
    {
      "cell_type": "code",
      "source": [
        "a = np.array([[1, 2], [3, 4]])\n",
        "a_T = a.T   # Transpose: not C-contiguous, transpose returns a view of original array\n",
        "b = np.ravel(a_T) # since transpose is not contiguous, b is a view of a\n",
        "b[0] = 99\n",
        "print(a_T)    # a is NOT changed"
      ],
      "metadata": {
        "colab": {
          "base_uri": "https://localhost:8080/"
        },
        "id": "k-dCOfwfMKAg",
        "outputId": "056820d2-dc18-4dc4-ea7e-c39998974b1a"
      },
      "execution_count": 34,
      "outputs": [
        {
          "output_type": "stream",
          "name": "stdout",
          "text": [
            "[[1 3]\n",
            " [2 4]]\n"
          ]
        }
      ]
    },
    {
      "cell_type": "code",
      "source": [
        "a_T.base is a"
      ],
      "metadata": {
        "colab": {
          "base_uri": "https://localhost:8080/"
        },
        "id": "UAvTmIr9NTFX",
        "outputId": "fedb9419-8377-433c-9532-8ac6a8505c75"
      },
      "execution_count": 35,
      "outputs": [
        {
          "output_type": "execute_result",
          "data": {
            "text/plain": [
              "True"
            ]
          },
          "metadata": {},
          "execution_count": 35
        }
      ]
    },
    {
      "cell_type": "code",
      "source": [
        "a_T[0] = 22"
      ],
      "metadata": {
        "id": "Mc9rLkQswS0w"
      },
      "execution_count": 36,
      "outputs": []
    },
    {
      "cell_type": "code",
      "source": [
        "a"
      ],
      "metadata": {
        "id": "0wYXA2XQwVSo",
        "outputId": "f7ccc075-4a98-41f7-d712-dd879be257ce",
        "colab": {
          "base_uri": "https://localhost:8080/"
        }
      },
      "execution_count": 37,
      "outputs": [
        {
          "output_type": "execute_result",
          "data": {
            "text/plain": [
              "array([[22,  2],\n",
              "       [22,  4]])"
            ]
          },
          "metadata": {},
          "execution_count": 37
        }
      ]
    },
    {
      "cell_type": "code",
      "source": [
        "b.base is a"
      ],
      "metadata": {
        "colab": {
          "base_uri": "https://localhost:8080/"
        },
        "id": "oO7emXlJNTDB",
        "outputId": "b65b50db-5f50-4188-9551-57aa2c25b03e"
      },
      "execution_count": null,
      "outputs": [
        {
          "output_type": "execute_result",
          "data": {
            "text/plain": [
              "False"
            ]
          },
          "metadata": {},
          "execution_count": 87
        }
      ]
    },
    {
      "cell_type": "code",
      "source": [
        "b.base is a_T"
      ],
      "metadata": {
        "colab": {
          "base_uri": "https://localhost:8080/"
        },
        "id": "8cqFIHFcNTBA",
        "outputId": "2eae6ee7-5e5a-42cb-ae44-c2aec09eb645"
      },
      "execution_count": null,
      "outputs": [
        {
          "output_type": "execute_result",
          "data": {
            "text/plain": [
              "False"
            ]
          },
          "metadata": {},
          "execution_count": 88
        }
      ]
    },
    {
      "cell_type": "markdown",
      "source": [
        "**Quick Rules:**\n",
        "- Basic slicing and views:\n",
        " Simple slicing operations like arr[1:5], arr[:, 2] create views.\n",
        "\n",
        "- Advanced indexing creates copies:\n",
        "Indexing with lists or boolean masks always returns copies.\n",
        "\n",
        "- reshape and ravel:\n",
        "Return views if the memory layout allows, else copies.\n",
        "\n",
        "- Transpose and axis manipulation:\n",
        "Usually return views since they just change strides, not the underlying data."
      ],
      "metadata": {
        "id": "Mem0P3uDUz6Y"
      }
    },
    {
      "cell_type": "code",
      "source": [],
      "metadata": {
        "id": "1iImHZnFMU8D"
      },
      "execution_count": null,
      "outputs": []
    },
    {
      "cell_type": "code",
      "source": [
        "# 7.Sorting\n",
        "np.sort(a)           # Returns sorted array\n",
        "a.sort(axis=0)       # Sorts in-place\n",
        "np.argsort(a)        # Indices that would sort the array"
      ],
      "metadata": {
        "id": "AXJmtZp0MVMp"
      },
      "execution_count": null,
      "outputs": []
    },
    {
      "cell_type": "code",
      "source": [],
      "metadata": {
        "id": "gWZ2pqirMXYa"
      },
      "execution_count": null,
      "outputs": []
    },
    {
      "cell_type": "code",
      "source": [
        "# 8. Set Operations\n",
        "np.unique(a)         # Unique values\n",
        "np.intersect1d(a, b) # Intersection\n",
        "np.union1d(a, b)     # Union\n",
        "np.setdiff1d(a, b)   # In a but not in b"
      ],
      "metadata": {
        "id": "6TwCwUzCMXpO"
      },
      "execution_count": null,
      "outputs": []
    },
    {
      "cell_type": "code",
      "source": [],
      "metadata": {
        "id": "ajukd2mhMYbD"
      },
      "execution_count": null,
      "outputs": []
    },
    {
      "cell_type": "code",
      "source": [
        "# 9. Indexing and Slicing\n",
        "a[0, 1]              # Access element\n",
        "a[:, 1]              # Column slicing\n",
        "a[1:3, :]            # Row slice\n",
        "a[a > 2]             # Boolean indexing"
      ],
      "metadata": {
        "id": "7kLWgGLAMYZJ"
      },
      "execution_count": null,
      "outputs": []
    },
    {
      "cell_type": "code",
      "source": [
        "a"
      ],
      "metadata": {
        "colab": {
          "base_uri": "https://localhost:8080/"
        },
        "id": "UlqAkujwVZUz",
        "outputId": "d4f7c75c-535f-4bc6-ab58-ce36849e703f"
      },
      "execution_count": 56,
      "outputs": [
        {
          "output_type": "execute_result",
          "data": {
            "text/plain": [
              "array([[1, 2],\n",
              "       [3, 4]])"
            ]
          },
          "metadata": {},
          "execution_count": 56
        }
      ]
    },
    {
      "cell_type": "code",
      "source": [
        "a[0, 1]"
      ],
      "metadata": {
        "colab": {
          "base_uri": "https://localhost:8080/"
        },
        "id": "YNtDbcreMYW-",
        "outputId": "5b3d8e8a-ce03-43a7-cfdf-17b84e2e215f"
      },
      "execution_count": null,
      "outputs": [
        {
          "output_type": "execute_result",
          "data": {
            "text/plain": [
              "np.int64(2)"
            ]
          },
          "metadata": {},
          "execution_count": 91
        }
      ]
    },
    {
      "cell_type": "code",
      "source": [
        "a[0][1]"
      ],
      "metadata": {
        "colab": {
          "base_uri": "https://localhost:8080/"
        },
        "id": "p9humigpMYVh",
        "outputId": "5340e291-5aaa-4fe5-e818-55f6fa1ed2f5"
      },
      "execution_count": null,
      "outputs": [
        {
          "output_type": "execute_result",
          "data": {
            "text/plain": [
              "np.int64(2)"
            ]
          },
          "metadata": {},
          "execution_count": 93
        }
      ]
    },
    {
      "cell_type": "code",
      "source": [
        "a[:, 1]"
      ],
      "metadata": {
        "colab": {
          "base_uri": "https://localhost:8080/"
        },
        "id": "VI0Xl_ibMYS2",
        "outputId": "6cc88005-0477-41e7-d871-7d88b08b7c5e"
      },
      "execution_count": null,
      "outputs": [
        {
          "output_type": "execute_result",
          "data": {
            "text/plain": [
              "array([2, 4])"
            ]
          },
          "metadata": {},
          "execution_count": 95
        }
      ]
    },
    {
      "cell_type": "code",
      "source": [
        "b = a[0:2, 1]"
      ],
      "metadata": {
        "id": "2I2X0AfJVbiF"
      },
      "execution_count": null,
      "outputs": []
    },
    {
      "cell_type": "code",
      "source": [
        "b.base is a"
      ],
      "metadata": {
        "colab": {
          "base_uri": "https://localhost:8080/"
        },
        "id": "hXazwAKGV0x2",
        "outputId": "64341ba3-ea60-4995-e56d-8553531ec61d"
      },
      "execution_count": null,
      "outputs": [
        {
          "output_type": "execute_result",
          "data": {
            "text/plain": [
              "True"
            ]
          },
          "metadata": {},
          "execution_count": 102
        }
      ]
    },
    {
      "cell_type": "code",
      "source": [
        "b = a[a > 2]"
      ],
      "metadata": {
        "id": "RI_MDC3wVgd-"
      },
      "execution_count": 57,
      "outputs": []
    },
    {
      "cell_type": "code",
      "source": [
        "b.base is a"
      ],
      "metadata": {
        "colab": {
          "base_uri": "https://localhost:8080/"
        },
        "id": "UFFteZucVszw",
        "outputId": "8cb0efec-03ff-435c-e695-e4d37b936872"
      },
      "execution_count": null,
      "outputs": [
        {
          "output_type": "execute_result",
          "data": {
            "text/plain": [
              "False"
            ]
          },
          "metadata": {},
          "execution_count": 100
        }
      ]
    },
    {
      "cell_type": "code",
      "source": [
        "b"
      ],
      "metadata": {
        "id": "pQvlk3scVwHk",
        "outputId": "a6b3fcd8-b4ba-4c49-9af5-bee2c464b5f0",
        "colab": {
          "base_uri": "https://localhost:8080/"
        }
      },
      "execution_count": 58,
      "outputs": [
        {
          "output_type": "execute_result",
          "data": {
            "text/plain": [
              "array([3, 4])"
            ]
          },
          "metadata": {},
          "execution_count": 58
        }
      ]
    },
    {
      "cell_type": "code",
      "source": [],
      "metadata": {
        "id": "MANF6FEd04lR"
      },
      "execution_count": null,
      "outputs": []
    },
    {
      "cell_type": "code",
      "source": [
        "import numpy as np\n",
        "\n",
        "a = np.array([[1, 2, 3], [4, 5, 6]])  # shape (2, 3)\n",
        "b = np.expand_dims(a, axis=0)  # shape (1, 3)"
      ],
      "metadata": {
        "id": "3qSnl9CvWby4"
      },
      "execution_count": null,
      "outputs": []
    },
    {
      "cell_type": "code",
      "source": [
        "a.shape"
      ],
      "metadata": {
        "colab": {
          "base_uri": "https://localhost:8080/"
        },
        "id": "7oIdDDPWWbw6",
        "outputId": "46a7b097-19fe-474c-bdaf-a785aeb231bc"
      },
      "execution_count": null,
      "outputs": [
        {
          "output_type": "execute_result",
          "data": {
            "text/plain": [
              "(2, 3)"
            ]
          },
          "metadata": {},
          "execution_count": 108
        }
      ]
    },
    {
      "cell_type": "code",
      "source": [
        "b.shape"
      ],
      "metadata": {
        "colab": {
          "base_uri": "https://localhost:8080/"
        },
        "id": "m7VEpN7cWbu_",
        "outputId": "10c78e59-8fb4-42de-81da-215804520ba2"
      },
      "execution_count": null,
      "outputs": [
        {
          "output_type": "execute_result",
          "data": {
            "text/plain": [
              "(1, 2, 3)"
            ]
          },
          "metadata": {},
          "execution_count": 109
        }
      ]
    },
    {
      "cell_type": "code",
      "source": [
        "b"
      ],
      "metadata": {
        "colab": {
          "base_uri": "https://localhost:8080/"
        },
        "id": "xnzWz7SoWbt0",
        "outputId": "1a06e6c5-7b38-4e24-bc1a-72f1a82cc9ef"
      },
      "execution_count": null,
      "outputs": [
        {
          "output_type": "execute_result",
          "data": {
            "text/plain": [
              "array([[[1, 2, 3],\n",
              "        [4, 5, 6]]])"
            ]
          },
          "metadata": {},
          "execution_count": 110
        }
      ]
    },
    {
      "cell_type": "code",
      "source": [
        "b = np.expand_dims(a, axis=1)  # shape (1, 3)\n",
        "b"
      ],
      "metadata": {
        "colab": {
          "base_uri": "https://localhost:8080/"
        },
        "id": "dgyeZBhHWbs8",
        "outputId": "ac2ee3be-9c30-4951-e1d0-1b66e2d52eca"
      },
      "execution_count": null,
      "outputs": [
        {
          "output_type": "execute_result",
          "data": {
            "text/plain": [
              "array([[[1, 2, 3]],\n",
              "\n",
              "       [[4, 5, 6]]])"
            ]
          },
          "metadata": {},
          "execution_count": 114
        }
      ]
    },
    {
      "cell_type": "code",
      "source": [
        "b = np.expand_dims(a, axis=2)\n",
        "b"
      ],
      "metadata": {
        "colab": {
          "base_uri": "https://localhost:8080/"
        },
        "id": "x2irye7BWbmX",
        "outputId": "fbcbfc70-3500-4744-a25e-f578f902f14e"
      },
      "execution_count": null,
      "outputs": [
        {
          "output_type": "execute_result",
          "data": {
            "text/plain": [
              "array([[[1],\n",
              "        [2],\n",
              "        [3]],\n",
              "\n",
              "       [[4],\n",
              "        [5],\n",
              "        [6]]])"
            ]
          },
          "metadata": {},
          "execution_count": 113
        }
      ]
    },
    {
      "cell_type": "code",
      "source": [],
      "metadata": {
        "id": "IszISWk1ZCxZ"
      },
      "execution_count": null,
      "outputs": []
    },
    {
      "cell_type": "code",
      "source": [
        "a = np.array([[1, 2, 3],\n",
        "              [4, 5, 6]])  # shape (2, 3)\n",
        "\n",
        "b = np.swapaxes(a, 0, 1)  # shape (3, 2)"
      ],
      "metadata": {
        "id": "hGY9PQoIZIhy"
      },
      "execution_count": null,
      "outputs": []
    },
    {
      "cell_type": "code",
      "source": [
        "b"
      ],
      "metadata": {
        "colab": {
          "base_uri": "https://localhost:8080/"
        },
        "id": "joP3w-I5ZIfb",
        "outputId": "b88668c0-6004-4f00-d79a-dd86567d4ed2"
      },
      "execution_count": null,
      "outputs": [
        {
          "output_type": "execute_result",
          "data": {
            "text/plain": [
              "array([[1, 4],\n",
              "       [2, 5],\n",
              "       [3, 6]])"
            ]
          },
          "metadata": {},
          "execution_count": 116
        }
      ]
    },
    {
      "cell_type": "code",
      "source": [],
      "metadata": {
        "id": "73xiTS_CZIdP"
      },
      "execution_count": null,
      "outputs": []
    },
    {
      "cell_type": "code",
      "source": [
        "a = np.ones((1, 3, 1, 5))\n",
        "b = np.squeeze(a)   #remove axes of length 1 from a\n",
        "b"
      ],
      "metadata": {
        "colab": {
          "base_uri": "https://localhost:8080/"
        },
        "id": "5jRoc3RBZIa5",
        "outputId": "9db22b93-3922-4d48-f73a-b730aa361f3a"
      },
      "execution_count": null,
      "outputs": [
        {
          "output_type": "execute_result",
          "data": {
            "text/plain": [
              "array([[1., 1., 1., 1., 1.],\n",
              "       [1., 1., 1., 1., 1.],\n",
              "       [1., 1., 1., 1., 1.]])"
            ]
          },
          "metadata": {},
          "execution_count": 117
        }
      ]
    },
    {
      "cell_type": "code",
      "source": [
        "a"
      ],
      "metadata": {
        "colab": {
          "base_uri": "https://localhost:8080/"
        },
        "id": "VKqOHazvZIY0",
        "outputId": "1db178ae-7477-4cbd-9525-5c40732a4fd1"
      },
      "execution_count": null,
      "outputs": [
        {
          "output_type": "execute_result",
          "data": {
            "text/plain": [
              "array([[[[1., 1., 1., 1., 1.]],\n",
              "\n",
              "        [[1., 1., 1., 1., 1.]],\n",
              "\n",
              "        [[1., 1., 1., 1., 1.]]]])"
            ]
          },
          "metadata": {},
          "execution_count": 118
        }
      ]
    },
    {
      "cell_type": "code",
      "source": [],
      "metadata": {
        "id": "L0U0yM1kZIUr"
      },
      "execution_count": null,
      "outputs": []
    },
    {
      "cell_type": "code",
      "source": [],
      "metadata": {
        "id": "WOwFpd_CZISS"
      },
      "execution_count": null,
      "outputs": []
    }
  ]
}